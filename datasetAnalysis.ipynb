{
 "cells": [
  {
   "cell_type": "markdown",
   "id": "81d5619ae32d75d",
   "metadata": {},
   "source": [
    "# Imports"
   ]
  },
  {
   "cell_type": "code",
   "execution_count": null,
   "id": "initial_id",
   "metadata": {
    "ExecuteTime": {
     "end_time": "2024-10-18T16:59:31.518083Z",
     "start_time": "2024-10-18T16:59:25.324442Z"
    },
    "collapsed": true
   },
   "outputs": [],
   "source": [
    "import numpy as np \n",
    "import pandas as pd \n",
    "import matplotlib.pyplot as plt \n",
    "import tensorflow as tf"
   ]
  },
  {
   "cell_type": "code",
   "execution_count": 2,
   "id": "94411d9584dc732",
   "metadata": {
    "ExecuteTime": {
     "end_time": "2024-10-18T16:59:38.264682Z",
     "start_time": "2024-10-18T16:59:31.522093Z"
    }
   },
   "outputs": [],
   "source": [
    "df=pd.read_parquet(\"data/fhvhv_tripdata_2023-01.parquet\")"
   ]
  },
  {
   "cell_type": "code",
   "execution_count": null,
   "id": "98097a94b55a7bdb",
   "metadata": {
    "ExecuteTime": {
     "end_time": "2024-10-18T16:59:46.033125Z",
     "start_time": "2024-10-18T16:59:46.010995Z"
    }
   },
   "outputs": [],
   "source": [
    "df.head()"
   ]
  },
  {
   "cell_type": "code",
   "execution_count": null,
   "id": "20d578298c2413d9",
   "metadata": {
    "ExecuteTime": {
     "end_time": "2024-10-18T16:59:48.724897Z",
     "start_time": "2024-10-18T16:59:48.701349Z"
    }
   },
   "outputs": [],
   "source": [
    "df.info()"
   ]
  },
  {
   "cell_type": "markdown",
   "id": "95b89785b7039b0b",
   "metadata": {},
   "source": [
    "# Data Cleanup / Preprocessing"
   ]
  },
  {
   "cell_type": "code",
   "execution_count": 5,
   "id": "5dea8bfed4e6cfbd",
   "metadata": {
    "ExecuteTime": {
     "end_time": "2024-10-18T16:59:51.660867Z",
     "start_time": "2024-10-18T16:59:48.775273Z"
    }
   },
   "outputs": [],
   "source": [
    "# Remove Null Values\n",
    "df.dropna(inplace=True)"
   ]
  },
  {
   "cell_type": "code",
   "execution_count": 6,
   "id": "b7870d237ac75932",
   "metadata": {
    "ExecuteTime": {
     "end_time": "2024-10-18T16:59:51.851819Z",
     "start_time": "2024-10-18T16:59:51.662371Z"
    }
   },
   "outputs": [],
   "source": [
    "# Drop unused columns\n",
    "df.drop(['hvfhs_license_num','dispatching_base_num','originating_base_num','base_passenger_fare','tolls','bcf','sales_tax','congestion_surcharge','airport_fee','tips','driver_pay','shared_match_flag','shared_request_flag','access_a_ride_flag','wav_match_flag','wav_request_flag'],axis=1, inplace=True)"
   ]
  },
  {
   "cell_type": "code",
   "execution_count": 7,
   "id": "613fa105c616a54b",
   "metadata": {
    "ExecuteTime": {
     "end_time": "2024-10-18T16:59:52.383222Z",
     "start_time": "2024-10-18T16:59:51.865842Z"
    }
   },
   "outputs": [],
   "source": [
    "# Get time of day in terms of percentage\n",
    "#df['start_time'] = (df['request_datetime'].dt.hour + (df['request_datetime'].dt.minute / 60)) / 24\n",
    "# Switch to hourly\n",
    "df['start_hour'] = df['request_datetime'].dt.hour"
   ]
  },
  {
   "cell_type": "code",
   "execution_count": 8,
   "id": "e78a0e485c99c77c",
   "metadata": {
    "ExecuteTime": {
     "end_time": "2024-10-18T16:59:52.999055Z",
     "start_time": "2024-10-18T16:59:52.396632Z"
    }
   },
   "outputs": [],
   "source": [
    "# Also consider cyclic day of the week\n",
    "df['week'] = df['request_datetime'].dt.isocalendar().week\n",
    "df['weekday'] = df['request_datetime'].dt.dayofweek"
   ]
  },
  {
   "cell_type": "code",
   "execution_count": null,
   "id": "2fb1879438bba08f",
   "metadata": {
    "ExecuteTime": {
     "end_time": "2024-10-18T16:59:53.027516Z",
     "start_time": "2024-10-18T16:59:53.014250Z"
    }
   },
   "outputs": [],
   "source": [
    "df.info()"
   ]
  },
  {
   "cell_type": "code",
   "execution_count": 10,
   "id": "8be77e43",
   "metadata": {},
   "outputs": [],
   "source": [
    "hourly_counts = df.groupby(['start_hour', 'weekday', 'week', 'PULocationID']).size().reset_index(name='count')"
   ]
  },
  {
   "cell_type": "code",
   "execution_count": null,
   "id": "7b409bb4",
   "metadata": {},
   "outputs": [],
   "source": [
    "hourly_counts.head()"
   ]
  },
  {
   "cell_type": "code",
   "execution_count": 12,
   "id": "5178c2b1",
   "metadata": {},
   "outputs": [],
   "source": [
    "pivot_df = hourly_counts.pivot_table(\n",
    "    index=['week','weekday','start_hour'],\n",
    "    columns='PULocationID',\n",
    "    values='count',\n",
    "    fill_value=0\n",
    ")"
   ]
  },
  {
   "cell_type": "code",
   "execution_count": 13,
   "id": "8d106fb7",
   "metadata": {},
   "outputs": [],
   "source": [
    "# Reset index for further processing\n",
    "pivot_df = pivot_df.reset_index()"
   ]
  },
  {
   "cell_type": "code",
   "execution_count": null,
   "id": "f9fd2118",
   "metadata": {},
   "outputs": [],
   "source": [
    "pivot_df.head()"
   ]
  },
  {
   "cell_type": "code",
   "execution_count": null,
   "id": "93db64b8",
   "metadata": {},
   "outputs": [],
   "source": [
    "pivot_df.info()"
   ]
  },
  {
   "cell_type": "code",
   "execution_count": 16,
   "id": "b722e4e1",
   "metadata": {},
   "outputs": [],
   "source": [
    "pivot_df.to_csv(\"data/processed.csv\")"
   ]
  },
  {
   "cell_type": "markdown",
   "id": "e29875481c046e76",
   "metadata": {},
   "source": [
    "# Visualization"
   ]
  },
  {
   "cell_type": "code",
   "execution_count": null,
   "id": "dfaec2cf9ceee97e",
   "metadata": {
    "ExecuteTime": {
     "end_time": "2024-10-18T16:59:54.462934Z",
     "start_time": "2024-10-18T16:59:53.103241Z"
    }
   },
   "outputs": [],
   "source": [
    "plt.figure(figsize=(15,6))\n",
    "df['PULocationID'].value_counts(sort=False).sort_index().plot(kind='bar')\n",
    "plt.xlabel(\"Start Area\")\n",
    "plt.ylabel(\"Count\")\n",
    "plt.show()"
   ]
  },
  {
   "cell_type": "code",
   "execution_count": null,
   "id": "d4dc765e33ba8498",
   "metadata": {
    "ExecuteTime": {
     "end_time": "2024-10-18T16:59:54.868638Z",
     "start_time": "2024-10-18T16:59:54.496976Z"
    }
   },
   "outputs": [],
   "source": [
    "plt.figure(figsize=(15,6))\n",
    "df['request_datetime'].dt.hour.value_counts(sort=False).sort_index().plot(kind='bar')\n",
    "plt.xlabel(\"Hour\")\n",
    "plt.ylabel(\"Count\")\n",
    "plt.show()"
   ]
  },
  {
   "cell_type": "code",
   "execution_count": null,
   "id": "228d3b5ab5d3ea8d",
   "metadata": {
    "ExecuteTime": {
     "end_time": "2024-10-18T16:59:55.229553Z",
     "start_time": "2024-10-18T16:59:54.872645Z"
    }
   },
   "outputs": [],
   "source": [
    "plt.figure(figsize=(15,6))\n",
    "df['request_datetime'].dt.dayofweek.value_counts(sort=False).sort_index().plot(kind='bar')\n",
    "#df['request_datetime'].dt.day_name().value_counts(sort=False).plot(kind='bar')\n",
    "plt.xlabel(\"Day of week\")\n",
    "plt.ylabel(\"Count\")\n",
    "plt.show()"
   ]
  },
  {
   "cell_type": "markdown",
   "id": "2f766c2f",
   "metadata": {},
   "source": [
    "# Preprocessing Part 2"
   ]
  },
  {
   "cell_type": "code",
   "execution_count": 20,
   "id": "bad3b013",
   "metadata": {},
   "outputs": [],
   "source": [
    "df = pd.read_csv(\"data/processed.csv\")"
   ]
  },
  {
   "cell_type": "code",
   "execution_count": 21,
   "id": "854271f2",
   "metadata": {},
   "outputs": [],
   "source": [
    "df.drop(df.columns[0], axis=1, inplace=True)"
   ]
  },
  {
   "cell_type": "code",
   "execution_count": 22,
   "id": "bbd934ab",
   "metadata": {},
   "outputs": [],
   "source": [
    "df = df.astype(int)"
   ]
  },
  {
   "cell_type": "code",
   "execution_count": 23,
   "id": "6e6cf648",
   "metadata": {},
   "outputs": [],
   "source": [
    "df['counts'] = df.loc[:, '1':'265'].values.tolist()"
   ]
  },
  {
   "cell_type": "code",
   "execution_count": 24,
   "id": "708d783f",
   "metadata": {},
   "outputs": [],
   "source": [
    "df = df[['week','weekday','start_hour','counts']]"
   ]
  },
  {
   "cell_type": "code",
   "execution_count": 25,
   "id": "c93fda41",
   "metadata": {},
   "outputs": [],
   "source": [
    "# Convert time of day to cyclic features using sine and cosine\n",
    "df['start_time'] = round(df['start_hour'] / 24, 2)\n",
    "df['time_sin'] = np.sin(2 * np.pi * df['start_time'])\n",
    "df['time_cos'] = np.cos(2 * np.pi * df['start_time'])"
   ]
  },
  {
   "cell_type": "code",
   "execution_count": 26,
   "id": "dab0503b",
   "metadata": {},
   "outputs": [],
   "source": [
    "df['day_sin'] = np.sin(2 * np.pi * df['weekday'] / 7)\n",
    "df['day_cos'] = np.cos(2 * np.pi * df['weekday'] / 7)"
   ]
  },
  {
   "cell_type": "code",
   "execution_count": 27,
   "id": "fd09b91c",
   "metadata": {},
   "outputs": [],
   "source": [
    "df['week_sin'] = np.sin(2 * np.pi * df['week'] / 52)\n",
    "df['week_cos'] = np.cos(2 * np.pi * df['week'] / 52)"
   ]
  },
  {
   "cell_type": "code",
   "execution_count": null,
   "id": "9e392bfd",
   "metadata": {},
   "outputs": [],
   "source": [
    "df.head()"
   ]
  },
  {
   "cell_type": "code",
   "execution_count": null,
   "id": "de704b89",
   "metadata": {},
   "outputs": [],
   "source": [
    "df.info()"
   ]
  },
  {
   "cell_type": "markdown",
   "id": "7e1aae2b55666bf0",
   "metadata": {},
   "source": [
    "# Predicting Start Points"
   ]
  },
  {
   "cell_type": "code",
   "execution_count": 30,
   "id": "9fdd7c913f4ee3e3",
   "metadata": {
    "ExecuteTime": {
     "end_time": "2024-10-18T16:59:55.250229Z",
     "start_time": "2024-10-18T16:59:55.245216Z"
    }
   },
   "outputs": [],
   "source": [
    "features = ['time_sin','time_cos','day_sin','day_cos','week_sin','week_cos']\n",
    "targets = ['counts']"
   ]
  },
  {
   "cell_type": "code",
   "execution_count": 31,
   "id": "49c27b1411455269",
   "metadata": {
    "ExecuteTime": {
     "end_time": "2024-10-18T16:59:56.143770Z",
     "start_time": "2024-10-18T16:59:55.266352Z"
    }
   },
   "outputs": [],
   "source": [
    "from sklearn.model_selection import train_test_split"
   ]
  },
  {
   "cell_type": "code",
   "execution_count": 32,
   "id": "fc7b1784092b3252",
   "metadata": {
    "ExecuteTime": {
     "end_time": "2024-10-18T16:59:57.266291Z",
     "start_time": "2024-10-18T16:59:56.158747Z"
    }
   },
   "outputs": [],
   "source": [
    "X_train, X_test, y_train, y_test = train_test_split(df[features], df[targets], test_size=0.2, random_state=42)"
   ]
  },
  {
   "cell_type": "code",
   "execution_count": 33,
   "id": "f435c44be166de92",
   "metadata": {
    "ExecuteTime": {
     "end_time": "2024-10-18T16:59:57.291933Z",
     "start_time": "2024-10-18T16:59:57.287018Z"
    }
   },
   "outputs": [],
   "source": [
    "# Unloading the dataframe to save memory\n",
    "df = []\n",
    "hourly_counts = []\n",
    "pivot_df = []"
   ]
  },
  {
   "cell_type": "code",
   "execution_count": 35,
   "id": "b816329760d8ff5a",
   "metadata": {
    "ExecuteTime": {
     "end_time": "2024-10-18T16:59:57.744036Z",
     "start_time": "2024-10-18T16:59:57.725226Z"
    }
   },
   "outputs": [],
   "source": [
    "# Flattening the df from (x,1) to (x,)\n",
    "#y_train = y_train.values.flatten()\n",
    "#y_test = y_test.values.flatten()"
   ]
  },
  {
   "cell_type": "markdown",
   "id": "77d6cc74",
   "metadata": {},
   "source": [
    "1 am thoughts:\n",
    "\n",
    "I don't think the concept of entering the time and predicting the place where the ride will be from is a good idea\n",
    "\n",
    "Instead I think I should have an average of a small time period like 15 minutes and count the demand of each area\n",
    "then compare the model's accuracy with the top x% of demand of that area"
   ]
  },
  {
   "cell_type": "code",
   "execution_count": null,
   "id": "adc70f66d0a6c979",
   "metadata": {
    "ExecuteTime": {
     "end_time": "2024-10-18T16:59:59.424877Z",
     "start_time": "2024-10-18T16:59:59.350326Z"
    }
   },
   "outputs": [],
   "source": [
    "model = tf.keras.Sequential()\n",
    "\n",
    "# Input layer\n",
    "model.add(tf.keras.layers.InputLayer(input_shape=X_train.shape[1:]))\n",
    "\n",
    "# Hidden layers\n",
    "model.add(tf.keras.layers.Dense(256, activation='relu'))\n",
    "model.add(tf.keras.layers.Dropout(0.2))\n",
    "model.add(tf.keras.layers.Dense(128, activation='relu'))\n",
    "\n",
    "# Output layer (assuming 'n' distinct starting points to predict)\n",
    "model.add(tf.keras.layers.Dense(266, activation='softmax'))"
   ]
  },
  {
   "cell_type": "code",
   "execution_count": null,
   "id": "7d9516835bf34dfd",
   "metadata": {
    "ExecuteTime": {
     "end_time": "2024-10-18T16:59:59.539844Z",
     "start_time": "2024-10-18T16:59:59.509146Z"
    }
   },
   "outputs": [],
   "source": [
    "model.summary()"
   ]
  },
  {
   "cell_type": "code",
   "execution_count": null,
   "id": "2a681be585df909f",
   "metadata": {},
   "outputs": [],
   "source": [
    "model.compile(optimizer='adam',metrics=['accuracy'],loss='categorical_crossentropy')\n",
    "early_stopping = tf.keras.callbacks.EarlyStopping(monitor='val_loss', patience=10, restore_best_weights=True)\n",
    "history = model.fit(X_train, y_train, batch_size=100, epochs=1000, validation_data=(X_test, y_test), callbacks=[early_stopping], verbose=1)\n",
    "model.save('model.keras')"
   ]
  },
  {
   "cell_type": "code",
   "execution_count": null,
   "id": "687e67915670439",
   "metadata": {
    "ExecuteTime": {
     "end_time": "2024-10-18T17:41:17.009319Z",
     "start_time": "2024-10-18T17:41:16.817542Z"
    }
   },
   "outputs": [],
   "source": [
    "plt.plot(history.history['accuracy'], label='training accuracy')\n",
    "plt.plot(history.history['val_accuracy'], label='validation accuracy')\n",
    "plt.title('Accuracy')\n",
    "plt.xlabel('Epochs')\n",
    "plt.ylabel('Accuracy')\n",
    "plt.legend()\n",
    "plt.show()"
   ]
  },
  {
   "cell_type": "code",
   "execution_count": 35,
   "id": "3c6053696638e241",
   "metadata": {
    "ExecuteTime": {
     "end_time": "2024-10-18T17:43:38.136946Z",
     "start_time": "2024-10-18T17:43:38.043769Z"
    }
   },
   "outputs": [],
   "source": [
    "model = tf.keras.models.load_model('model.keras')"
   ]
  },
  {
   "cell_type": "code",
   "execution_count": null,
   "id": "b09dc437d82ec71",
   "metadata": {
    "ExecuteTime": {
     "end_time": "2024-10-18T17:44:06.181281Z",
     "start_time": "2024-10-18T17:43:39.607012Z"
    }
   },
   "outputs": [],
   "source": [
    "score = model.evaluate(X_test, y_test, verbose=0)\n",
    "print('Test loss:', score[0])\n",
    "print('Test accuracy:', score[1])"
   ]
  }
 ],
 "metadata": {
  "kernelspec": {
   "display_name": ".venv",
   "language": "python",
   "name": "python3"
  },
  "language_info": {
   "codemirror_mode": {
    "name": "ipython",
    "version": 3
   },
   "file_extension": ".py",
   "mimetype": "text/x-python",
   "name": "python",
   "nbconvert_exporter": "python",
   "pygments_lexer": "ipython3",
   "version": "3.12.6"
  }
 },
 "nbformat": 4,
 "nbformat_minor": 5
}
