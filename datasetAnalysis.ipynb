{
 "cells": [
  {
   "metadata": {},
   "cell_type": "markdown",
   "source": "# Imports",
   "id": "81d5619ae32d75d"
  },
  {
   "cell_type": "code",
   "id": "initial_id",
   "metadata": {
    "collapsed": true,
    "ExecuteTime": {
     "end_time": "2024-10-18T16:59:31.518083Z",
     "start_time": "2024-10-18T16:59:25.324442Z"
    }
   },
   "source": [
    "import numpy as np \n",
    "import pandas as pd \n",
    "import matplotlib.pyplot as plt \n",
    "import tensorflow as tf"
   ],
   "outputs": [],
   "execution_count": 1
  },
  {
   "metadata": {
    "ExecuteTime": {
     "end_time": "2024-10-18T16:59:38.264682Z",
     "start_time": "2024-10-18T16:59:31.522093Z"
    }
   },
   "cell_type": "code",
   "source": "df=pd.read_parquet(\"data/fhvhv_tripdata_2023-01.parquet\")",
   "id": "94411d9584dc732",
   "outputs": [],
   "execution_count": 2
  },
  {
   "metadata": {
    "ExecuteTime": {
     "end_time": "2024-10-18T16:59:43.319361Z",
     "start_time": "2024-10-18T16:59:40.786726Z"
    }
   },
   "cell_type": "code",
   "source": [
    "dfs = np.array_split(df, 2)\n",
    "df = dfs[0]"
   ],
   "id": "e13246c616baaa67",
   "outputs": [
    {
     "name": "stderr",
     "output_type": "stream",
     "text": [
      "C:\\Users\\ysc15\\miniconda3\\Lib\\site-packages\\numpy\\core\\fromnumeric.py:59: FutureWarning: 'DataFrame.swapaxes' is deprecated and will be removed in a future version. Please use 'DataFrame.transpose' instead.\n",
      "  return bound(*args, **kwds)\n"
     ]
    }
   ],
   "execution_count": 3
  },
  {
   "metadata": {
    "ExecuteTime": {
     "end_time": "2024-10-18T16:59:46.033125Z",
     "start_time": "2024-10-18T16:59:46.010995Z"
    }
   },
   "cell_type": "code",
   "source": "df.head()",
   "id": "98097a94b55a7bdb",
   "outputs": [
    {
     "data": {
      "text/plain": [
       "  hvfhs_license_num dispatching_base_num originating_base_num  \\\n",
       "0            HV0003               B03404               B03404   \n",
       "1            HV0003               B03404               B03404   \n",
       "2            HV0003               B03404               B03404   \n",
       "3            HV0003               B03404               B03404   \n",
       "4            HV0003               B03404               B03404   \n",
       "\n",
       "     request_datetime   on_scene_datetime     pickup_datetime  \\\n",
       "0 2023-01-01 00:18:06 2023-01-01 00:19:24 2023-01-01 00:19:38   \n",
       "1 2023-01-01 00:48:42 2023-01-01 00:56:20 2023-01-01 00:58:39   \n",
       "2 2023-01-01 00:15:35 2023-01-01 00:20:14 2023-01-01 00:20:27   \n",
       "3 2023-01-01 00:35:24 2023-01-01 00:39:30 2023-01-01 00:41:05   \n",
       "4 2023-01-01 00:43:15 2023-01-01 00:51:10 2023-01-01 00:52:47   \n",
       "\n",
       "     dropoff_datetime  PULocationID  DOLocationID  trip_miles  ...  sales_tax  \\\n",
       "0 2023-01-01 00:48:07            48            68        0.94  ...       2.30   \n",
       "1 2023-01-01 01:33:08           246           163        2.78  ...       5.34   \n",
       "2 2023-01-01 00:37:54             9           129        8.81  ...       2.16   \n",
       "3 2023-01-01 00:48:16           129           129        0.67  ...       1.22   \n",
       "4 2023-01-01 01:04:51           129            92        4.38  ...       1.82   \n",
       "\n",
       "   congestion_surcharge  airport_fee  tips  driver_pay  shared_request_flag  \\\n",
       "0                  2.75          0.0  5.22       27.83                    N   \n",
       "1                  2.75          0.0  0.00       50.15                    N   \n",
       "2                  0.00          0.0  0.00       20.22                    N   \n",
       "3                  0.00          0.0  0.00        7.90                    N   \n",
       "4                  0.00          0.0  0.00       16.48                    N   \n",
       "\n",
       "   shared_match_flag  access_a_ride_flag  wav_request_flag wav_match_flag  \n",
       "0                  N                                     N              N  \n",
       "1                  N                                     N              N  \n",
       "2                  N                                     N              N  \n",
       "3                  N                                     N              N  \n",
       "4                  N                                     N              N  \n",
       "\n",
       "[5 rows x 24 columns]"
      ],
      "text/html": [
       "<div>\n",
       "<style scoped>\n",
       "    .dataframe tbody tr th:only-of-type {\n",
       "        vertical-align: middle;\n",
       "    }\n",
       "\n",
       "    .dataframe tbody tr th {\n",
       "        vertical-align: top;\n",
       "    }\n",
       "\n",
       "    .dataframe thead th {\n",
       "        text-align: right;\n",
       "    }\n",
       "</style>\n",
       "<table border=\"1\" class=\"dataframe\">\n",
       "  <thead>\n",
       "    <tr style=\"text-align: right;\">\n",
       "      <th></th>\n",
       "      <th>hvfhs_license_num</th>\n",
       "      <th>dispatching_base_num</th>\n",
       "      <th>originating_base_num</th>\n",
       "      <th>request_datetime</th>\n",
       "      <th>on_scene_datetime</th>\n",
       "      <th>pickup_datetime</th>\n",
       "      <th>dropoff_datetime</th>\n",
       "      <th>PULocationID</th>\n",
       "      <th>DOLocationID</th>\n",
       "      <th>trip_miles</th>\n",
       "      <th>...</th>\n",
       "      <th>sales_tax</th>\n",
       "      <th>congestion_surcharge</th>\n",
       "      <th>airport_fee</th>\n",
       "      <th>tips</th>\n",
       "      <th>driver_pay</th>\n",
       "      <th>shared_request_flag</th>\n",
       "      <th>shared_match_flag</th>\n",
       "      <th>access_a_ride_flag</th>\n",
       "      <th>wav_request_flag</th>\n",
       "      <th>wav_match_flag</th>\n",
       "    </tr>\n",
       "  </thead>\n",
       "  <tbody>\n",
       "    <tr>\n",
       "      <th>0</th>\n",
       "      <td>HV0003</td>\n",
       "      <td>B03404</td>\n",
       "      <td>B03404</td>\n",
       "      <td>2023-01-01 00:18:06</td>\n",
       "      <td>2023-01-01 00:19:24</td>\n",
       "      <td>2023-01-01 00:19:38</td>\n",
       "      <td>2023-01-01 00:48:07</td>\n",
       "      <td>48</td>\n",
       "      <td>68</td>\n",
       "      <td>0.94</td>\n",
       "      <td>...</td>\n",
       "      <td>2.30</td>\n",
       "      <td>2.75</td>\n",
       "      <td>0.0</td>\n",
       "      <td>5.22</td>\n",
       "      <td>27.83</td>\n",
       "      <td>N</td>\n",
       "      <td>N</td>\n",
       "      <td></td>\n",
       "      <td>N</td>\n",
       "      <td>N</td>\n",
       "    </tr>\n",
       "    <tr>\n",
       "      <th>1</th>\n",
       "      <td>HV0003</td>\n",
       "      <td>B03404</td>\n",
       "      <td>B03404</td>\n",
       "      <td>2023-01-01 00:48:42</td>\n",
       "      <td>2023-01-01 00:56:20</td>\n",
       "      <td>2023-01-01 00:58:39</td>\n",
       "      <td>2023-01-01 01:33:08</td>\n",
       "      <td>246</td>\n",
       "      <td>163</td>\n",
       "      <td>2.78</td>\n",
       "      <td>...</td>\n",
       "      <td>5.34</td>\n",
       "      <td>2.75</td>\n",
       "      <td>0.0</td>\n",
       "      <td>0.00</td>\n",
       "      <td>50.15</td>\n",
       "      <td>N</td>\n",
       "      <td>N</td>\n",
       "      <td></td>\n",
       "      <td>N</td>\n",
       "      <td>N</td>\n",
       "    </tr>\n",
       "    <tr>\n",
       "      <th>2</th>\n",
       "      <td>HV0003</td>\n",
       "      <td>B03404</td>\n",
       "      <td>B03404</td>\n",
       "      <td>2023-01-01 00:15:35</td>\n",
       "      <td>2023-01-01 00:20:14</td>\n",
       "      <td>2023-01-01 00:20:27</td>\n",
       "      <td>2023-01-01 00:37:54</td>\n",
       "      <td>9</td>\n",
       "      <td>129</td>\n",
       "      <td>8.81</td>\n",
       "      <td>...</td>\n",
       "      <td>2.16</td>\n",
       "      <td>0.00</td>\n",
       "      <td>0.0</td>\n",
       "      <td>0.00</td>\n",
       "      <td>20.22</td>\n",
       "      <td>N</td>\n",
       "      <td>N</td>\n",
       "      <td></td>\n",
       "      <td>N</td>\n",
       "      <td>N</td>\n",
       "    </tr>\n",
       "    <tr>\n",
       "      <th>3</th>\n",
       "      <td>HV0003</td>\n",
       "      <td>B03404</td>\n",
       "      <td>B03404</td>\n",
       "      <td>2023-01-01 00:35:24</td>\n",
       "      <td>2023-01-01 00:39:30</td>\n",
       "      <td>2023-01-01 00:41:05</td>\n",
       "      <td>2023-01-01 00:48:16</td>\n",
       "      <td>129</td>\n",
       "      <td>129</td>\n",
       "      <td>0.67</td>\n",
       "      <td>...</td>\n",
       "      <td>1.22</td>\n",
       "      <td>0.00</td>\n",
       "      <td>0.0</td>\n",
       "      <td>0.00</td>\n",
       "      <td>7.90</td>\n",
       "      <td>N</td>\n",
       "      <td>N</td>\n",
       "      <td></td>\n",
       "      <td>N</td>\n",
       "      <td>N</td>\n",
       "    </tr>\n",
       "    <tr>\n",
       "      <th>4</th>\n",
       "      <td>HV0003</td>\n",
       "      <td>B03404</td>\n",
       "      <td>B03404</td>\n",
       "      <td>2023-01-01 00:43:15</td>\n",
       "      <td>2023-01-01 00:51:10</td>\n",
       "      <td>2023-01-01 00:52:47</td>\n",
       "      <td>2023-01-01 01:04:51</td>\n",
       "      <td>129</td>\n",
       "      <td>92</td>\n",
       "      <td>4.38</td>\n",
       "      <td>...</td>\n",
       "      <td>1.82</td>\n",
       "      <td>0.00</td>\n",
       "      <td>0.0</td>\n",
       "      <td>0.00</td>\n",
       "      <td>16.48</td>\n",
       "      <td>N</td>\n",
       "      <td>N</td>\n",
       "      <td></td>\n",
       "      <td>N</td>\n",
       "      <td>N</td>\n",
       "    </tr>\n",
       "  </tbody>\n",
       "</table>\n",
       "<p>5 rows × 24 columns</p>\n",
       "</div>"
      ]
     },
     "execution_count": 4,
     "metadata": {},
     "output_type": "execute_result"
    }
   ],
   "execution_count": 4
  },
  {
   "metadata": {
    "ExecuteTime": {
     "end_time": "2024-10-18T16:59:48.724897Z",
     "start_time": "2024-10-18T16:59:48.701349Z"
    }
   },
   "cell_type": "code",
   "source": "df.info()",
   "id": "20d578298c2413d9",
   "outputs": [
    {
     "name": "stdout",
     "output_type": "stream",
     "text": [
      "<class 'pandas.core.frame.DataFrame'>\n",
      "RangeIndex: 9239516 entries, 0 to 9239515\n",
      "Data columns (total 24 columns):\n",
      " #   Column                Dtype         \n",
      "---  ------                -----         \n",
      " 0   hvfhs_license_num     object        \n",
      " 1   dispatching_base_num  object        \n",
      " 2   originating_base_num  object        \n",
      " 3   request_datetime      datetime64[us]\n",
      " 4   on_scene_datetime     datetime64[us]\n",
      " 5   pickup_datetime       datetime64[us]\n",
      " 6   dropoff_datetime      datetime64[us]\n",
      " 7   PULocationID          int64         \n",
      " 8   DOLocationID          int64         \n",
      " 9   trip_miles            float64       \n",
      " 10  trip_time             int64         \n",
      " 11  base_passenger_fare   float64       \n",
      " 12  tolls                 float64       \n",
      " 13  bcf                   float64       \n",
      " 14  sales_tax             float64       \n",
      " 15  congestion_surcharge  float64       \n",
      " 16  airport_fee           float64       \n",
      " 17  tips                  float64       \n",
      " 18  driver_pay            float64       \n",
      " 19  shared_request_flag   object        \n",
      " 20  shared_match_flag     object        \n",
      " 21  access_a_ride_flag    object        \n",
      " 22  wav_request_flag      object        \n",
      " 23  wav_match_flag        object        \n",
      "dtypes: datetime64[us](4), float64(9), int64(3), object(8)\n",
      "memory usage: 1.7+ GB\n"
     ]
    }
   ],
   "execution_count": 5
  },
  {
   "metadata": {},
   "cell_type": "markdown",
   "source": "# Data Cleanup / Preprocessing",
   "id": "95b89785b7039b0b"
  },
  {
   "metadata": {
    "ExecuteTime": {
     "end_time": "2024-10-18T16:59:51.660867Z",
     "start_time": "2024-10-18T16:59:48.775273Z"
    }
   },
   "cell_type": "code",
   "source": [
    "# Remove Null Values\n",
    "df.dropna(inplace=True)"
   ],
   "id": "5dea8bfed4e6cfbd",
   "outputs": [],
   "execution_count": 6
  },
  {
   "metadata": {
    "ExecuteTime": {
     "end_time": "2024-10-18T16:59:51.851819Z",
     "start_time": "2024-10-18T16:59:51.662371Z"
    }
   },
   "cell_type": "code",
   "source": [
    "# Drop unused column\n",
    "df.drop(['hvfhs_license_num','dispatching_base_num','originating_base_num','base_passenger_fare','tolls','bcf','sales_tax','congestion_surcharge','airport_fee','tips','driver_pay','shared_match_flag','shared_request_flag','access_a_ride_flag','wav_match_flag','wav_request_flag'],axis=1, inplace=True)"
   ],
   "id": "b7870d237ac75932",
   "outputs": [],
   "execution_count": 7
  },
  {
   "metadata": {
    "ExecuteTime": {
     "end_time": "2024-10-18T16:59:52.383222Z",
     "start_time": "2024-10-18T16:59:51.865842Z"
    }
   },
   "cell_type": "code",
   "source": [
    "# Get time of day in terms of percentage\n",
    "df['start_time'] = (df['request_datetime'].dt.hour + (df['request_datetime'].dt.minute / 60)) / 24\n",
    "\n",
    "# Convert time of day to cyclic features using sine and cosine\n",
    "df['time_sin'] = np.sin(2 * np.pi * df['start_time'])\n",
    "df['time_cos'] = np.cos(2 * np.pi * df['start_time'])"
   ],
   "id": "613fa105c616a54b",
   "outputs": [],
   "execution_count": 8
  },
  {
   "metadata": {
    "ExecuteTime": {
     "end_time": "2024-10-18T16:59:52.999055Z",
     "start_time": "2024-10-18T16:59:52.396632Z"
    }
   },
   "cell_type": "code",
   "source": [
    "# Also consider cyclic day of the week\n",
    "df['day_sin'] = np.sin(2 * np.pi * df['request_datetime'].dt.dayofweek / 7)\n",
    "df['day_cos'] = np.cos(2 * np.pi * df['request_datetime'].dt.dayofweek / 7)"
   ],
   "id": "e78a0e485c99c77c",
   "outputs": [],
   "execution_count": 9
  },
  {
   "metadata": {
    "ExecuteTime": {
     "end_time": "2024-10-18T16:59:53.027516Z",
     "start_time": "2024-10-18T16:59:53.014250Z"
    }
   },
   "cell_type": "code",
   "source": "df.info()",
   "id": "2fb1879438bba08f",
   "outputs": [
    {
     "name": "stdout",
     "output_type": "stream",
     "text": [
      "<class 'pandas.core.frame.DataFrame'>\n",
      "Index: 6673128 entries, 0 to 9239515\n",
      "Data columns (total 13 columns):\n",
      " #   Column             Dtype         \n",
      "---  ------             -----         \n",
      " 0   request_datetime   datetime64[us]\n",
      " 1   on_scene_datetime  datetime64[us]\n",
      " 2   pickup_datetime    datetime64[us]\n",
      " 3   dropoff_datetime   datetime64[us]\n",
      " 4   PULocationID       int64         \n",
      " 5   DOLocationID       int64         \n",
      " 6   trip_miles         float64       \n",
      " 7   trip_time          int64         \n",
      " 8   start_time         float64       \n",
      " 9   time_sin           float64       \n",
      " 10  time_cos           float64       \n",
      " 11  day_sin            float64       \n",
      " 12  day_cos            float64       \n",
      "dtypes: datetime64[us](4), float64(6), int64(3)\n",
      "memory usage: 712.8 MB\n"
     ]
    }
   ],
   "execution_count": 10
  },
  {
   "metadata": {
    "ExecuteTime": {
     "end_time": "2024-10-18T16:59:53.056825Z",
     "start_time": "2024-10-18T16:59:53.042974Z"
    }
   },
   "cell_type": "code",
   "source": "df.head()",
   "id": "624d04636e97d00c",
   "outputs": [
    {
     "data": {
      "text/plain": [
       "     request_datetime   on_scene_datetime     pickup_datetime  \\\n",
       "0 2023-01-01 00:18:06 2023-01-01 00:19:24 2023-01-01 00:19:38   \n",
       "1 2023-01-01 00:48:42 2023-01-01 00:56:20 2023-01-01 00:58:39   \n",
       "2 2023-01-01 00:15:35 2023-01-01 00:20:14 2023-01-01 00:20:27   \n",
       "3 2023-01-01 00:35:24 2023-01-01 00:39:30 2023-01-01 00:41:05   \n",
       "4 2023-01-01 00:43:15 2023-01-01 00:51:10 2023-01-01 00:52:47   \n",
       "\n",
       "     dropoff_datetime  PULocationID  DOLocationID  trip_miles  trip_time  \\\n",
       "0 2023-01-01 00:48:07            48            68        0.94       1709   \n",
       "1 2023-01-01 01:33:08           246           163        2.78       2069   \n",
       "2 2023-01-01 00:37:54             9           129        8.81       1047   \n",
       "3 2023-01-01 00:48:16           129           129        0.67        431   \n",
       "4 2023-01-01 01:04:51           129            92        4.38        724   \n",
       "\n",
       "   start_time  time_sin  time_cos   day_sin  day_cos  \n",
       "0    0.012500  0.078459  0.996917 -0.781831  0.62349  \n",
       "1    0.033333  0.207912  0.978148 -0.781831  0.62349  \n",
       "2    0.010417  0.065403  0.997859 -0.781831  0.62349  \n",
       "3    0.024306  0.152123  0.988362 -0.781831  0.62349  \n",
       "4    0.029861  0.186524  0.982450 -0.781831  0.62349  "
      ],
      "text/html": [
       "<div>\n",
       "<style scoped>\n",
       "    .dataframe tbody tr th:only-of-type {\n",
       "        vertical-align: middle;\n",
       "    }\n",
       "\n",
       "    .dataframe tbody tr th {\n",
       "        vertical-align: top;\n",
       "    }\n",
       "\n",
       "    .dataframe thead th {\n",
       "        text-align: right;\n",
       "    }\n",
       "</style>\n",
       "<table border=\"1\" class=\"dataframe\">\n",
       "  <thead>\n",
       "    <tr style=\"text-align: right;\">\n",
       "      <th></th>\n",
       "      <th>request_datetime</th>\n",
       "      <th>on_scene_datetime</th>\n",
       "      <th>pickup_datetime</th>\n",
       "      <th>dropoff_datetime</th>\n",
       "      <th>PULocationID</th>\n",
       "      <th>DOLocationID</th>\n",
       "      <th>trip_miles</th>\n",
       "      <th>trip_time</th>\n",
       "      <th>start_time</th>\n",
       "      <th>time_sin</th>\n",
       "      <th>time_cos</th>\n",
       "      <th>day_sin</th>\n",
       "      <th>day_cos</th>\n",
       "    </tr>\n",
       "  </thead>\n",
       "  <tbody>\n",
       "    <tr>\n",
       "      <th>0</th>\n",
       "      <td>2023-01-01 00:18:06</td>\n",
       "      <td>2023-01-01 00:19:24</td>\n",
       "      <td>2023-01-01 00:19:38</td>\n",
       "      <td>2023-01-01 00:48:07</td>\n",
       "      <td>48</td>\n",
       "      <td>68</td>\n",
       "      <td>0.94</td>\n",
       "      <td>1709</td>\n",
       "      <td>0.012500</td>\n",
       "      <td>0.078459</td>\n",
       "      <td>0.996917</td>\n",
       "      <td>-0.781831</td>\n",
       "      <td>0.62349</td>\n",
       "    </tr>\n",
       "    <tr>\n",
       "      <th>1</th>\n",
       "      <td>2023-01-01 00:48:42</td>\n",
       "      <td>2023-01-01 00:56:20</td>\n",
       "      <td>2023-01-01 00:58:39</td>\n",
       "      <td>2023-01-01 01:33:08</td>\n",
       "      <td>246</td>\n",
       "      <td>163</td>\n",
       "      <td>2.78</td>\n",
       "      <td>2069</td>\n",
       "      <td>0.033333</td>\n",
       "      <td>0.207912</td>\n",
       "      <td>0.978148</td>\n",
       "      <td>-0.781831</td>\n",
       "      <td>0.62349</td>\n",
       "    </tr>\n",
       "    <tr>\n",
       "      <th>2</th>\n",
       "      <td>2023-01-01 00:15:35</td>\n",
       "      <td>2023-01-01 00:20:14</td>\n",
       "      <td>2023-01-01 00:20:27</td>\n",
       "      <td>2023-01-01 00:37:54</td>\n",
       "      <td>9</td>\n",
       "      <td>129</td>\n",
       "      <td>8.81</td>\n",
       "      <td>1047</td>\n",
       "      <td>0.010417</td>\n",
       "      <td>0.065403</td>\n",
       "      <td>0.997859</td>\n",
       "      <td>-0.781831</td>\n",
       "      <td>0.62349</td>\n",
       "    </tr>\n",
       "    <tr>\n",
       "      <th>3</th>\n",
       "      <td>2023-01-01 00:35:24</td>\n",
       "      <td>2023-01-01 00:39:30</td>\n",
       "      <td>2023-01-01 00:41:05</td>\n",
       "      <td>2023-01-01 00:48:16</td>\n",
       "      <td>129</td>\n",
       "      <td>129</td>\n",
       "      <td>0.67</td>\n",
       "      <td>431</td>\n",
       "      <td>0.024306</td>\n",
       "      <td>0.152123</td>\n",
       "      <td>0.988362</td>\n",
       "      <td>-0.781831</td>\n",
       "      <td>0.62349</td>\n",
       "    </tr>\n",
       "    <tr>\n",
       "      <th>4</th>\n",
       "      <td>2023-01-01 00:43:15</td>\n",
       "      <td>2023-01-01 00:51:10</td>\n",
       "      <td>2023-01-01 00:52:47</td>\n",
       "      <td>2023-01-01 01:04:51</td>\n",
       "      <td>129</td>\n",
       "      <td>92</td>\n",
       "      <td>4.38</td>\n",
       "      <td>724</td>\n",
       "      <td>0.029861</td>\n",
       "      <td>0.186524</td>\n",
       "      <td>0.982450</td>\n",
       "      <td>-0.781831</td>\n",
       "      <td>0.62349</td>\n",
       "    </tr>\n",
       "  </tbody>\n",
       "</table>\n",
       "</div>"
      ]
     },
     "execution_count": 11,
     "metadata": {},
     "output_type": "execute_result"
    }
   ],
   "execution_count": 11
  },
  {
   "metadata": {},
   "cell_type": "markdown",
   "source": "# Visualization",
   "id": "e29875481c046e76"
  },
  {
   "metadata": {
    "ExecuteTime": {
     "end_time": "2024-10-18T16:59:54.462934Z",
     "start_time": "2024-10-18T16:59:53.103241Z"
    }
   },
   "cell_type": "code",
   "source": [
    "plt.figure(figsize=(15,6))\n",
    "df['PULocationID'].value_counts(sort=False).sort_index().plot(kind='bar')\n",
    "plt.xlabel(\"Start Station\")\n",
    "plt.ylabel(\"Count\")\n",
    "plt.show()"
   ],
   "id": "dfaec2cf9ceee97e",
   "outputs": [
    {
     "data": {
      "text/plain": [
       "<Figure size 1500x600 with 1 Axes>"
      ],
      "image/png": "[encoded data removed]"
     },
     "metadata": {},
     "output_type": "display_data"
    }
   ],
   "execution_count": 12
  },
  {
   "metadata": {
    "ExecuteTime": {
     "end_time": "2024-10-18T16:59:54.868638Z",
     "start_time": "2024-10-18T16:59:54.496976Z"
    }
   },
   "cell_type": "code",
   "source": [
    "plt.figure(figsize=(15,6))\n",
    "df['request_datetime'].dt.hour.value_counts(sort=False).sort_index().plot(kind='bar')\n",
    "plt.xlabel(\"Hour\")\n",
    "plt.ylabel(\"Count\")\n",
    "plt.show()"
   ],
   "id": "d4dc765e33ba8498",
   "outputs": [
    {
     "data": {
      "text/plain": [
       "<Figure size 1500x600 with 1 Axes>"
      ],
      "image/png": "[encoded data removed]"
     },
     "metadata": {},
     "output_type": "display_data"
    }
   ],
   "execution_count": 13
  },
  {
   "metadata": {
    "ExecuteTime": {
     "end_time": "2024-10-18T16:59:55.229553Z",
     "start_time": "2024-10-18T16:59:54.872645Z"
    }
   },
   "cell_type": "code",
   "source": [
    "plt.figure(figsize=(15,6))\n",
    "df['request_datetime'].dt.dayofweek.value_counts(sort=False).sort_index().plot(kind='bar')\n",
    "plt.xlabel(\"Day of week\")\n",
    "plt.ylabel(\"Count\")\n",
    "plt.show()"
   ],
   "id": "228d3b5ab5d3ea8d",
   "outputs": [
    {
     "data": {
      "text/plain": [
       "<Figure size 1500x600 with 1 Axes>"
      ],
      "image/png": "[encoded data removed]"
     },
     "metadata": {},
     "output_type": "display_data"
    }
   ],
   "execution_count": 14
  },
  {
   "metadata": {},
   "cell_type": "markdown",
   "source": "# Predicting Start Points",
   "id": "7e1aae2b55666bf0"
  },
  {
   "metadata": {
    "ExecuteTime": {
     "end_time": "2024-10-18T16:59:55.250229Z",
     "start_time": "2024-10-18T16:59:55.245216Z"
    }
   },
   "cell_type": "code",
   "source": [
    "features = ['time_sin','time_cos','day_sin','day_cos']\n",
    "targets = ['PULocationID']"
   ],
   "id": "9fdd7c913f4ee3e3",
   "outputs": [],
   "execution_count": 15
  },
  {
   "metadata": {
    "ExecuteTime": {
     "end_time": "2024-10-18T16:59:56.143770Z",
     "start_time": "2024-10-18T16:59:55.266352Z"
    }
   },
   "cell_type": "code",
   "source": "from sklearn.model_selection import train_test_split",
   "id": "49c27b1411455269",
   "outputs": [],
   "execution_count": 16
  },
  {
   "metadata": {
    "ExecuteTime": {
     "end_time": "2024-10-18T16:59:57.266291Z",
     "start_time": "2024-10-18T16:59:56.158747Z"
    }
   },
   "cell_type": "code",
   "source": "X_train, X_test, y_train, y_test = train_test_split(df[features], df[targets], test_size=0.2, random_state=42)",
   "id": "fc7b1784092b3252",
   "outputs": [],
   "execution_count": 17
  },
  {
   "metadata": {
    "ExecuteTime": {
     "end_time": "2024-10-18T16:59:57.291933Z",
     "start_time": "2024-10-18T16:59:57.287018Z"
    }
   },
   "cell_type": "code",
   "source": "df = []",
   "id": "f435c44be166de92",
   "outputs": [],
   "execution_count": 18
  },
  {
   "metadata": {
    "ExecuteTime": {
     "end_time": "2024-10-18T16:59:57.313776Z",
     "start_time": "2024-10-18T16:59:57.309304Z"
    }
   },
   "cell_type": "code",
   "source": "from sklearn.preprocessing import StandardScaler",
   "id": "3f58f4a6f5e4efd2",
   "outputs": [],
   "execution_count": 19
  },
  {
   "metadata": {
    "ExecuteTime": {
     "end_time": "2024-10-18T16:59:57.709710Z",
     "start_time": "2024-10-18T16:59:57.329996Z"
    }
   },
   "cell_type": "code",
   "source": [
    "scaler = StandardScaler()\n",
    "X_train = scaler.fit_transform(X_train)\n",
    "X_test = scaler.transform(X_test)"
   ],
   "id": "70833acb2c691ec2",
   "outputs": [],
   "execution_count": 20
  },
  {
   "metadata": {
    "ExecuteTime": {
     "end_time": "2024-10-18T16:59:57.744036Z",
     "start_time": "2024-10-18T16:59:57.725226Z"
    }
   },
   "cell_type": "code",
   "source": [
    "y_train = y_train.values.flatten()\n",
    "y_test = y_test.values.flatten()"
   ],
   "id": "b816329760d8ff5a",
   "outputs": [],
   "execution_count": 21
  },
  {
   "metadata": {
    "ExecuteTime": {
     "end_time": "2024-10-18T16:59:57.783091Z",
     "start_time": "2024-10-18T16:59:57.757285Z"
    }
   },
   "cell_type": "code",
   "source": [
    "y_train = np.array(y_train).astype(int)\n",
    "y_test = np.array(y_test).astype(int)"
   ],
   "id": "ec1f8d57df226505",
   "outputs": [],
   "execution_count": 22
  },
  {
   "metadata": {
    "ExecuteTime": {
     "end_time": "2024-10-18T16:59:57.823457Z",
     "start_time": "2024-10-18T16:59:57.796900Z"
    }
   },
   "cell_type": "code",
   "source": "from tensorflow.keras.utils import to_categorical",
   "id": "ab8c226cd6c94251",
   "outputs": [],
   "execution_count": 23
  },
  {
   "metadata": {
    "ExecuteTime": {
     "end_time": "2024-10-18T16:59:58.128234Z",
     "start_time": "2024-10-18T16:59:57.834644Z"
    }
   },
   "cell_type": "code",
   "source": "y_test = to_categorical(y_test, 266)",
   "id": "ebf613f6a3126775",
   "outputs": [],
   "execution_count": 24
  },
  {
   "metadata": {
    "ExecuteTime": {
     "end_time": "2024-10-18T16:59:59.338538Z",
     "start_time": "2024-10-18T16:59:58.143736Z"
    }
   },
   "cell_type": "code",
   "source": "y_train = to_categorical(y_train, 266)",
   "id": "e7d95057716b49a5",
   "outputs": [],
   "execution_count": 25
  },
  {
   "metadata": {
    "ExecuteTime": {
     "end_time": "2024-10-18T16:59:59.424877Z",
     "start_time": "2024-10-18T16:59:59.350326Z"
    }
   },
   "cell_type": "code",
   "source": [
    "model = tf.keras.Sequential()\n",
    "\n",
    "# Input layer\n",
    "model.add(tf.keras.layers.InputLayer(input_shape=X_train.shape[1:]))\n",
    "\n",
    "# Hidden layers\n",
    "model.add(tf.keras.layers.Dense(64, activation='relu'))\n",
    "model.add(tf.keras.layers.Dense(32, activation='relu'))\n",
    "\n",
    "# Output layer (assuming 'n' distinct starting points to predict)\n",
    "model.add(tf.keras.layers.Dense(266, activation='softmax'))"
   ],
   "id": "adc70f66d0a6c979",
   "outputs": [
    {
     "name": "stderr",
     "output_type": "stream",
     "text": [
      "C:\\Users\\ysc15\\miniconda3\\Lib\\site-packages\\keras\\src\\layers\\core\\input_layer.py:26: UserWarning: Argument `input_shape` is deprecated. Use `shape` instead.\n",
      "  warnings.warn(\n"
     ]
    }
   ],
   "execution_count": 26
  },
  {
   "metadata": {
    "ExecuteTime": {
     "end_time": "2024-10-18T16:59:59.539844Z",
     "start_time": "2024-10-18T16:59:59.509146Z"
    }
   },
   "cell_type": "code",
   "source": "model.summary()",
   "id": "7d9516835bf34dfd",
   "outputs": [
    {
     "data": {
      "text/plain": [
       "\u001B[1mModel: \"sequential\"\u001B[0m\n"
      ],
      "text/html": [
       "<pre style=\"white-space:pre;overflow-x:auto;line-height:normal;font-family:Menlo,'DejaVu Sans Mono',consolas,'Courier New',monospace\"><span style=\"font-weight: bold\">Model: \"sequential\"</span>\n",
       "</pre>\n"
      ]
     },
     "metadata": {},
     "output_type": "display_data"
    },
    {
     "data": {
      "text/plain": [
       "┏━━━━━━━━━━━━━━━━━━━━━━━━━━━━━━━━━┳━━━━━━━━━━━━━━━━━━━━━━━━┳━━━━━━━━━━━━━━━┓\n",
       "┃\u001B[1m \u001B[0m\u001B[1mLayer (type)                   \u001B[0m\u001B[1m \u001B[0m┃\u001B[1m \u001B[0m\u001B[1mOutput Shape          \u001B[0m\u001B[1m \u001B[0m┃\u001B[1m \u001B[0m\u001B[1m      Param #\u001B[0m\u001B[1m \u001B[0m┃\n",
       "┡━━━━━━━━━━━━━━━━━━━━━━━━━━━━━━━━━╇━━━━━━━━━━━━━━━━━━━━━━━━╇━━━━━━━━━━━━━━━┩\n",
       "│ dense (\u001B[38;5;33mDense\u001B[0m)                   │ (\u001B[38;5;45mNone\u001B[0m, \u001B[38;5;34m64\u001B[0m)             │           \u001B[38;5;34m320\u001B[0m │\n",
       "├─────────────────────────────────┼────────────────────────┼───────────────┤\n",
       "│ dense_1 (\u001B[38;5;33mDense\u001B[0m)                 │ (\u001B[38;5;45mNone\u001B[0m, \u001B[38;5;34m32\u001B[0m)             │         \u001B[38;5;34m2,080\u001B[0m │\n",
       "├─────────────────────────────────┼────────────────────────┼───────────────┤\n",
       "│ dense_2 (\u001B[38;5;33mDense\u001B[0m)                 │ (\u001B[38;5;45mNone\u001B[0m, \u001B[38;5;34m266\u001B[0m)            │         \u001B[38;5;34m8,778\u001B[0m │\n",
       "└─────────────────────────────────┴────────────────────────┴───────────────┘\n"
      ],
      "text/html": [
       "<pre style=\"white-space:pre;overflow-x:auto;line-height:normal;font-family:Menlo,'DejaVu Sans Mono',consolas,'Courier New',monospace\">┏━━━━━━━━━━━━━━━━━━━━━━━━━━━━━━━━━┳━━━━━━━━━━━━━━━━━━━━━━━━┳━━━━━━━━━━━━━━━┓\n",
       "┃<span style=\"font-weight: bold\"> Layer (type)                    </span>┃<span style=\"font-weight: bold\"> Output Shape           </span>┃<span style=\"font-weight: bold\">       Param # </span>┃\n",
       "┡━━━━━━━━━━━━━━━━━━━━━━━━━━━━━━━━━╇━━━━━━━━━━━━━━━━━━━━━━━━╇━━━━━━━━━━━━━━━┩\n",
       "│ dense (<span style=\"color: #0087ff; text-decoration-color: #0087ff\">Dense</span>)                   │ (<span style=\"color: #00d7ff; text-decoration-color: #00d7ff\">None</span>, <span style=\"color: #00af00; text-decoration-color: #00af00\">64</span>)             │           <span style=\"color: #00af00; text-decoration-color: #00af00\">320</span> │\n",
       "├─────────────────────────────────┼────────────────────────┼───────────────┤\n",
       "│ dense_1 (<span style=\"color: #0087ff; text-decoration-color: #0087ff\">Dense</span>)                 │ (<span style=\"color: #00d7ff; text-decoration-color: #00d7ff\">None</span>, <span style=\"color: #00af00; text-decoration-color: #00af00\">32</span>)             │         <span style=\"color: #00af00; text-decoration-color: #00af00\">2,080</span> │\n",
       "├─────────────────────────────────┼────────────────────────┼───────────────┤\n",
       "│ dense_2 (<span style=\"color: #0087ff; text-decoration-color: #0087ff\">Dense</span>)                 │ (<span style=\"color: #00d7ff; text-decoration-color: #00d7ff\">None</span>, <span style=\"color: #00af00; text-decoration-color: #00af00\">266</span>)            │         <span style=\"color: #00af00; text-decoration-color: #00af00\">8,778</span> │\n",
       "└─────────────────────────────────┴────────────────────────┴───────────────┘\n",
       "</pre>\n"
      ]
     },
     "metadata": {},
     "output_type": "display_data"
    },
    {
     "data": {
      "text/plain": [
       "\u001B[1m Total params: \u001B[0m\u001B[38;5;34m11,178\u001B[0m (43.66 KB)\n"
      ],
      "text/html": [
       "<pre style=\"white-space:pre;overflow-x:auto;line-height:normal;font-family:Menlo,'DejaVu Sans Mono',consolas,'Courier New',monospace\"><span style=\"font-weight: bold\"> Total params: </span><span style=\"color: #00af00; text-decoration-color: #00af00\">11,178</span> (43.66 KB)\n",
       "</pre>\n"
      ]
     },
     "metadata": {},
     "output_type": "display_data"
    },
    {
     "data": {
      "text/plain": [
       "\u001B[1m Trainable params: \u001B[0m\u001B[38;5;34m11,178\u001B[0m (43.66 KB)\n"
      ],
      "text/html": [
       "<pre style=\"white-space:pre;overflow-x:auto;line-height:normal;font-family:Menlo,'DejaVu Sans Mono',consolas,'Courier New',monospace\"><span style=\"font-weight: bold\"> Trainable params: </span><span style=\"color: #00af00; text-decoration-color: #00af00\">11,178</span> (43.66 KB)\n",
       "</pre>\n"
      ]
     },
     "metadata": {},
     "output_type": "display_data"
    },
    {
     "data": {
      "text/plain": [
       "\u001B[1m Non-trainable params: \u001B[0m\u001B[38;5;34m0\u001B[0m (0.00 B)\n"
      ],
      "text/html": [
       "<pre style=\"white-space:pre;overflow-x:auto;line-height:normal;font-family:Menlo,'DejaVu Sans Mono',consolas,'Courier New',monospace\"><span style=\"font-weight: bold\"> Non-trainable params: </span><span style=\"color: #00af00; text-decoration-color: #00af00\">0</span> (0.00 B)\n",
       "</pre>\n"
      ]
     },
     "metadata": {},
     "output_type": "display_data"
    }
   ],
   "execution_count": 27
  },
  {
   "metadata": {},
   "cell_type": "code",
   "source": [
    "model.compile(optimizer='adam',metrics=['accuracy'],loss='categorical_crossentropy')\n",
    "early_stopping = tf.keras.callbacks.EarlyStopping(monitor='val_loss', patience=10, restore_best_weights=True)\n",
    "history = model.fit(X_train, y_train, batch_size=10, epochs=1000, validation_data=(X_test, y_test), callbacks=[early_stopping], verbose=1)\n",
    "model.save('model.keras')"
   ],
   "id": "2a681be585df909f",
   "outputs": [],
   "execution_count": null
  },
  {
   "metadata": {
    "ExecuteTime": {
     "end_time": "2024-10-18T17:41:17.009319Z",
     "start_time": "2024-10-18T17:41:16.817542Z"
    }
   },
   "cell_type": "code",
   "source": [
    "plt.plot(history.history['accuracy'], label='training accuracy')\n",
    "plt.plot(history.history['val_accuracy'], label='validation accuracy')\n",
    "plt.title('Accuracy')\n",
    "plt.xlabel('Epochs')\n",
    "plt.ylabel('Accuracy')\n",
    "plt.legend()\n",
    "plt.show()"
   ],
   "id": "687e67915670439",
   "outputs": [
    {
     "data": {
      "text/plain": [
       "<Figure size 640x480 with 1 Axes>"
      ],
      "image/png": "[encoded data removed]"
     },
     "metadata": {},
     "output_type": "display_data"
    }
   ],
   "execution_count": 30
  },
  {
   "metadata": {
    "ExecuteTime": {
     "end_time": "2024-10-18T17:43:38.136946Z",
     "start_time": "2024-10-18T17:43:38.043769Z"
    }
   },
   "cell_type": "code",
   "source": "model = tf.keras.models.load_model('model.keras')",
   "id": "3c6053696638e241",
   "outputs": [],
   "execution_count": 32
  },
  {
   "metadata": {
    "ExecuteTime": {
     "end_time": "2024-10-18T17:44:06.181281Z",
     "start_time": "2024-10-18T17:43:39.607012Z"
    }
   },
   "cell_type": "code",
   "source": [
    "score = model.evaluate(X_test, y_test, verbose=0)\n",
    "print('Test loss:', score[0])\n",
    "print('Test accuracy:', score[1])"
   ],
   "id": "b09dc437d82ec71",
   "outputs": [
    {
     "name": "stdout",
     "output_type": "stream",
     "text": [
      "Test loss: 5.134675979614258\n",
      "Test accuracy: 0.027829518541693687\n"
     ]
    }
   ],
   "execution_count": 33
  }
 ],
 "metadata": {
  "kernelspec": {
   "display_name": "Python 3",
   "language": "python",
   "name": "python3"
  },
  "language_info": {
   "codemirror_mode": {
    "name": "ipython",
    "version": 2
   },
   "file_extension": ".py",
   "mimetype": "text/x-python",
   "name": "python",
   "nbconvert_exporter": "python",
   "pygments_lexer": "ipython2",
   "version": "2.7.6"
  }
 },
 "nbformat": 4,
 "nbformat_minor": 5
}
