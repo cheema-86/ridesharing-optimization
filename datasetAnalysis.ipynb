{
 "cells": [
  {
   "cell_type": "markdown",
   "id": "81d5619ae32d75d",
   "metadata": {},
   "source": [
    "# Imports"
   ]
  },
  {
   "cell_type": "code",
   "execution_count": 1,
   "id": "initial_id",
   "metadata": {
    "ExecuteTime": {
     "end_time": "2024-10-18T16:59:31.518083Z",
     "start_time": "2024-10-18T16:59:25.324442Z"
    },
    "collapsed": true
   },
   "outputs": [
    {
     "name": "stderr",
     "output_type": "stream",
     "text": [
      "2024-10-19 01:02:09.924026: I external/local_xla/xla/tsl/cuda/cudart_stub.cc:32] Could not find cuda drivers on your machine, GPU will not be used.\n",
      "2024-10-19 01:02:09.961559: I external/local_xla/xla/tsl/cuda/cudart_stub.cc:32] Could not find cuda drivers on your machine, GPU will not be used.\n",
      "2024-10-19 01:02:10.023113: E external/local_xla/xla/stream_executor/cuda/cuda_fft.cc:485] Unable to register cuFFT factory: Attempting to register factory for plugin cuFFT when one has already been registered\n",
      "2024-10-19 01:02:10.087399: E external/local_xla/xla/stream_executor/cuda/cuda_dnn.cc:8454] Unable to register cuDNN factory: Attempting to register factory for plugin cuDNN when one has already been registered\n",
      "2024-10-19 01:02:10.110080: E external/local_xla/xla/stream_executor/cuda/cuda_blas.cc:1452] Unable to register cuBLAS factory: Attempting to register factory for plugin cuBLAS when one has already been registered\n",
      "2024-10-19 01:02:10.208020: I tensorflow/core/platform/cpu_feature_guard.cc:210] This TensorFlow binary is optimized to use available CPU instructions in performance-critical operations.\n",
      "To enable the following instructions: AVX2 FMA, in other operations, rebuild TensorFlow with the appropriate compiler flags.\n",
      "2024-10-19 01:02:11.892870: W tensorflow/compiler/tf2tensorrt/utils/py_utils.cc:38] TF-TRT Warning: Could not find TensorRT\n"
     ]
    }
   ],
   "source": [
    "import numpy as np \n",
    "import pandas as pd \n",
    "import matplotlib.pyplot as plt \n",
    "import tensorflow as tf"
   ]
  },
  {
   "cell_type": "code",
   "execution_count": 2,
   "id": "94411d9584dc732",
   "metadata": {
    "ExecuteTime": {
     "end_time": "2024-10-18T16:59:38.264682Z",
     "start_time": "2024-10-18T16:59:31.522093Z"
    }
   },
   "outputs": [],
   "source": [
    "df=pd.read_parquet(\"data/fhvhv_tripdata_2023-01.parquet\")"
   ]
  },
  {
   "cell_type": "code",
   "execution_count": 3,
   "id": "e13246c616baaa67",
   "metadata": {
    "ExecuteTime": {
     "end_time": "2024-10-18T16:59:43.319361Z",
     "start_time": "2024-10-18T16:59:40.786726Z"
    }
   },
   "outputs": [],
   "source": [
    "#fs = np.array_split(df, 2)\n",
    "#df = dfs[0]"
   ]
  },
  {
   "cell_type": "code",
   "execution_count": 4,
   "id": "98097a94b55a7bdb",
   "metadata": {
    "ExecuteTime": {
     "end_time": "2024-10-18T16:59:46.033125Z",
     "start_time": "2024-10-18T16:59:46.010995Z"
    }
   },
   "outputs": [
    {
     "data": {
      "text/html": [
       "<div>\n",
       "<style scoped>\n",
       "    .dataframe tbody tr th:only-of-type {\n",
       "        vertical-align: middle;\n",
       "    }\n",
       "\n",
       "    .dataframe tbody tr th {\n",
       "        vertical-align: top;\n",
       "    }\n",
       "\n",
       "    .dataframe thead th {\n",
       "        text-align: right;\n",
       "    }\n",
       "</style>\n",
       "<table border=\"1\" class=\"dataframe\">\n",
       "  <thead>\n",
       "    <tr style=\"text-align: right;\">\n",
       "      <th></th>\n",
       "      <th>hvfhs_license_num</th>\n",
       "      <th>dispatching_base_num</th>\n",
       "      <th>originating_base_num</th>\n",
       "      <th>request_datetime</th>\n",
       "      <th>on_scene_datetime</th>\n",
       "      <th>pickup_datetime</th>\n",
       "      <th>dropoff_datetime</th>\n",
       "      <th>PULocationID</th>\n",
       "      <th>DOLocationID</th>\n",
       "      <th>trip_miles</th>\n",
       "      <th>...</th>\n",
       "      <th>sales_tax</th>\n",
       "      <th>congestion_surcharge</th>\n",
       "      <th>airport_fee</th>\n",
       "      <th>tips</th>\n",
       "      <th>driver_pay</th>\n",
       "      <th>shared_request_flag</th>\n",
       "      <th>shared_match_flag</th>\n",
       "      <th>access_a_ride_flag</th>\n",
       "      <th>wav_request_flag</th>\n",
       "      <th>wav_match_flag</th>\n",
       "    </tr>\n",
       "  </thead>\n",
       "  <tbody>\n",
       "    <tr>\n",
       "      <th>0</th>\n",
       "      <td>HV0003</td>\n",
       "      <td>B03404</td>\n",
       "      <td>B03404</td>\n",
       "      <td>2023-01-01 00:18:06</td>\n",
       "      <td>2023-01-01 00:19:24</td>\n",
       "      <td>2023-01-01 00:19:38</td>\n",
       "      <td>2023-01-01 00:48:07</td>\n",
       "      <td>48</td>\n",
       "      <td>68</td>\n",
       "      <td>0.94</td>\n",
       "      <td>...</td>\n",
       "      <td>2.30</td>\n",
       "      <td>2.75</td>\n",
       "      <td>0.0</td>\n",
       "      <td>5.22</td>\n",
       "      <td>27.83</td>\n",
       "      <td>N</td>\n",
       "      <td>N</td>\n",
       "      <td></td>\n",
       "      <td>N</td>\n",
       "      <td>N</td>\n",
       "    </tr>\n",
       "    <tr>\n",
       "      <th>1</th>\n",
       "      <td>HV0003</td>\n",
       "      <td>B03404</td>\n",
       "      <td>B03404</td>\n",
       "      <td>2023-01-01 00:48:42</td>\n",
       "      <td>2023-01-01 00:56:20</td>\n",
       "      <td>2023-01-01 00:58:39</td>\n",
       "      <td>2023-01-01 01:33:08</td>\n",
       "      <td>246</td>\n",
       "      <td>163</td>\n",
       "      <td>2.78</td>\n",
       "      <td>...</td>\n",
       "      <td>5.34</td>\n",
       "      <td>2.75</td>\n",
       "      <td>0.0</td>\n",
       "      <td>0.00</td>\n",
       "      <td>50.15</td>\n",
       "      <td>N</td>\n",
       "      <td>N</td>\n",
       "      <td></td>\n",
       "      <td>N</td>\n",
       "      <td>N</td>\n",
       "    </tr>\n",
       "    <tr>\n",
       "      <th>2</th>\n",
       "      <td>HV0003</td>\n",
       "      <td>B03404</td>\n",
       "      <td>B03404</td>\n",
       "      <td>2023-01-01 00:15:35</td>\n",
       "      <td>2023-01-01 00:20:14</td>\n",
       "      <td>2023-01-01 00:20:27</td>\n",
       "      <td>2023-01-01 00:37:54</td>\n",
       "      <td>9</td>\n",
       "      <td>129</td>\n",
       "      <td>8.81</td>\n",
       "      <td>...</td>\n",
       "      <td>2.16</td>\n",
       "      <td>0.00</td>\n",
       "      <td>0.0</td>\n",
       "      <td>0.00</td>\n",
       "      <td>20.22</td>\n",
       "      <td>N</td>\n",
       "      <td>N</td>\n",
       "      <td></td>\n",
       "      <td>N</td>\n",
       "      <td>N</td>\n",
       "    </tr>\n",
       "    <tr>\n",
       "      <th>3</th>\n",
       "      <td>HV0003</td>\n",
       "      <td>B03404</td>\n",
       "      <td>B03404</td>\n",
       "      <td>2023-01-01 00:35:24</td>\n",
       "      <td>2023-01-01 00:39:30</td>\n",
       "      <td>2023-01-01 00:41:05</td>\n",
       "      <td>2023-01-01 00:48:16</td>\n",
       "      <td>129</td>\n",
       "      <td>129</td>\n",
       "      <td>0.67</td>\n",
       "      <td>...</td>\n",
       "      <td>1.22</td>\n",
       "      <td>0.00</td>\n",
       "      <td>0.0</td>\n",
       "      <td>0.00</td>\n",
       "      <td>7.90</td>\n",
       "      <td>N</td>\n",
       "      <td>N</td>\n",
       "      <td></td>\n",
       "      <td>N</td>\n",
       "      <td>N</td>\n",
       "    </tr>\n",
       "    <tr>\n",
       "      <th>4</th>\n",
       "      <td>HV0003</td>\n",
       "      <td>B03404</td>\n",
       "      <td>B03404</td>\n",
       "      <td>2023-01-01 00:43:15</td>\n",
       "      <td>2023-01-01 00:51:10</td>\n",
       "      <td>2023-01-01 00:52:47</td>\n",
       "      <td>2023-01-01 01:04:51</td>\n",
       "      <td>129</td>\n",
       "      <td>92</td>\n",
       "      <td>4.38</td>\n",
       "      <td>...</td>\n",
       "      <td>1.82</td>\n",
       "      <td>0.00</td>\n",
       "      <td>0.0</td>\n",
       "      <td>0.00</td>\n",
       "      <td>16.48</td>\n",
       "      <td>N</td>\n",
       "      <td>N</td>\n",
       "      <td></td>\n",
       "      <td>N</td>\n",
       "      <td>N</td>\n",
       "    </tr>\n",
       "  </tbody>\n",
       "</table>\n",
       "<p>5 rows × 24 columns</p>\n",
       "</div>"
      ],
      "text/plain": [
       "  hvfhs_license_num dispatching_base_num originating_base_num  \\\n",
       "0            HV0003               B03404               B03404   \n",
       "1            HV0003               B03404               B03404   \n",
       "2            HV0003               B03404               B03404   \n",
       "3            HV0003               B03404               B03404   \n",
       "4            HV0003               B03404               B03404   \n",
       "\n",
       "     request_datetime   on_scene_datetime     pickup_datetime  \\\n",
       "0 2023-01-01 00:18:06 2023-01-01 00:19:24 2023-01-01 00:19:38   \n",
       "1 2023-01-01 00:48:42 2023-01-01 00:56:20 2023-01-01 00:58:39   \n",
       "2 2023-01-01 00:15:35 2023-01-01 00:20:14 2023-01-01 00:20:27   \n",
       "3 2023-01-01 00:35:24 2023-01-01 00:39:30 2023-01-01 00:41:05   \n",
       "4 2023-01-01 00:43:15 2023-01-01 00:51:10 2023-01-01 00:52:47   \n",
       "\n",
       "     dropoff_datetime  PULocationID  DOLocationID  trip_miles  ...  sales_tax  \\\n",
       "0 2023-01-01 00:48:07            48            68        0.94  ...       2.30   \n",
       "1 2023-01-01 01:33:08           246           163        2.78  ...       5.34   \n",
       "2 2023-01-01 00:37:54             9           129        8.81  ...       2.16   \n",
       "3 2023-01-01 00:48:16           129           129        0.67  ...       1.22   \n",
       "4 2023-01-01 01:04:51           129            92        4.38  ...       1.82   \n",
       "\n",
       "   congestion_surcharge  airport_fee  tips  driver_pay  shared_request_flag  \\\n",
       "0                  2.75          0.0  5.22       27.83                    N   \n",
       "1                  2.75          0.0  0.00       50.15                    N   \n",
       "2                  0.00          0.0  0.00       20.22                    N   \n",
       "3                  0.00          0.0  0.00        7.90                    N   \n",
       "4                  0.00          0.0  0.00       16.48                    N   \n",
       "\n",
       "   shared_match_flag  access_a_ride_flag  wav_request_flag wav_match_flag  \n",
       "0                  N                                     N              N  \n",
       "1                  N                                     N              N  \n",
       "2                  N                                     N              N  \n",
       "3                  N                                     N              N  \n",
       "4                  N                                     N              N  \n",
       "\n",
       "[5 rows x 24 columns]"
      ]
     },
     "execution_count": 4,
     "metadata": {},
     "output_type": "execute_result"
    }
   ],
   "source": [
    "df.head()"
   ]
  },
  {
   "cell_type": "code",
   "execution_count": 5,
   "id": "20d578298c2413d9",
   "metadata": {
    "ExecuteTime": {
     "end_time": "2024-10-18T16:59:48.724897Z",
     "start_time": "2024-10-18T16:59:48.701349Z"
    }
   },
   "outputs": [
    {
     "name": "stdout",
     "output_type": "stream",
     "text": [
      "<class 'pandas.core.frame.DataFrame'>\n",
      "RangeIndex: 18479031 entries, 0 to 18479030\n",
      "Data columns (total 24 columns):\n",
      " #   Column                Dtype         \n",
      "---  ------                -----         \n",
      " 0   hvfhs_license_num     object        \n",
      " 1   dispatching_base_num  object        \n",
      " 2   originating_base_num  object        \n",
      " 3   request_datetime      datetime64[us]\n",
      " 4   on_scene_datetime     datetime64[us]\n",
      " 5   pickup_datetime       datetime64[us]\n",
      " 6   dropoff_datetime      datetime64[us]\n",
      " 7   PULocationID          int64         \n",
      " 8   DOLocationID          int64         \n",
      " 9   trip_miles            float64       \n",
      " 10  trip_time             int64         \n",
      " 11  base_passenger_fare   float64       \n",
      " 12  tolls                 float64       \n",
      " 13  bcf                   float64       \n",
      " 14  sales_tax             float64       \n",
      " 15  congestion_surcharge  float64       \n",
      " 16  airport_fee           float64       \n",
      " 17  tips                  float64       \n",
      " 18  driver_pay            float64       \n",
      " 19  shared_request_flag   object        \n",
      " 20  shared_match_flag     object        \n",
      " 21  access_a_ride_flag    object        \n",
      " 22  wav_request_flag      object        \n",
      " 23  wav_match_flag        object        \n",
      "dtypes: datetime64[us](4), float64(9), int64(3), object(8)\n",
      "memory usage: 3.3+ GB\n"
     ]
    }
   ],
   "source": [
    "df.info()"
   ]
  },
  {
   "cell_type": "markdown",
   "id": "95b89785b7039b0b",
   "metadata": {},
   "source": [
    "# Data Cleanup / Preprocessing"
   ]
  },
  {
   "cell_type": "code",
   "execution_count": 6,
   "id": "5dea8bfed4e6cfbd",
   "metadata": {
    "ExecuteTime": {
     "end_time": "2024-10-18T16:59:51.660867Z",
     "start_time": "2024-10-18T16:59:48.775273Z"
    }
   },
   "outputs": [],
   "source": [
    "# Remove Null Values\n",
    "df.dropna(inplace=True)"
   ]
  },
  {
   "cell_type": "code",
   "execution_count": 7,
   "id": "b7870d237ac75932",
   "metadata": {
    "ExecuteTime": {
     "end_time": "2024-10-18T16:59:51.851819Z",
     "start_time": "2024-10-18T16:59:51.662371Z"
    }
   },
   "outputs": [],
   "source": [
    "# Drop unused columns\n",
    "df.drop(['hvfhs_license_num','dispatching_base_num','originating_base_num','base_passenger_fare','tolls','bcf','sales_tax','congestion_surcharge','airport_fee','tips','driver_pay','shared_match_flag','shared_request_flag','access_a_ride_flag','wav_match_flag','wav_request_flag'],axis=1, inplace=True)"
   ]
  },
  {
   "cell_type": "code",
   "execution_count": 8,
   "id": "613fa105c616a54b",
   "metadata": {
    "ExecuteTime": {
     "end_time": "2024-10-18T16:59:52.383222Z",
     "start_time": "2024-10-18T16:59:51.865842Z"
    }
   },
   "outputs": [],
   "source": [
    "# Get time of day in terms of percentage\n",
    "df['start_time'] = (df['request_datetime'].dt.hour + (df['request_datetime'].dt.minute / 60)) / 24\n",
    "\n",
    "# Convert time of day to cyclic features using sine and cosine\n",
    "df['time_sin'] = np.sin(2 * np.pi * df['start_time'])\n",
    "df['time_cos'] = np.cos(2 * np.pi * df['start_time'])"
   ]
  },
  {
   "cell_type": "code",
   "execution_count": 9,
   "id": "e78a0e485c99c77c",
   "metadata": {
    "ExecuteTime": {
     "end_time": "2024-10-18T16:59:52.999055Z",
     "start_time": "2024-10-18T16:59:52.396632Z"
    }
   },
   "outputs": [],
   "source": [
    "# Also consider cyclic day of the week\n",
    "df['day_sin'] = np.sin(2 * np.pi * df['request_datetime'].dt.dayofweek / 7)\n",
    "df['day_cos'] = np.cos(2 * np.pi * df['request_datetime'].dt.dayofweek / 7)"
   ]
  },
  {
   "cell_type": "code",
   "execution_count": 10,
   "id": "2fb1879438bba08f",
   "metadata": {
    "ExecuteTime": {
     "end_time": "2024-10-18T16:59:53.027516Z",
     "start_time": "2024-10-18T16:59:53.014250Z"
    }
   },
   "outputs": [
    {
     "name": "stdout",
     "output_type": "stream",
     "text": [
      "<class 'pandas.core.frame.DataFrame'>\n",
      "Index: 13587039 entries, 0 to 18479030\n",
      "Data columns (total 13 columns):\n",
      " #   Column             Dtype         \n",
      "---  ------             -----         \n",
      " 0   request_datetime   datetime64[us]\n",
      " 1   on_scene_datetime  datetime64[us]\n",
      " 2   pickup_datetime    datetime64[us]\n",
      " 3   dropoff_datetime   datetime64[us]\n",
      " 4   PULocationID       int64         \n",
      " 5   DOLocationID       int64         \n",
      " 6   trip_miles         float64       \n",
      " 7   trip_time          int64         \n",
      " 8   start_time         float64       \n",
      " 9   time_sin           float64       \n",
      " 10  time_cos           float64       \n",
      " 11  day_sin            float64       \n",
      " 12  day_cos            float64       \n",
      "dtypes: datetime64[us](4), float64(6), int64(3)\n",
      "memory usage: 1.4 GB\n"
     ]
    }
   ],
   "source": [
    "df.info()"
   ]
  },
  {
   "cell_type": "code",
   "execution_count": 11,
   "id": "624d04636e97d00c",
   "metadata": {
    "ExecuteTime": {
     "end_time": "2024-10-18T16:59:53.056825Z",
     "start_time": "2024-10-18T16:59:53.042974Z"
    }
   },
   "outputs": [
    {
     "data": {
      "text/html": [
       "<div>\n",
       "<style scoped>\n",
       "    .dataframe tbody tr th:only-of-type {\n",
       "        vertical-align: middle;\n",
       "    }\n",
       "\n",
       "    .dataframe tbody tr th {\n",
       "        vertical-align: top;\n",
       "    }\n",
       "\n",
       "    .dataframe thead th {\n",
       "        text-align: right;\n",
       "    }\n",
       "</style>\n",
       "<table border=\"1\" class=\"dataframe\">\n",
       "  <thead>\n",
       "    <tr style=\"text-align: right;\">\n",
       "      <th></th>\n",
       "      <th>request_datetime</th>\n",
       "      <th>on_scene_datetime</th>\n",
       "      <th>pickup_datetime</th>\n",
       "      <th>dropoff_datetime</th>\n",
       "      <th>PULocationID</th>\n",
       "      <th>DOLocationID</th>\n",
       "      <th>trip_miles</th>\n",
       "      <th>trip_time</th>\n",
       "      <th>start_time</th>\n",
       "      <th>time_sin</th>\n",
       "      <th>time_cos</th>\n",
       "      <th>day_sin</th>\n",
       "      <th>day_cos</th>\n",
       "    </tr>\n",
       "  </thead>\n",
       "  <tbody>\n",
       "    <tr>\n",
       "      <th>0</th>\n",
       "      <td>2023-01-01 00:18:06</td>\n",
       "      <td>2023-01-01 00:19:24</td>\n",
       "      <td>2023-01-01 00:19:38</td>\n",
       "      <td>2023-01-01 00:48:07</td>\n",
       "      <td>48</td>\n",
       "      <td>68</td>\n",
       "      <td>0.94</td>\n",
       "      <td>1709</td>\n",
       "      <td>0.012500</td>\n",
       "      <td>0.078459</td>\n",
       "      <td>0.996917</td>\n",
       "      <td>-0.781831</td>\n",
       "      <td>0.62349</td>\n",
       "    </tr>\n",
       "    <tr>\n",
       "      <th>1</th>\n",
       "      <td>2023-01-01 00:48:42</td>\n",
       "      <td>2023-01-01 00:56:20</td>\n",
       "      <td>2023-01-01 00:58:39</td>\n",
       "      <td>2023-01-01 01:33:08</td>\n",
       "      <td>246</td>\n",
       "      <td>163</td>\n",
       "      <td>2.78</td>\n",
       "      <td>2069</td>\n",
       "      <td>0.033333</td>\n",
       "      <td>0.207912</td>\n",
       "      <td>0.978148</td>\n",
       "      <td>-0.781831</td>\n",
       "      <td>0.62349</td>\n",
       "    </tr>\n",
       "    <tr>\n",
       "      <th>2</th>\n",
       "      <td>2023-01-01 00:15:35</td>\n",
       "      <td>2023-01-01 00:20:14</td>\n",
       "      <td>2023-01-01 00:20:27</td>\n",
       "      <td>2023-01-01 00:37:54</td>\n",
       "      <td>9</td>\n",
       "      <td>129</td>\n",
       "      <td>8.81</td>\n",
       "      <td>1047</td>\n",
       "      <td>0.010417</td>\n",
       "      <td>0.065403</td>\n",
       "      <td>0.997859</td>\n",
       "      <td>-0.781831</td>\n",
       "      <td>0.62349</td>\n",
       "    </tr>\n",
       "    <tr>\n",
       "      <th>3</th>\n",
       "      <td>2023-01-01 00:35:24</td>\n",
       "      <td>2023-01-01 00:39:30</td>\n",
       "      <td>2023-01-01 00:41:05</td>\n",
       "      <td>2023-01-01 00:48:16</td>\n",
       "      <td>129</td>\n",
       "      <td>129</td>\n",
       "      <td>0.67</td>\n",
       "      <td>431</td>\n",
       "      <td>0.024306</td>\n",
       "      <td>0.152123</td>\n",
       "      <td>0.988362</td>\n",
       "      <td>-0.781831</td>\n",
       "      <td>0.62349</td>\n",
       "    </tr>\n",
       "    <tr>\n",
       "      <th>4</th>\n",
       "      <td>2023-01-01 00:43:15</td>\n",
       "      <td>2023-01-01 00:51:10</td>\n",
       "      <td>2023-01-01 00:52:47</td>\n",
       "      <td>2023-01-01 01:04:51</td>\n",
       "      <td>129</td>\n",
       "      <td>92</td>\n",
       "      <td>4.38</td>\n",
       "      <td>724</td>\n",
       "      <td>0.029861</td>\n",
       "      <td>0.186524</td>\n",
       "      <td>0.982450</td>\n",
       "      <td>-0.781831</td>\n",
       "      <td>0.62349</td>\n",
       "    </tr>\n",
       "  </tbody>\n",
       "</table>\n",
       "</div>"
      ],
      "text/plain": [
       "     request_datetime   on_scene_datetime     pickup_datetime  \\\n",
       "0 2023-01-01 00:18:06 2023-01-01 00:19:24 2023-01-01 00:19:38   \n",
       "1 2023-01-01 00:48:42 2023-01-01 00:56:20 2023-01-01 00:58:39   \n",
       "2 2023-01-01 00:15:35 2023-01-01 00:20:14 2023-01-01 00:20:27   \n",
       "3 2023-01-01 00:35:24 2023-01-01 00:39:30 2023-01-01 00:41:05   \n",
       "4 2023-01-01 00:43:15 2023-01-01 00:51:10 2023-01-01 00:52:47   \n",
       "\n",
       "     dropoff_datetime  PULocationID  DOLocationID  trip_miles  trip_time  \\\n",
       "0 2023-01-01 00:48:07            48            68        0.94       1709   \n",
       "1 2023-01-01 01:33:08           246           163        2.78       2069   \n",
       "2 2023-01-01 00:37:54             9           129        8.81       1047   \n",
       "3 2023-01-01 00:48:16           129           129        0.67        431   \n",
       "4 2023-01-01 01:04:51           129            92        4.38        724   \n",
       "\n",
       "   start_time  time_sin  time_cos   day_sin  day_cos  \n",
       "0    0.012500  0.078459  0.996917 -0.781831  0.62349  \n",
       "1    0.033333  0.207912  0.978148 -0.781831  0.62349  \n",
       "2    0.010417  0.065403  0.997859 -0.781831  0.62349  \n",
       "3    0.024306  0.152123  0.988362 -0.781831  0.62349  \n",
       "4    0.029861  0.186524  0.982450 -0.781831  0.62349  "
      ]
     },
     "execution_count": 11,
     "metadata": {},
     "output_type": "execute_result"
    }
   ],
   "source": [
    "df.head()"
   ]
  },
  {
   "cell_type": "markdown",
   "id": "e29875481c046e76",
   "metadata": {},
   "source": [
    "# Visualization"
   ]
  },
  {
   "cell_type": "code",
   "execution_count": 12,
   "id": "dfaec2cf9ceee97e",
   "metadata": {
    "ExecuteTime": {
     "end_time": "2024-10-18T16:59:54.462934Z",
     "start_time": "2024-10-18T16:59:53.103241Z"
    }
   },
   "outputs": [
    {
     "data": {
      "image/png": "[encoded data removed]",
      "text/plain": [
       "<Figure size 1500x600 with 1 Axes>"
      ]
     },
     "metadata": {},
     "output_type": "display_data"
    }
   ],
   "source": [
    "plt.figure(figsize=(15,6))\n",
    "df['PULocationID'].value_counts(sort=False).sort_index().plot(kind='bar')\n",
    "plt.xlabel(\"Start Area\")\n",
    "plt.ylabel(\"Count\")\n",
    "plt.show()"
   ]
  },
  {
   "cell_type": "code",
   "execution_count": 13,
   "id": "d4dc765e33ba8498",
   "metadata": {
    "ExecuteTime": {
     "end_time": "2024-10-18T16:59:54.868638Z",
     "start_time": "2024-10-18T16:59:54.496976Z"
    }
   },
   "outputs": [
    {
     "data": {
      "image/png": "[encoded data removed]",
      "text/plain": [
       "<Figure size 1500x600 with 1 Axes>"
      ]
     },
     "metadata": {},
     "output_type": "display_data"
    }
   ],
   "source": [
    "plt.figure(figsize=(15,6))\n",
    "df['request_datetime'].dt.hour.value_counts(sort=False).sort_index().plot(kind='bar')\n",
    "plt.xlabel(\"Hour\")\n",
    "plt.ylabel(\"Count\")\n",
    "plt.show()"
   ]
  },
  {
   "cell_type": "code",
   "execution_count": 14,
   "id": "228d3b5ab5d3ea8d",
   "metadata": {
    "ExecuteTime": {
     "end_time": "2024-10-18T16:59:55.229553Z",
     "start_time": "2024-10-18T16:59:54.872645Z"
    }
   },
   "outputs": [
    {
     "data": {
      "image/png": "[encoded data removed]",
      "text/plain": [
       "<Figure size 1500x600 with 1 Axes>"
      ]
     },
     "metadata": {},
     "output_type": "display_data"
    }
   ],
   "source": [
    "plt.figure(figsize=(15,6))\n",
    "df['request_datetime'].dt.dayofweek.value_counts(sort=False).sort_index().plot(kind='bar')\n",
    "#df['request_datetime'].dt.day_name().value_counts(sort=False).plot(kind='bar')\n",
    "plt.xlabel(\"Day of week\")\n",
    "plt.ylabel(\"Count\")\n",
    "plt.show()"
   ]
  },
  {
   "cell_type": "markdown",
   "id": "7e1aae2b55666bf0",
   "metadata": {},
   "source": [
    "# Predicting Start Points"
   ]
  },
  {
   "cell_type": "code",
   "execution_count": 15,
   "id": "9fdd7c913f4ee3e3",
   "metadata": {
    "ExecuteTime": {
     "end_time": "2024-10-18T16:59:55.250229Z",
     "start_time": "2024-10-18T16:59:55.245216Z"
    }
   },
   "outputs": [],
   "source": [
    "features = ['time_sin','time_cos','day_sin','day_cos']\n",
    "targets = ['PULocationID']"
   ]
  },
  {
   "cell_type": "code",
   "execution_count": 16,
   "id": "49c27b1411455269",
   "metadata": {
    "ExecuteTime": {
     "end_time": "2024-10-18T16:59:56.143770Z",
     "start_time": "2024-10-18T16:59:55.266352Z"
    }
   },
   "outputs": [],
   "source": [
    "from sklearn.model_selection import train_test_split"
   ]
  },
  {
   "cell_type": "code",
   "execution_count": 17,
   "id": "fc7b1784092b3252",
   "metadata": {
    "ExecuteTime": {
     "end_time": "2024-10-18T16:59:57.266291Z",
     "start_time": "2024-10-18T16:59:56.158747Z"
    }
   },
   "outputs": [],
   "source": [
    "X_train, X_test, y_train, y_test = train_test_split(df[features], df[targets], test_size=0.2, random_state=42)"
   ]
  },
  {
   "cell_type": "code",
   "execution_count": 18,
   "id": "f435c44be166de92",
   "metadata": {
    "ExecuteTime": {
     "end_time": "2024-10-18T16:59:57.291933Z",
     "start_time": "2024-10-18T16:59:57.287018Z"
    }
   },
   "outputs": [],
   "source": [
    "# Unloading the dataframe to save memory\n",
    "df = []"
   ]
  },
  {
   "cell_type": "code",
   "execution_count": 19,
   "id": "3f58f4a6f5e4efd2",
   "metadata": {
    "ExecuteTime": {
     "end_time": "2024-10-18T16:59:57.313776Z",
     "start_time": "2024-10-18T16:59:57.309304Z"
    }
   },
   "outputs": [],
   "source": [
    "from sklearn.preprocessing import StandardScaler"
   ]
  },
  {
   "cell_type": "code",
   "execution_count": 20,
   "id": "70833acb2c691ec2",
   "metadata": {
    "ExecuteTime": {
     "end_time": "2024-10-18T16:59:57.709710Z",
     "start_time": "2024-10-18T16:59:57.329996Z"
    }
   },
   "outputs": [],
   "source": [
    "#scaler = StandardScaler()\n",
    "#X_train = scaler.fit_transform(X_train)\n",
    "#X_test = scaler.transform(X_test)"
   ]
  },
  {
   "cell_type": "code",
   "execution_count": 21,
   "id": "b816329760d8ff5a",
   "metadata": {
    "ExecuteTime": {
     "end_time": "2024-10-18T16:59:57.744036Z",
     "start_time": "2024-10-18T16:59:57.725226Z"
    }
   },
   "outputs": [],
   "source": [
    "# Flattening the df from (x,1) to (x,)\n",
    "y_train = y_train.values.flatten()\n",
    "y_test = y_test.values.flatten()"
   ]
  },
  {
   "cell_type": "code",
   "execution_count": 22,
   "id": "ec1f8d57df226505",
   "metadata": {
    "ExecuteTime": {
     "end_time": "2024-10-18T16:59:57.783091Z",
     "start_time": "2024-10-18T16:59:57.757285Z"
    }
   },
   "outputs": [],
   "source": [
    "# Conversion into numpy array for passing it into to_categorical function\n",
    "y_train = np.array(y_train).astype(int)\n",
    "y_test = np.array(y_test).astype(int)"
   ]
  },
  {
   "cell_type": "code",
   "execution_count": 23,
   "id": "ebf613f6a3126775",
   "metadata": {
    "ExecuteTime": {
     "end_time": "2024-10-18T16:59:58.128234Z",
     "start_time": "2024-10-18T16:59:57.834644Z"
    }
   },
   "outputs": [],
   "source": [
    "y_test = tf.keras.utils.to_categorical(y_test, 266)"
   ]
  },
  {
   "cell_type": "code",
   "execution_count": 24,
   "id": "e7d95057716b49a5",
   "metadata": {
    "ExecuteTime": {
     "end_time": "2024-10-18T16:59:59.338538Z",
     "start_time": "2024-10-18T16:59:58.143736Z"
    }
   },
   "outputs": [],
   "source": [
    "y_train = tf.keras.utils.to_categorical(y_train, 266)"
   ]
  },
  {
   "cell_type": "markdown",
   "id": "77d6cc74",
   "metadata": {},
   "source": [
    "1 am thoughts:\n",
    "\n",
    "I don't think the concept of entering the time and predicting the place where the ride will be from is a good idea\n",
    "\n",
    "Instead I think I should have an average of a small time period like 15 minutes and count the demand of each area\n",
    "then compare the model's accuracy with the top x% of demand of that area"
   ]
  },
  {
   "cell_type": "code",
   "execution_count": 31,
   "id": "adc70f66d0a6c979",
   "metadata": {
    "ExecuteTime": {
     "end_time": "2024-10-18T16:59:59.424877Z",
     "start_time": "2024-10-18T16:59:59.350326Z"
    }
   },
   "outputs": [
    {
     "name": "stderr",
     "output_type": "stream",
     "text": [
      "/home/lenovo/Documents/Major Project/.venv/lib/python3.12/site-packages/keras/src/layers/core/input_layer.py:26: UserWarning: Argument `input_shape` is deprecated. Use `shape` instead.\n",
      "  warnings.warn(\n"
     ]
    }
   ],
   "source": [
    "model = tf.keras.Sequential()\n",
    "\n",
    "# Input layer\n",
    "model.add(tf.keras.layers.InputLayer(input_shape=X_train.shape[1:]))\n",
    "\n",
    "# Hidden layers\n",
    "model.add(tf.keras.layers.Dense(256, activation='relu'))\n",
    "model.add(tf.keras.layers.Dropout(0.2))\n",
    "model.add(tf.keras.layers.Dense(128, activation='relu'))\n",
    "\n",
    "# Output layer (assuming 'n' distinct starting points to predict)\n",
    "model.add(tf.keras.layers.Dense(266, activation='softmax'))"
   ]
  },
  {
   "cell_type": "code",
   "execution_count": 32,
   "id": "7d9516835bf34dfd",
   "metadata": {
    "ExecuteTime": {
     "end_time": "2024-10-18T16:59:59.539844Z",
     "start_time": "2024-10-18T16:59:59.509146Z"
    }
   },
   "outputs": [
    {
     "data": {
      "text/html": [
       "<pre style=\"white-space:pre;overflow-x:auto;line-height:normal;font-family:Menlo,'DejaVu Sans Mono',consolas,'Courier New',monospace\"><span style=\"font-weight: bold\">Model: \"sequential_2\"</span>\n",
       "</pre>\n"
      ],
      "text/plain": [
       "\u001b[1mModel: \"sequential_2\"\u001b[0m\n"
      ]
     },
     "metadata": {},
     "output_type": "display_data"
    },
    {
     "data": {
      "text/html": [
       "<pre style=\"white-space:pre;overflow-x:auto;line-height:normal;font-family:Menlo,'DejaVu Sans Mono',consolas,'Courier New',monospace\">┏━━━━━━━━━━━━━━━━━━━━━━━━━━━━━━━━━┳━━━━━━━━━━━━━━━━━━━━━━━━┳━━━━━━━━━━━━━━━┓\n",
       "┃<span style=\"font-weight: bold\"> Layer (type)                    </span>┃<span style=\"font-weight: bold\"> Output Shape           </span>┃<span style=\"font-weight: bold\">       Param # </span>┃\n",
       "┡━━━━━━━━━━━━━━━━━━━━━━━━━━━━━━━━━╇━━━━━━━━━━━━━━━━━━━━━━━━╇━━━━━━━━━━━━━━━┩\n",
       "│ dense_8 (<span style=\"color: #0087ff; text-decoration-color: #0087ff\">Dense</span>)                 │ (<span style=\"color: #00d7ff; text-decoration-color: #00d7ff\">None</span>, <span style=\"color: #00af00; text-decoration-color: #00af00\">256</span>)            │         <span style=\"color: #00af00; text-decoration-color: #00af00\">1,280</span> │\n",
       "├─────────────────────────────────┼────────────────────────┼───────────────┤\n",
       "│ dropout_2 (<span style=\"color: #0087ff; text-decoration-color: #0087ff\">Dropout</span>)             │ (<span style=\"color: #00d7ff; text-decoration-color: #00d7ff\">None</span>, <span style=\"color: #00af00; text-decoration-color: #00af00\">256</span>)            │             <span style=\"color: #00af00; text-decoration-color: #00af00\">0</span> │\n",
       "├─────────────────────────────────┼────────────────────────┼───────────────┤\n",
       "│ dense_9 (<span style=\"color: #0087ff; text-decoration-color: #0087ff\">Dense</span>)                 │ (<span style=\"color: #00d7ff; text-decoration-color: #00d7ff\">None</span>, <span style=\"color: #00af00; text-decoration-color: #00af00\">128</span>)            │        <span style=\"color: #00af00; text-decoration-color: #00af00\">32,896</span> │\n",
       "├─────────────────────────────────┼────────────────────────┼───────────────┤\n",
       "│ dense_10 (<span style=\"color: #0087ff; text-decoration-color: #0087ff\">Dense</span>)                │ (<span style=\"color: #00d7ff; text-decoration-color: #00d7ff\">None</span>, <span style=\"color: #00af00; text-decoration-color: #00af00\">266</span>)            │        <span style=\"color: #00af00; text-decoration-color: #00af00\">34,314</span> │\n",
       "└─────────────────────────────────┴────────────────────────┴───────────────┘\n",
       "</pre>\n"
      ],
      "text/plain": [
       "┏━━━━━━━━━━━━━━━━━━━━━━━━━━━━━━━━━┳━━━━━━━━━━━━━━━━━━━━━━━━┳━━━━━━━━━━━━━━━┓\n",
       "┃\u001b[1m \u001b[0m\u001b[1mLayer (type)                   \u001b[0m\u001b[1m \u001b[0m┃\u001b[1m \u001b[0m\u001b[1mOutput Shape          \u001b[0m\u001b[1m \u001b[0m┃\u001b[1m \u001b[0m\u001b[1m      Param #\u001b[0m\u001b[1m \u001b[0m┃\n",
       "┡━━━━━━━━━━━━━━━━━━━━━━━━━━━━━━━━━╇━━━━━━━━━━━━━━━━━━━━━━━━╇━━━━━━━━━━━━━━━┩\n",
       "│ dense_8 (\u001b[38;5;33mDense\u001b[0m)                 │ (\u001b[38;5;45mNone\u001b[0m, \u001b[38;5;34m256\u001b[0m)            │         \u001b[38;5;34m1,280\u001b[0m │\n",
       "├─────────────────────────────────┼────────────────────────┼───────────────┤\n",
       "│ dropout_2 (\u001b[38;5;33mDropout\u001b[0m)             │ (\u001b[38;5;45mNone\u001b[0m, \u001b[38;5;34m256\u001b[0m)            │             \u001b[38;5;34m0\u001b[0m │\n",
       "├─────────────────────────────────┼────────────────────────┼───────────────┤\n",
       "│ dense_9 (\u001b[38;5;33mDense\u001b[0m)                 │ (\u001b[38;5;45mNone\u001b[0m, \u001b[38;5;34m128\u001b[0m)            │        \u001b[38;5;34m32,896\u001b[0m │\n",
       "├─────────────────────────────────┼────────────────────────┼───────────────┤\n",
       "│ dense_10 (\u001b[38;5;33mDense\u001b[0m)                │ (\u001b[38;5;45mNone\u001b[0m, \u001b[38;5;34m266\u001b[0m)            │        \u001b[38;5;34m34,314\u001b[0m │\n",
       "└─────────────────────────────────┴────────────────────────┴───────────────┘\n"
      ]
     },
     "metadata": {},
     "output_type": "display_data"
    },
    {
     "data": {
      "text/html": [
       "<pre style=\"white-space:pre;overflow-x:auto;line-height:normal;font-family:Menlo,'DejaVu Sans Mono',consolas,'Courier New',monospace\"><span style=\"font-weight: bold\"> Total params: </span><span style=\"color: #00af00; text-decoration-color: #00af00\">68,490</span> (267.54 KB)\n",
       "</pre>\n"
      ],
      "text/plain": [
       "\u001b[1m Total params: \u001b[0m\u001b[38;5;34m68,490\u001b[0m (267.54 KB)\n"
      ]
     },
     "metadata": {},
     "output_type": "display_data"
    },
    {
     "data": {
      "text/html": [
       "<pre style=\"white-space:pre;overflow-x:auto;line-height:normal;font-family:Menlo,'DejaVu Sans Mono',consolas,'Courier New',monospace\"><span style=\"font-weight: bold\"> Trainable params: </span><span style=\"color: #00af00; text-decoration-color: #00af00\">68,490</span> (267.54 KB)\n",
       "</pre>\n"
      ],
      "text/plain": [
       "\u001b[1m Trainable params: \u001b[0m\u001b[38;5;34m68,490\u001b[0m (267.54 KB)\n"
      ]
     },
     "metadata": {},
     "output_type": "display_data"
    },
    {
     "data": {
      "text/html": [
       "<pre style=\"white-space:pre;overflow-x:auto;line-height:normal;font-family:Menlo,'DejaVu Sans Mono',consolas,'Courier New',monospace\"><span style=\"font-weight: bold\"> Non-trainable params: </span><span style=\"color: #00af00; text-decoration-color: #00af00\">0</span> (0.00 B)\n",
       "</pre>\n"
      ],
      "text/plain": [
       "\u001b[1m Non-trainable params: \u001b[0m\u001b[38;5;34m0\u001b[0m (0.00 B)\n"
      ]
     },
     "metadata": {},
     "output_type": "display_data"
    }
   ],
   "source": [
    "model.summary()"
   ]
  },
  {
   "cell_type": "code",
   "execution_count": 33,
   "id": "2a681be585df909f",
   "metadata": {},
   "outputs": [
    {
     "name": "stdout",
     "output_type": "stream",
     "text": [
      "Epoch 1/1000\n",
      "\u001b[1m108697/108697\u001b[0m \u001b[32m━━━━━━━━━━━━━━━━━━━━\u001b[0m\u001b[37m\u001b[0m \u001b[1m427s\u001b[0m 4ms/step - accuracy: 0.0259 - loss: 5.1410 - val_accuracy: 0.0265 - val_loss: 5.1317\n",
      "Epoch 2/1000\n",
      "\u001b[1m108697/108697\u001b[0m \u001b[32m━━━━━━━━━━━━━━━━━━━━\u001b[0m\u001b[37m\u001b[0m \u001b[1m398s\u001b[0m 4ms/step - accuracy: 0.0265 - loss: 5.1327 - val_accuracy: 0.0268 - val_loss: 5.1310\n",
      "Epoch 3/1000\n",
      "\u001b[1m108697/108697\u001b[0m \u001b[32m━━━━━━━━━━━━━━━━━━━━\u001b[0m\u001b[37m\u001b[0m \u001b[1m397s\u001b[0m 4ms/step - accuracy: 0.0266 - loss: 5.1325 - val_accuracy: 0.0267 - val_loss: 5.1309\n",
      "Epoch 4/1000\n",
      "\u001b[1m108697/108697\u001b[0m \u001b[32m━━━━━━━━━━━━━━━━━━━━\u001b[0m\u001b[37m\u001b[0m \u001b[1m399s\u001b[0m 4ms/step - accuracy: 0.0265 - loss: 5.1325 - val_accuracy: 0.0268 - val_loss: 5.1307\n",
      "Epoch 5/1000\n",
      "\u001b[1m108697/108697\u001b[0m \u001b[32m━━━━━━━━━━━━━━━━━━━━\u001b[0m\u001b[37m\u001b[0m \u001b[1m402s\u001b[0m 4ms/step - accuracy: 0.0265 - loss: 5.1324 - val_accuracy: 0.0265 - val_loss: 5.1316\n",
      "Epoch 6/1000\n",
      "\u001b[1m108697/108697\u001b[0m \u001b[32m━━━━━━━━━━━━━━━━━━━━\u001b[0m\u001b[37m\u001b[0m \u001b[1m402s\u001b[0m 4ms/step - accuracy: 0.0265 - loss: 5.1327 - val_accuracy: 0.0266 - val_loss: 5.1318\n",
      "Epoch 7/1000\n",
      "\u001b[1m108697/108697\u001b[0m \u001b[32m━━━━━━━━━━━━━━━━━━━━\u001b[0m\u001b[37m\u001b[0m \u001b[1m402s\u001b[0m 4ms/step - accuracy: 0.0265 - loss: 5.1326 - val_accuracy: 0.0267 - val_loss: 5.1326\n",
      "Epoch 8/1000\n",
      "\u001b[1m108697/108697\u001b[0m \u001b[32m━━━━━━━━━━━━━━━━━━━━\u001b[0m\u001b[37m\u001b[0m \u001b[1m405s\u001b[0m 4ms/step - accuracy: 0.0264 - loss: 5.1329 - val_accuracy: 0.0265 - val_loss: 5.1318\n",
      "Epoch 9/1000\n",
      "\u001b[1m108697/108697\u001b[0m \u001b[32m━━━━━━━━━━━━━━━━━━━━\u001b[0m\u001b[37m\u001b[0m \u001b[1m406s\u001b[0m 4ms/step - accuracy: 0.0264 - loss: 5.1330 - val_accuracy: 0.0266 - val_loss: 5.1314\n",
      "Epoch 10/1000\n",
      "\u001b[1m108697/108697\u001b[0m \u001b[32m━━━━━━━━━━━━━━━━━━━━\u001b[0m\u001b[37m\u001b[0m \u001b[1m410s\u001b[0m 4ms/step - accuracy: 0.0263 - loss: 5.1331 - val_accuracy: 0.0265 - val_loss: 5.1317\n",
      "Epoch 11/1000\n",
      "\u001b[1m108697/108697\u001b[0m \u001b[32m━━━━━━━━━━━━━━━━━━━━\u001b[0m\u001b[37m\u001b[0m \u001b[1m412s\u001b[0m 4ms/step - accuracy: 0.0263 - loss: 5.1337 - val_accuracy: 0.0267 - val_loss: 5.1317\n",
      "Epoch 12/1000\n",
      "\u001b[1m108697/108697\u001b[0m \u001b[32m━━━━━━━━━━━━━━━━━━━━\u001b[0m\u001b[37m\u001b[0m \u001b[1m412s\u001b[0m 4ms/step - accuracy: 0.0263 - loss: 5.1333 - val_accuracy: 0.0265 - val_loss: 5.1319\n",
      "Epoch 13/1000\n",
      "\u001b[1m108697/108697\u001b[0m \u001b[32m━━━━━━━━━━━━━━━━━━━━\u001b[0m\u001b[37m\u001b[0m \u001b[1m415s\u001b[0m 4ms/step - accuracy: 0.0262 - loss: 5.1338 - val_accuracy: 0.0264 - val_loss: 5.1318\n",
      "Epoch 14/1000\n",
      "\u001b[1m108697/108697\u001b[0m \u001b[32m━━━━━━━━━━━━━━━━━━━━\u001b[0m\u001b[37m\u001b[0m \u001b[1m414s\u001b[0m 4ms/step - accuracy: 0.0261 - loss: 5.1343 - val_accuracy: 0.0264 - val_loss: 5.1316\n"
     ]
    }
   ],
   "source": [
    "model.compile(optimizer='adam',metrics=['accuracy'],loss='categorical_crossentropy')\n",
    "early_stopping = tf.keras.callbacks.EarlyStopping(monitor='val_loss', patience=10, restore_best_weights=True)\n",
    "history = model.fit(X_train, y_train, batch_size=100, epochs=1000, validation_data=(X_test, y_test), callbacks=[early_stopping], verbose=1)\n",
    "model.save('model.keras')"
   ]
  },
  {
   "cell_type": "code",
   "execution_count": 34,
   "id": "687e67915670439",
   "metadata": {
    "ExecuteTime": {
     "end_time": "2024-10-18T17:41:17.009319Z",
     "start_time": "2024-10-18T17:41:16.817542Z"
    }
   },
   "outputs": [
    {
     "data": {
      "image/png": "[encoded data removed]",
      "text/plain": [
       "<Figure size 640x480 with 1 Axes>"
      ]
     },
     "metadata": {},
     "output_type": "display_data"
    }
   ],
   "source": [
    "plt.plot(history.history['accuracy'], label='training accuracy')\n",
    "plt.plot(history.history['val_accuracy'], label='validation accuracy')\n",
    "plt.title('Accuracy')\n",
    "plt.xlabel('Epochs')\n",
    "plt.ylabel('Accuracy')\n",
    "plt.legend()\n",
    "plt.show()"
   ]
  },
  {
   "cell_type": "code",
   "execution_count": 35,
   "id": "3c6053696638e241",
   "metadata": {
    "ExecuteTime": {
     "end_time": "2024-10-18T17:43:38.136946Z",
     "start_time": "2024-10-18T17:43:38.043769Z"
    }
   },
   "outputs": [],
   "source": [
    "model = tf.keras.models.load_model('model.keras')"
   ]
  },
  {
   "cell_type": "code",
   "execution_count": 36,
   "id": "b09dc437d82ec71",
   "metadata": {
    "ExecuteTime": {
     "end_time": "2024-10-18T17:44:06.181281Z",
     "start_time": "2024-10-18T17:43:39.607012Z"
    }
   },
   "outputs": [
    {
     "name": "stdout",
     "output_type": "stream",
     "text": [
      "Test loss: 5.130685329437256\n",
      "Test accuracy: 0.026765579357743263\n"
     ]
    }
   ],
   "source": [
    "score = model.evaluate(X_test, y_test, verbose=0)\n",
    "print('Test loss:', score[0])\n",
    "print('Test accuracy:', score[1])"
   ]
  }
 ],
 "metadata": {
  "kernelspec": {
   "display_name": "Python 3",
   "language": "python",
   "name": "python3"
  },
  "language_info": {
   "codemirror_mode": {
    "name": "ipython",
    "version": 3
   },
   "file_extension": ".py",
   "mimetype": "text/x-python",
   "name": "python",
   "nbconvert_exporter": "python",
   "pygments_lexer": "ipython3",
   "version": "3.12.6"
  }
 },
 "nbformat": 4,
 "nbformat_minor": 5
}
