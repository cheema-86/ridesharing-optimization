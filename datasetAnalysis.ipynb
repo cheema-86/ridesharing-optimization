{
 "cells": [
  {
   "metadata": {},
   "cell_type": "markdown",
   "source": "# Imports",
   "id": "81d5619ae32d75d"
  },
  {
   "cell_type": "code",
   "id": "initial_id",
   "metadata": {
    "collapsed": true
   },
   "source": [
    "import numpy as np \n",
    "import pandas as pd \n",
    "import matplotlib.pyplot as plt \n",
    "import tensorflow as tf"
   ],
   "outputs": [],
   "execution_count": null
  },
  {
   "metadata": {},
   "cell_type": "code",
   "source": "df=pd.read_parquet(\"data/fhvhv_tripdata_2023-01.parquet\")",
   "id": "94411d9584dc732",
   "outputs": [],
   "execution_count": null
  },
  {
   "metadata": {},
   "cell_type": "code",
   "source": "df.head()",
   "id": "98097a94b55a7bdb",
   "outputs": [],
   "execution_count": null
  },
  {
   "metadata": {},
   "cell_type": "code",
   "source": "df.info()",
   "id": "20d578298c2413d9",
   "outputs": [],
   "execution_count": null
  },
  {
   "metadata": {},
   "cell_type": "markdown",
   "source": "# Data Cleanup / Preprocessing",
   "id": "95b89785b7039b0b"
  },
  {
   "metadata": {},
   "cell_type": "code",
   "source": [
    "# Remove Null Values\n",
    "df.dropna(inplace=True)"
   ],
   "id": "5dea8bfed4e6cfbd",
   "outputs": [],
   "execution_count": null
  },
  {
   "metadata": {},
   "cell_type": "code",
   "source": [
    "# Drop unused column\n",
    "df.drop(['hvfhs_license_num','dispatching_base_num','originating_base_num','base_passenger_fare','tolls','bcf','sales_tax','congestion_surcharge','airport_fee','tips','driver_pay','shared_match_flag','shared_request_flag','access_a_ride_flag','wav_match_flag','wav_request_flag'],axis=1, inplace=True)"
   ],
   "id": "b7870d237ac75932",
   "outputs": [],
   "execution_count": null
  },
  {
   "metadata": {},
   "cell_type": "code",
   "source": [
    "# Cast the start/end station id to numbers\n",
    "df[['Pickup', 'Drop']] = df[['PULocationID', 'DOLocationID']].apply(pd.to_numeric, errors='coerce')"
   ],
   "id": "44ea29aced4173e2",
   "outputs": [],
   "execution_count": null
  },
  {
   "metadata": {},
   "cell_type": "code",
   "source": [
    "# Convert to Date/time\n",
    "df['started_at']=pd.to_datetime(df['request_datetime'])\n",
    "df['ended_at']=pd.to_datetime(df['dropoff_datetime'])"
   ],
   "id": "1c6e59cffc9bbb05",
   "outputs": [],
   "execution_count": null
  },
  {
   "metadata": {},
   "cell_type": "code",
   "source": [
    "# Get time of day in terms of percentage\n",
    "df['start_time'] = (df['started_at'].dt.hour + (df['started_at'].dt.minute / 60)) / 24\n",
    "\n",
    "# Convert time of day to cyclic features using sine and cosine\n",
    "df['time_sin'] = np.sin(2 * np.pi * df['start_time'])\n",
    "df['time_cos'] = np.cos(2 * np.pi * df['start_time'])"
   ],
   "id": "613fa105c616a54b",
   "outputs": [],
   "execution_count": null
  },
  {
   "metadata": {},
   "cell_type": "code",
   "source": [
    "# Also consider cyclic day of the week\n",
    "df['day_sin'] = np.sin(2 * np.pi * df['started_at'].dt.dayofweek / 7)\n",
    "df['day_cos'] = np.cos(2 * np.pi * df['started_at'].dt.dayofweek / 7)"
   ],
   "id": "e78a0e485c99c77c",
   "outputs": [],
   "execution_count": null
  },
  {
   "metadata": {},
   "cell_type": "code",
   "source": "df.info()",
   "id": "2fb1879438bba08f",
   "outputs": [],
   "execution_count": null
  },
  {
   "metadata": {},
   "cell_type": "code",
   "source": "df.head()",
   "id": "624d04636e97d00c",
   "outputs": [],
   "execution_count": null
  },
  {
   "metadata": {},
   "cell_type": "markdown",
   "source": "# Visualization",
   "id": "e29875481c046e76"
  },
  {
   "metadata": {},
   "cell_type": "code",
   "source": [
    "plt.figure(figsize=(15,6))\n",
    "df['Pickup'].value_counts(sort=False).sort_index().plot(kind='bar')\n",
    "plt.xlabel(\"Start Station\")\n",
    "plt.ylabel(\"Count\")\n",
    "plt.show()"
   ],
   "id": "dfaec2cf9ceee97e",
   "outputs": [],
   "execution_count": null
  },
  {
   "metadata": {},
   "cell_type": "code",
   "source": [
    "plt.figure(figsize=(15,6))\n",
    "df['started_at'].dt.hour.value_counts(sort=False).sort_index().plot(kind='bar')\n",
    "plt.xlabel(\"Day of week\")\n",
    "plt.ylabel(\"Count\")\n",
    "plt.show()"
   ],
   "id": "d4dc765e33ba8498",
   "outputs": [],
   "execution_count": null
  },
  {
   "metadata": {},
   "cell_type": "code",
   "source": [
    "plt.figure(figsize=(15,6))\n",
    "df['started_at'].dt.dayofweek.value_counts(sort=False).sort_index().plot(kind='bar')\n",
    "plt.xlabel(\"Day of week\")\n",
    "plt.ylabel(\"Count\")\n",
    "plt.show()"
   ],
   "id": "228d3b5ab5d3ea8d",
   "outputs": [],
   "execution_count": null
  },
  {
   "metadata": {},
   "cell_type": "markdown",
   "source": "# Predicting Start Points",
   "id": "7e1aae2b55666bf0"
  },
  {
   "metadata": {},
   "cell_type": "code",
   "source": "max(df['Pickup'])",
   "id": "151dc4992b8ff769",
   "outputs": [],
   "execution_count": null
  },
  {
   "metadata": {},
   "cell_type": "code",
   "source": [
    "features = ['time_sin','time_cos','day_sin','day_cos']\n",
    "targets = ['Pickup']"
   ],
   "id": "9fdd7c913f4ee3e3",
   "outputs": [],
   "execution_count": null
  },
  {
   "metadata": {},
   "cell_type": "code",
   "source": "from sklearn.model_selection import train_test_split",
   "id": "49c27b1411455269",
   "outputs": [],
   "execution_count": null
  },
  {
   "metadata": {},
   "cell_type": "code",
   "source": "X_train, X_test, y_train, y_test = train_test_split(df[features], df[targets], test_size=0.2, random_state=42)",
   "id": "fc7b1784092b3252",
   "outputs": [],
   "execution_count": null
  },
  {
   "metadata": {},
   "cell_type": "code",
   "source": "from sklearn.preprocessing import StandardScaler",
   "id": "3f58f4a6f5e4efd2",
   "outputs": [],
   "execution_count": null
  },
  {
   "metadata": {},
   "cell_type": "code",
   "source": [
    "scaler = StandardScaler()\n",
    "X_train = scaler.fit_transform(X_train)\n",
    "X_test = scaler.transform(X_test)"
   ],
   "id": "70833acb2c691ec2",
   "outputs": [],
   "execution_count": null
  },
  {
   "metadata": {},
   "cell_type": "code",
   "source": "from tensorflow.keras.utils import to_categorical",
   "id": "b9a13dc522abe3de",
   "outputs": [],
   "execution_count": null
  },
  {
   "metadata": {},
   "cell_type": "code",
   "source": [
    "y_train = y_train.values.flatten()\n",
    "y_test = y_test.values.flatten()"
   ],
   "id": "b816329760d8ff5a",
   "outputs": [],
   "execution_count": null
  },
  {
   "metadata": {},
   "cell_type": "code",
   "source": "X_train.shape",
   "id": "ae78a10a275ef5c7",
   "outputs": [],
   "execution_count": null
  },
  {
   "metadata": {},
   "cell_type": "code",
   "source": [
    "y_train = np.array(y_train).astype(int)\n",
    "y_test = np.array(y_test).astype(int)"
   ],
   "id": "ec1f8d57df226505",
   "outputs": [],
   "execution_count": null
  },
  {
   "metadata": {},
   "cell_type": "code",
   "source": "y_test = to_categorical(y_test, 266)",
   "id": "ebf613f6a3126775",
   "outputs": [],
   "execution_count": null
  },
  {
   "metadata": {},
   "cell_type": "code",
   "source": "y_train = to_categorical(y_train, 266)",
   "id": "e7d95057716b49a5",
   "outputs": [],
   "execution_count": null
  },
  {
   "metadata": {},
   "cell_type": "code",
   "source": [
    "model = tf.keras.Sequential()\n",
    "\n",
    "# Input layer\n",
    "model.add(tf.keras.layers.InputLayer(input_shape=X_train.shape[1:]))\n",
    "\n",
    "# Hidden layers\n",
    "model.add(tf.keras.layers.Dense(64, activation='relu'))\n",
    "model.add(tf.keras.layers.Dense(32, activation='relu'))\n",
    "\n",
    "# Output layer (assuming 'n' distinct starting points to predict)\n",
    "model.add(tf.keras.layers.Dense(265, activation='softmax'))"
   ],
   "id": "adc70f66d0a6c979",
   "outputs": [],
   "execution_count": null
  },
  {
   "metadata": {},
   "cell_type": "code",
   "source": "model.summary()",
   "id": "7d9516835bf34dfd",
   "outputs": [],
   "execution_count": null
  },
  {
   "metadata": {},
   "cell_type": "code",
   "source": [
    "model.compile(optimizer='adam',metrics=['accuracy'],loss='categorical_crossentropy')\n",
    "#early_stopping = tf.keras.callbacks.EarlyStopping(monitor='val_loss', patience=5, restore_best_weights=True)\n",
    "#history = model.fit(X_train, y_train, epochs=10, validation_data=(X_test, y_test), callbacks=[early_stopping], verbose=1)\n",
    "history = model.fit(X_train, y_train, batch_size=1000, epochs=10, validation_data=(X_test, y_test), verbose=1)\n",
    "#from tqdm.keras import TqdmCallback\n",
    "\n",
    "#history = model.fit(X_train, y_train, batch_size=1000, epochs=10, validation_data=(X_test, y_test),\n",
    "#                    callbacks=[TqdmCallback(verbose=1)])\n",
    "model.save('model.keras')"
   ],
   "id": "2a681be585df909f",
   "outputs": [],
   "execution_count": null
  },
  {
   "metadata": {},
   "cell_type": "code",
   "source": [
    "plt.plot(history.history['accuracy'], label='training accuracy')\n",
    "plt.plot(history.history['val_accuracy'], label='validation accuracy')\n",
    "plt.title('Accuracy')\n",
    "plt.xlabel('Epochs')\n",
    "plt.ylabel('Accuracy')\n",
    "plt.legend()\n",
    "plt.show()"
   ],
   "id": "687e67915670439",
   "outputs": [],
   "execution_count": null
  },
  {
   "metadata": {},
   "cell_type": "code",
   "source": "model = tf.keras.models.load_model('model.keras')",
   "id": "3c6053696638e241",
   "outputs": [],
   "execution_count": null
  },
  {
   "metadata": {},
   "cell_type": "code",
   "source": [
    "score = model.evaluate(X_test, y_test, verbose=0)\n",
    "print('Test loss:', score[0])\n",
    "print('Test accuracy:', score[1])"
   ],
   "id": "b09dc437d82ec71",
   "outputs": [],
   "execution_count": null
  },
  {
   "metadata": {},
   "cell_type": "markdown",
   "source": "# Predicing End Points",
   "id": "c0371147e102ddcb"
  },
  {
   "metadata": {},
   "cell_type": "code",
   "source": [
    "features = ['start_lat','start_lng']\n",
    "targets = ['end_lat','end_lng']"
   ],
   "id": "594c532ee2bfccb0",
   "outputs": [],
   "execution_count": null
  },
  {
   "metadata": {},
   "cell_type": "code",
   "source": "X_train, X_test, y_train, y_test = train_test_split(df[features], df[targets], test_size=0.2, random_state=42)",
   "id": "bfc1d9bea044cc",
   "outputs": [],
   "execution_count": null
  },
  {
   "metadata": {},
   "cell_type": "code",
   "source": [
    "model2 = tf.keras.Sequential([\n",
    "    tf.keras.layers.Dense(32, activation='relu', input_shape=(X_train.shape[1],),\n",
    "                          kernel_regularizer=tf.keras.regularizers.l2(0.01)),\n",
    "    tf.keras.layers.BatchNormalization(),\n",
    "    tf.keras.layers.Dropout(0.3),\n",
    "    \n",
    "    tf.keras.layers.Dense(2)\n",
    "])"
   ],
   "id": "cb64122a52f5474",
   "outputs": [],
   "execution_count": null
  },
  {
   "metadata": {},
   "cell_type": "code",
   "source": [
    "model2.compile(optimizer='adam',metrics=['accuracy'],loss='mse')\n",
    "model2.fit(X_train, y_train, epochs=1, validation_data=(X_test, y_test))"
   ],
   "id": "f36548e09f1859d7",
   "outputs": [],
   "execution_count": null
  },
  {
   "metadata": {},
   "cell_type": "code",
   "source": [
    "score = model2.evaluate(X_test, y_test, verbose=0)\n",
    "print('Test loss:', score[0])\n",
    "print('Test accuracy:', score[1])"
   ],
   "id": "76d03ddd1195d659",
   "outputs": [],
   "execution_count": null
  }
 ],
 "metadata": {
  "kernelspec": {
   "display_name": "Python 3",
   "language": "python",
   "name": "python3"
  },
  "language_info": {
   "codemirror_mode": {
    "name": "ipython",
    "version": 2
   },
   "file_extension": ".py",
   "mimetype": "text/x-python",
   "name": "python",
   "nbconvert_exporter": "python",
   "pygments_lexer": "ipython2",
   "version": "2.7.6"
  }
 },
 "nbformat": 4,
 "nbformat_minor": 5
}
