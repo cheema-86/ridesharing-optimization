{
 "cells": [
  {
   "metadata": {},
   "cell_type": "markdown",
   "source": "# Imports",
   "id": "81d5619ae32d75d"
  },
  {
   "cell_type": "code",
   "id": "initial_id",
   "metadata": {
    "collapsed": true,
    "ExecuteTime": {
     "end_time": "2024-10-06T16:12:20.663917Z",
     "start_time": "2024-10-06T16:12:20.653958Z"
    }
   },
   "source": [
    "import numpy as np \n",
    "import pandas as pd \n",
    "import matplotlib.pyplot as plt \n",
    "import tensorflow as tf"
   ],
   "outputs": [],
   "execution_count": 82
  },
  {
   "metadata": {
    "ExecuteTime": {
     "end_time": "2024-10-06T16:12:25.172951Z",
     "start_time": "2024-10-06T16:12:20.752078Z"
    }
   },
   "cell_type": "code",
   "source": "df=pd.read_csv('data/citibike_2023.csv')",
   "id": "94411d9584dc732",
   "outputs": [
    {
     "name": "stderr",
     "output_type": "stream",
     "text": [
      "C:\\Users\\ysc15\\AppData\\Local\\Temp\\ipykernel_6008\\1007777399.py:1: DtypeWarning: Columns (6) have mixed types. Specify dtype option on import or set low_memory=False.\n",
      "  df=pd.read_csv('data/citibike_2023.csv')\n"
     ]
    }
   ],
   "execution_count": 83
  },
  {
   "metadata": {
    "ExecuteTime": {
     "end_time": "2024-10-06T16:12:25.251927Z",
     "start_time": "2024-10-06T16:12:25.229084Z"
    }
   },
   "cell_type": "code",
   "source": "df.head()",
   "id": "98097a94b55a7bdb",
   "outputs": [
    {
     "data": {
      "text/plain": [
       "   Unnamed: 0           ride_id rideable_type           started_at  \\\n",
       "0    12536574  6A1558E5EB8E9B3B  classic_bike  2023-06-25 06:44:47   \n",
       "1    20766033  F5DAABF8EAD39B32  classic_bike  2023-08-15 18:05:37   \n",
       "2    17246346  CC4D3C1C193EBCDD  classic_bike  2023-07-05 15:00:28   \n",
       "3     3860641  541D7A53817AF238  classic_bike  2023-03-05 11:29:02   \n",
       "4    27285265  EACA2B802BFED979  classic_bike  2023-10-17 15:02:23   \n",
       "\n",
       "              ended_at                 start_station_name start_station_id  \\\n",
       "0  2023-06-25 07:02:43              Walton Ave & E 168 St          8179.03   \n",
       "1  2023-08-15 18:12:06  Grand Army Plaza & Central Park S          6839.10   \n",
       "2  2023-07-05 15:06:34      Knickerbocker Ave & Thames St          5018.06   \n",
       "3  2023-03-05 11:36:36        DeKalb Ave & Vanderbilt Ave          4461.04   \n",
       "4  2023-10-17 15:06:40              Liberty St & Broadway          5105.01   \n",
       "\n",
       "           end_station_name end_station_id  start_lat  start_lng    end_lat  \\\n",
       "0             Icahn Stadium        7514.01  40.836655 -73.918324  40.793460   \n",
       "1           2 Ave & E 72 St        6925.09  40.764004 -73.973974  40.768762   \n",
       "2     Melrose St & Broadway        4801.04  40.705446 -73.929975  40.697481   \n",
       "3  Pacific St & Classon Ave        4148.07  40.689425 -73.968898  40.679194   \n",
       "4            West Thames St        5114.06  40.708164 -74.010369  40.708347   \n",
       "\n",
       "     end_lng member_casual  \n",
       "0 -73.923890        member  \n",
       "1 -73.958408        member  \n",
       "2 -73.935877        casual  \n",
       "3 -73.958790        member  \n",
       "4 -74.017134        member  "
      ],
      "text/html": [
       "<div>\n",
       "<style scoped>\n",
       "    .dataframe tbody tr th:only-of-type {\n",
       "        vertical-align: middle;\n",
       "    }\n",
       "\n",
       "    .dataframe tbody tr th {\n",
       "        vertical-align: top;\n",
       "    }\n",
       "\n",
       "    .dataframe thead th {\n",
       "        text-align: right;\n",
       "    }\n",
       "</style>\n",
       "<table border=\"1\" class=\"dataframe\">\n",
       "  <thead>\n",
       "    <tr style=\"text-align: right;\">\n",
       "      <th></th>\n",
       "      <th>Unnamed: 0</th>\n",
       "      <th>ride_id</th>\n",
       "      <th>rideable_type</th>\n",
       "      <th>started_at</th>\n",
       "      <th>ended_at</th>\n",
       "      <th>start_station_name</th>\n",
       "      <th>start_station_id</th>\n",
       "      <th>end_station_name</th>\n",
       "      <th>end_station_id</th>\n",
       "      <th>start_lat</th>\n",
       "      <th>start_lng</th>\n",
       "      <th>end_lat</th>\n",
       "      <th>end_lng</th>\n",
       "      <th>member_casual</th>\n",
       "    </tr>\n",
       "  </thead>\n",
       "  <tbody>\n",
       "    <tr>\n",
       "      <th>0</th>\n",
       "      <td>12536574</td>\n",
       "      <td>6A1558E5EB8E9B3B</td>\n",
       "      <td>classic_bike</td>\n",
       "      <td>2023-06-25 06:44:47</td>\n",
       "      <td>2023-06-25 07:02:43</td>\n",
       "      <td>Walton Ave &amp; E 168 St</td>\n",
       "      <td>8179.03</td>\n",
       "      <td>Icahn Stadium</td>\n",
       "      <td>7514.01</td>\n",
       "      <td>40.836655</td>\n",
       "      <td>-73.918324</td>\n",
       "      <td>40.793460</td>\n",
       "      <td>-73.923890</td>\n",
       "      <td>member</td>\n",
       "    </tr>\n",
       "    <tr>\n",
       "      <th>1</th>\n",
       "      <td>20766033</td>\n",
       "      <td>F5DAABF8EAD39B32</td>\n",
       "      <td>classic_bike</td>\n",
       "      <td>2023-08-15 18:05:37</td>\n",
       "      <td>2023-08-15 18:12:06</td>\n",
       "      <td>Grand Army Plaza &amp; Central Park S</td>\n",
       "      <td>6839.10</td>\n",
       "      <td>2 Ave &amp; E 72 St</td>\n",
       "      <td>6925.09</td>\n",
       "      <td>40.764004</td>\n",
       "      <td>-73.973974</td>\n",
       "      <td>40.768762</td>\n",
       "      <td>-73.958408</td>\n",
       "      <td>member</td>\n",
       "    </tr>\n",
       "    <tr>\n",
       "      <th>2</th>\n",
       "      <td>17246346</td>\n",
       "      <td>CC4D3C1C193EBCDD</td>\n",
       "      <td>classic_bike</td>\n",
       "      <td>2023-07-05 15:00:28</td>\n",
       "      <td>2023-07-05 15:06:34</td>\n",
       "      <td>Knickerbocker Ave &amp; Thames St</td>\n",
       "      <td>5018.06</td>\n",
       "      <td>Melrose St &amp; Broadway</td>\n",
       "      <td>4801.04</td>\n",
       "      <td>40.705446</td>\n",
       "      <td>-73.929975</td>\n",
       "      <td>40.697481</td>\n",
       "      <td>-73.935877</td>\n",
       "      <td>casual</td>\n",
       "    </tr>\n",
       "    <tr>\n",
       "      <th>3</th>\n",
       "      <td>3860641</td>\n",
       "      <td>541D7A53817AF238</td>\n",
       "      <td>classic_bike</td>\n",
       "      <td>2023-03-05 11:29:02</td>\n",
       "      <td>2023-03-05 11:36:36</td>\n",
       "      <td>DeKalb Ave &amp; Vanderbilt Ave</td>\n",
       "      <td>4461.04</td>\n",
       "      <td>Pacific St &amp; Classon Ave</td>\n",
       "      <td>4148.07</td>\n",
       "      <td>40.689425</td>\n",
       "      <td>-73.968898</td>\n",
       "      <td>40.679194</td>\n",
       "      <td>-73.958790</td>\n",
       "      <td>member</td>\n",
       "    </tr>\n",
       "    <tr>\n",
       "      <th>4</th>\n",
       "      <td>27285265</td>\n",
       "      <td>EACA2B802BFED979</td>\n",
       "      <td>classic_bike</td>\n",
       "      <td>2023-10-17 15:02:23</td>\n",
       "      <td>2023-10-17 15:06:40</td>\n",
       "      <td>Liberty St &amp; Broadway</td>\n",
       "      <td>5105.01</td>\n",
       "      <td>West Thames St</td>\n",
       "      <td>5114.06</td>\n",
       "      <td>40.708164</td>\n",
       "      <td>-74.010369</td>\n",
       "      <td>40.708347</td>\n",
       "      <td>-74.017134</td>\n",
       "      <td>member</td>\n",
       "    </tr>\n",
       "  </tbody>\n",
       "</table>\n",
       "</div>"
      ]
     },
     "execution_count": 84,
     "metadata": {},
     "output_type": "execute_result"
    }
   ],
   "execution_count": 84
  },
  {
   "metadata": {
    "ExecuteTime": {
     "end_time": "2024-10-06T16:12:26.144301Z",
     "start_time": "2024-10-06T16:12:25.339891Z"
    }
   },
   "cell_type": "code",
   "source": "df.info()",
   "id": "20d578298c2413d9",
   "outputs": [
    {
     "name": "stdout",
     "output_type": "stream",
     "text": [
      "<class 'pandas.core.frame.DataFrame'>\n",
      "RangeIndex: 1000000 entries, 0 to 999999\n",
      "Data columns (total 14 columns):\n",
      " #   Column              Non-Null Count    Dtype  \n",
      "---  ------              --------------    -----  \n",
      " 0   Unnamed: 0          1000000 non-null  int64  \n",
      " 1   ride_id             1000000 non-null  object \n",
      " 2   rideable_type       1000000 non-null  object \n",
      " 3   started_at          1000000 non-null  object \n",
      " 4   ended_at            1000000 non-null  object \n",
      " 5   start_station_name  999459 non-null   object \n",
      " 6   start_station_id    999459 non-null   object \n",
      " 7   end_station_name    997192 non-null   object \n",
      " 8   end_station_id      997192 non-null   object \n",
      " 9   start_lat           1000000 non-null  float64\n",
      " 10  start_lng           1000000 non-null  float64\n",
      " 11  end_lat             999287 non-null   float64\n",
      " 12  end_lng             999287 non-null   float64\n",
      " 13  member_casual       1000000 non-null  object \n",
      "dtypes: float64(4), int64(1), object(9)\n",
      "memory usage: 106.8+ MB\n"
     ]
    }
   ],
   "execution_count": 85
  },
  {
   "metadata": {},
   "cell_type": "markdown",
   "source": "# Data Cleanup / Preprocessing",
   "id": "95b89785b7039b0b"
  },
  {
   "metadata": {
    "ExecuteTime": {
     "end_time": "2024-10-06T16:12:26.920879Z",
     "start_time": "2024-10-06T16:12:26.223245Z"
    }
   },
   "cell_type": "code",
   "source": [
    "# Remove Null Values\n",
    "df.dropna(inplace=True)"
   ],
   "id": "5dea8bfed4e6cfbd",
   "outputs": [],
   "execution_count": 86
  },
  {
   "metadata": {
    "ExecuteTime": {
     "end_time": "2024-10-06T16:12:27.047058Z",
     "start_time": "2024-10-06T16:12:26.923396Z"
    }
   },
   "cell_type": "code",
   "source": [
    "# Drop unused column\n",
    "df.drop(['ride_id','rideable_type','member_casual','start_station_name','end_station_name'],axis=1, inplace=True)"
   ],
   "id": "b7870d237ac75932",
   "outputs": [],
   "execution_count": 87
  },
  {
   "metadata": {
    "ExecuteTime": {
     "end_time": "2024-10-06T16:12:27.158187Z",
     "start_time": "2024-10-06T16:12:27.070992Z"
    }
   },
   "cell_type": "code",
   "source": [
    "# Round the latitude/longitude values\n",
    "df[['start_lat', 'end_lat', 'start_lng', 'end_lng']] = df[['start_lat', 'end_lat', 'start_lng', 'end_lng']].round(6)\n",
    "df[['start_lat', 'end_lat', 'start_lng', 'end_lng']] = df[['start_lat', 'end_lat', 'start_lng', 'end_lng']].astype('float32')"
   ],
   "id": "dd76cdc3fb3b2c33",
   "outputs": [],
   "execution_count": 88
  },
  {
   "metadata": {
    "ExecuteTime": {
     "end_time": "2024-10-06T16:12:28.172041Z",
     "start_time": "2024-10-06T16:12:27.178213Z"
    }
   },
   "cell_type": "code",
   "source": [
    "# Cast the start/end station id to numbers\n",
    "df[['start_station_id', 'end_station_id']] = df[['start_station_id', 'end_station_id']].apply(pd.to_numeric, errors='coerce')\n",
    "df[['start_station_id', 'end_station_id']] = df[['start_station_id', 'end_station_id']].astype('float16')"
   ],
   "id": "44ea29aced4173e2",
   "outputs": [],
   "execution_count": 89
  },
  {
   "metadata": {
    "ExecuteTime": {
     "end_time": "2024-10-06T16:12:29.753260Z",
     "start_time": "2024-10-06T16:12:28.194516Z"
    }
   },
   "cell_type": "code",
   "source": [
    "# Convert to Date/time\n",
    "df['started_at']=pd.to_datetime(df['started_at'])\n",
    "df['ended_at']=pd.to_datetime(df['ended_at'])"
   ],
   "id": "1c6e59cffc9bbb05",
   "outputs": [],
   "execution_count": 90
  },
  {
   "metadata": {
    "ExecuteTime": {
     "end_time": "2024-10-06T16:12:30.027377Z",
     "start_time": "2024-10-06T16:12:29.783034Z"
    }
   },
   "cell_type": "code",
   "source": [
    "# Get time of day in terms of percentage\n",
    "df['start_time'] = (df['started_at'].dt.hour + (df['started_at'].dt.minute / 60)) / 24\n",
    "\n",
    "# Convert time of day to cyclic features using sine and cosine\n",
    "df['time_sin'] = np.sin(2 * np.pi * df['start_time'])\n",
    "df['time_cos'] = np.cos(2 * np.pi * df['start_time'])"
   ],
   "id": "613fa105c616a54b",
   "outputs": [],
   "execution_count": 91
  },
  {
   "metadata": {
    "ExecuteTime": {
     "end_time": "2024-10-06T16:12:30.283945Z",
     "start_time": "2024-10-06T16:12:30.054389Z"
    }
   },
   "cell_type": "code",
   "source": [
    "# Also consider cyclic day of the week\n",
    "df['day_sin'] = np.sin(2 * np.pi * df['started_at'].dt.dayofweek / 7)\n",
    "df['day_cos'] = np.cos(2 * np.pi * df['started_at'].dt.dayofweek / 7)"
   ],
   "id": "e78a0e485c99c77c",
   "outputs": [],
   "execution_count": 92
  },
  {
   "metadata": {
    "ExecuteTime": {
     "end_time": "2024-10-06T16:12:30.375503Z",
     "start_time": "2024-10-06T16:12:30.317939Z"
    }
   },
   "cell_type": "code",
   "source": "df.info()",
   "id": "2fb1879438bba08f",
   "outputs": [
    {
     "name": "stdout",
     "output_type": "stream",
     "text": [
      "<class 'pandas.core.frame.DataFrame'>\n",
      "Index: 997021 entries, 0 to 999999\n",
      "Data columns (total 14 columns):\n",
      " #   Column            Non-Null Count   Dtype         \n",
      "---  ------            --------------   -----         \n",
      " 0   Unnamed: 0        997021 non-null  int64         \n",
      " 1   started_at        997021 non-null  datetime64[ns]\n",
      " 2   ended_at          997021 non-null  datetime64[ns]\n",
      " 3   start_station_id  996970 non-null  float16       \n",
      " 4   end_station_id    996831 non-null  float16       \n",
      " 5   start_lat         997021 non-null  float32       \n",
      " 6   start_lng         997021 non-null  float32       \n",
      " 7   end_lat           997021 non-null  float32       \n",
      " 8   end_lng           997021 non-null  float32       \n",
      " 9   start_time        997021 non-null  float64       \n",
      " 10  time_sin          997021 non-null  float64       \n",
      " 11  time_cos          997021 non-null  float64       \n",
      " 12  day_sin           997021 non-null  float64       \n",
      " 13  day_cos           997021 non-null  float64       \n",
      "dtypes: datetime64[ns](2), float16(2), float32(4), float64(5), int64(1)\n",
      "memory usage: 87.5 MB\n"
     ]
    }
   ],
   "execution_count": 93
  },
  {
   "metadata": {
    "ExecuteTime": {
     "end_time": "2024-10-06T16:12:30.464998Z",
     "start_time": "2024-10-06T16:12:30.438051Z"
    }
   },
   "cell_type": "code",
   "source": "df.head()",
   "id": "624d04636e97d00c",
   "outputs": [
    {
     "data": {
      "text/plain": [
       "   Unnamed: 0          started_at            ended_at  start_station_id  \\\n",
       "0    12536574 2023-06-25 06:44:47 2023-06-25 07:02:43            8180.0   \n",
       "1    20766033 2023-08-15 18:05:37 2023-08-15 18:12:06            6840.0   \n",
       "2    17246346 2023-07-05 15:00:28 2023-07-05 15:06:34            5020.0   \n",
       "3     3860641 2023-03-05 11:29:02 2023-03-05 11:36:36            4460.0   \n",
       "4    27285265 2023-10-17 15:02:23 2023-10-17 15:06:40            5104.0   \n",
       "\n",
       "   end_station_id  start_lat  start_lng    end_lat    end_lng  start_time  \\\n",
       "0          7516.0  40.836655 -73.918327  40.793461 -73.923889    0.280556   \n",
       "1          6924.0  40.764004 -73.973976  40.768761 -73.958405    0.753472   \n",
       "2          4800.0  40.705444 -73.929977  40.697479 -73.935875    0.625000   \n",
       "3          4148.0  40.689426 -73.968895  40.679195 -73.958794    0.478472   \n",
       "4          5116.0  40.708164 -74.010368  40.708347 -74.017136    0.626389   \n",
       "\n",
       "   time_sin  time_cos   day_sin   day_cos  \n",
       "0  0.981627 -0.190809 -0.781831  0.623490  \n",
       "1 -0.999762  0.021815  0.781831  0.623490  \n",
       "2 -0.707107 -0.707107  0.974928 -0.222521  \n",
       "3  0.134851 -0.990866 -0.781831  0.623490  \n",
       "4 -0.713250 -0.700909  0.781831  0.623490  "
      ],
      "text/html": [
       "<div>\n",
       "<style scoped>\n",
       "    .dataframe tbody tr th:only-of-type {\n",
       "        vertical-align: middle;\n",
       "    }\n",
       "\n",
       "    .dataframe tbody tr th {\n",
       "        vertical-align: top;\n",
       "    }\n",
       "\n",
       "    .dataframe thead th {\n",
       "        text-align: right;\n",
       "    }\n",
       "</style>\n",
       "<table border=\"1\" class=\"dataframe\">\n",
       "  <thead>\n",
       "    <tr style=\"text-align: right;\">\n",
       "      <th></th>\n",
       "      <th>Unnamed: 0</th>\n",
       "      <th>started_at</th>\n",
       "      <th>ended_at</th>\n",
       "      <th>start_station_id</th>\n",
       "      <th>end_station_id</th>\n",
       "      <th>start_lat</th>\n",
       "      <th>start_lng</th>\n",
       "      <th>end_lat</th>\n",
       "      <th>end_lng</th>\n",
       "      <th>start_time</th>\n",
       "      <th>time_sin</th>\n",
       "      <th>time_cos</th>\n",
       "      <th>day_sin</th>\n",
       "      <th>day_cos</th>\n",
       "    </tr>\n",
       "  </thead>\n",
       "  <tbody>\n",
       "    <tr>\n",
       "      <th>0</th>\n",
       "      <td>12536574</td>\n",
       "      <td>2023-06-25 06:44:47</td>\n",
       "      <td>2023-06-25 07:02:43</td>\n",
       "      <td>8180.0</td>\n",
       "      <td>7516.0</td>\n",
       "      <td>40.836655</td>\n",
       "      <td>-73.918327</td>\n",
       "      <td>40.793461</td>\n",
       "      <td>-73.923889</td>\n",
       "      <td>0.280556</td>\n",
       "      <td>0.981627</td>\n",
       "      <td>-0.190809</td>\n",
       "      <td>-0.781831</td>\n",
       "      <td>0.623490</td>\n",
       "    </tr>\n",
       "    <tr>\n",
       "      <th>1</th>\n",
       "      <td>20766033</td>\n",
       "      <td>2023-08-15 18:05:37</td>\n",
       "      <td>2023-08-15 18:12:06</td>\n",
       "      <td>6840.0</td>\n",
       "      <td>6924.0</td>\n",
       "      <td>40.764004</td>\n",
       "      <td>-73.973976</td>\n",
       "      <td>40.768761</td>\n",
       "      <td>-73.958405</td>\n",
       "      <td>0.753472</td>\n",
       "      <td>-0.999762</td>\n",
       "      <td>0.021815</td>\n",
       "      <td>0.781831</td>\n",
       "      <td>0.623490</td>\n",
       "    </tr>\n",
       "    <tr>\n",
       "      <th>2</th>\n",
       "      <td>17246346</td>\n",
       "      <td>2023-07-05 15:00:28</td>\n",
       "      <td>2023-07-05 15:06:34</td>\n",
       "      <td>5020.0</td>\n",
       "      <td>4800.0</td>\n",
       "      <td>40.705444</td>\n",
       "      <td>-73.929977</td>\n",
       "      <td>40.697479</td>\n",
       "      <td>-73.935875</td>\n",
       "      <td>0.625000</td>\n",
       "      <td>-0.707107</td>\n",
       "      <td>-0.707107</td>\n",
       "      <td>0.974928</td>\n",
       "      <td>-0.222521</td>\n",
       "    </tr>\n",
       "    <tr>\n",
       "      <th>3</th>\n",
       "      <td>3860641</td>\n",
       "      <td>2023-03-05 11:29:02</td>\n",
       "      <td>2023-03-05 11:36:36</td>\n",
       "      <td>4460.0</td>\n",
       "      <td>4148.0</td>\n",
       "      <td>40.689426</td>\n",
       "      <td>-73.968895</td>\n",
       "      <td>40.679195</td>\n",
       "      <td>-73.958794</td>\n",
       "      <td>0.478472</td>\n",
       "      <td>0.134851</td>\n",
       "      <td>-0.990866</td>\n",
       "      <td>-0.781831</td>\n",
       "      <td>0.623490</td>\n",
       "    </tr>\n",
       "    <tr>\n",
       "      <th>4</th>\n",
       "      <td>27285265</td>\n",
       "      <td>2023-10-17 15:02:23</td>\n",
       "      <td>2023-10-17 15:06:40</td>\n",
       "      <td>5104.0</td>\n",
       "      <td>5116.0</td>\n",
       "      <td>40.708164</td>\n",
       "      <td>-74.010368</td>\n",
       "      <td>40.708347</td>\n",
       "      <td>-74.017136</td>\n",
       "      <td>0.626389</td>\n",
       "      <td>-0.713250</td>\n",
       "      <td>-0.700909</td>\n",
       "      <td>0.781831</td>\n",
       "      <td>0.623490</td>\n",
       "    </tr>\n",
       "  </tbody>\n",
       "</table>\n",
       "</div>"
      ]
     },
     "execution_count": 94,
     "metadata": {},
     "output_type": "execute_result"
    }
   ],
   "execution_count": 94
  },
  {
   "metadata": {},
   "cell_type": "markdown",
   "source": "# Visualization",
   "id": "e29875481c046e76"
  },
  {
   "metadata": {
    "ExecuteTime": {
     "end_time": "2024-10-06T16:12:37.407598Z",
     "start_time": "2024-10-06T16:12:30.528323Z"
    }
   },
   "cell_type": "code",
   "source": [
    "plt.figure(figsize=(15,6))\n",
    "df['start_station_id'].value_counts(sort=False).sort_index().plot(kind='bar')\n",
    "plt.xlabel(\"Start Station\")\n",
    "plt.ylabel(\"Count\")\n",
    "plt.show()"
   ],
   "id": "dfaec2cf9ceee97e",
   "outputs": [
    {
     "data": {
      "text/plain": [
       "<Figure size 1500x600 with 1 Axes>"
      ],
      "image/png": "[encoded data removed]"
     },
     "metadata": {},
     "output_type": "display_data"
    }
   ],
   "execution_count": 95
  },
  {
   "metadata": {
    "ExecuteTime": {
     "end_time": "2024-10-06T16:12:37.761535Z",
     "start_time": "2024-10-06T16:12:37.470785Z"
    }
   },
   "cell_type": "code",
   "source": [
    "plt.figure(figsize=(15,6))\n",
    "df['started_at'].dt.dayofweek.value_counts(sort=False).sort_index().plot(kind='bar')\n",
    "plt.xlabel(\"Day of week\")\n",
    "plt.ylabel(\"Count\")\n",
    "plt.show()"
   ],
   "id": "228d3b5ab5d3ea8d",
   "outputs": [
    {
     "data": {
      "text/plain": [
       "<Figure size 1500x600 with 1 Axes>"
      ],
      "image/png": "[encoded data removed]"
     },
     "metadata": {},
     "output_type": "display_data"
    }
   ],
   "execution_count": 96
  },
  {
   "metadata": {
    "ExecuteTime": {
     "end_time": "2024-10-06T16:12:38.457146Z",
     "start_time": "2024-10-06T16:12:37.825483Z"
    }
   },
   "cell_type": "code",
   "source": [
    "x = df['start_lng']\n",
    "y = df['start_lat']\n",
    "plt.scatter(x, y, s = 1, color = '#0000FF11')\n",
    "plt.xlim(-74.055,-73.845)\n",
    "plt.ylim(40.5,41)\n",
    "plt.title(\"Start Points\")\n",
    "plt.xlabel(\"Longitude\")\n",
    "plt.ylabel(\"Latitude\")\n",
    "plt.show()"
   ],
   "id": "448ac4698c989b54",
   "outputs": [
    {
     "data": {
      "text/plain": [
       "<Figure size 640x480 with 1 Axes>"
      ],
      "image/png": "[encoded data removed]"
     },
     "metadata": {},
     "output_type": "display_data"
    }
   ],
   "execution_count": 97
  },
  {
   "metadata": {
    "ExecuteTime": {
     "end_time": "2024-10-06T16:12:39.137667Z",
     "start_time": "2024-10-06T16:12:38.491479Z"
    }
   },
   "cell_type": "code",
   "source": [
    "x = df['end_lng']\n",
    "y = df['end_lat']\n",
    "plt.scatter(x, y, s = 1, color = '#FF000011')\n",
    "plt.xlim(-74.055,-73.845)\n",
    "plt.ylim(40.5,41)\n",
    "plt.title(\"End Points\")\n",
    "plt.xlabel(\"Longitude\")\n",
    "plt.ylabel(\"Latitude\")\n",
    "plt.show()"
   ],
   "id": "a2e4ceb85f94cbda",
   "outputs": [
    {
     "data": {
      "text/plain": [
       "<Figure size 640x480 with 1 Axes>"
      ],
      "image/png": "[encoded data removed]"
     },
     "metadata": {},
     "output_type": "display_data"
    }
   ],
   "execution_count": 98
  },
  {
   "metadata": {},
   "cell_type": "markdown",
   "source": "# Predicting Start Points",
   "id": "7e1aae2b55666bf0"
  },
  {
   "metadata": {
    "ExecuteTime": {
     "end_time": "2024-10-06T16:12:39.174413Z",
     "start_time": "2024-10-06T16:12:39.163410Z"
    }
   },
   "cell_type": "code",
   "source": [
    "def add_noise(X, noise_factor=0.001):\n",
    "    noisy_X = X + noise_factor * np.random.normal(loc=0.0, scale=1.0, size=X.shape)\n",
    "    return noisy_X"
   ],
   "id": "68ac48cb33d1ad64",
   "outputs": [],
   "execution_count": 99
  },
  {
   "metadata": {
    "ExecuteTime": {
     "end_time": "2024-10-06T16:12:39.238806Z",
     "start_time": "2024-10-06T16:12:39.229624Z"
    }
   },
   "cell_type": "code",
   "source": [
    "features = ['time_sin','time_cos','day_sin','day_cos']\n",
    "targets = ['start_lat','start_lng']"
   ],
   "id": "9fdd7c913f4ee3e3",
   "outputs": [],
   "execution_count": 100
  },
  {
   "metadata": {
    "ExecuteTime": {
     "end_time": "2024-10-06T16:12:39.251509Z",
     "start_time": "2024-10-06T16:12:39.244849Z"
    }
   },
   "cell_type": "code",
   "source": "from sklearn.model_selection import train_test_split",
   "id": "49c27b1411455269",
   "outputs": [],
   "execution_count": 101
  },
  {
   "metadata": {
    "ExecuteTime": {
     "end_time": "2024-10-06T16:12:39.426223Z",
     "start_time": "2024-10-06T16:12:39.276532Z"
    }
   },
   "cell_type": "code",
   "source": "X_train, X_test, y_train, y_test = train_test_split(df[features], df[targets], test_size=0.2, random_state=42)",
   "id": "fc7b1784092b3252",
   "outputs": [],
   "execution_count": 102
  },
  {
   "metadata": {
    "ExecuteTime": {
     "end_time": "2024-10-06T16:12:39.467514Z",
     "start_time": "2024-10-06T16:12:39.458887Z"
    }
   },
   "cell_type": "code",
   "source": "from sklearn.preprocessing import StandardScaler",
   "id": "3f58f4a6f5e4efd2",
   "outputs": [],
   "execution_count": 103
  },
  {
   "metadata": {
    "ExecuteTime": {
     "end_time": "2024-10-06T16:12:39.583053Z",
     "start_time": "2024-10-06T16:12:39.495639Z"
    }
   },
   "cell_type": "code",
   "source": [
    "scaler = StandardScaler()\n",
    "X_train = scaler.fit_transform(X_train)\n",
    "X_test = scaler.transform(X_test)"
   ],
   "id": "70833acb2c691ec2",
   "outputs": [],
   "execution_count": 104
  },
  {
   "metadata": {
    "ExecuteTime": {
     "end_time": "2024-10-06T16:12:39.656860Z",
     "start_time": "2024-10-06T16:12:39.609247Z"
    }
   },
   "cell_type": "code",
   "source": [
    "'''\n",
    "scaler = StandardScaler()\n",
    "y_train = scaler.fit_transform(y_train)\n",
    "y_test = scaler.transform(y_test)\n",
    "'''"
   ],
   "id": "6dfbaefb6514fe40",
   "outputs": [],
   "execution_count": 105
  },
  {
   "metadata": {
    "ExecuteTime": {
     "end_time": "2024-10-06T16:12:39.759335Z",
     "start_time": "2024-10-06T16:12:39.688364Z"
    }
   },
   "cell_type": "code",
   "source": "y_train = add_noise(y_train)",
   "id": "c986412ac30b042",
   "outputs": [],
   "execution_count": 106
  },
  {
   "metadata": {
    "ExecuteTime": {
     "end_time": "2024-10-06T16:12:39.855940Z",
     "start_time": "2024-10-06T16:12:39.794837Z"
    }
   },
   "cell_type": "code",
   "source": [
    "model = tf.keras.Sequential([\n",
    "    tf.keras.layers.Dense(8, activation='relu', input_shape=(X_train.shape[1],),\n",
    "                          kernel_regularizer=tf.keras.regularizers.l2(0.01)),\n",
    "    tf.keras.layers.BatchNormalization(),\n",
    "    tf.keras.layers.Dropout(0.4),\n",
    "    \n",
    "    tf.keras.layers.Dense(16, activation='relu'),\n",
    "    tf.keras.layers.BatchNormalization(),\n",
    "    tf.keras.layers.Dropout(0.3),\n",
    "    \n",
    "    tf.keras.layers.Dense(2)\n",
    "])"
   ],
   "id": "adc70f66d0a6c979",
   "outputs": [
    {
     "name": "stderr",
     "output_type": "stream",
     "text": [
      "C:\\Users\\ysc15\\miniconda3\\Lib\\site-packages\\keras\\src\\layers\\core\\dense.py:87: UserWarning: Do not pass an `input_shape`/`input_dim` argument to a layer. When using Sequential models, prefer using an `Input(shape)` object as the first layer in the model instead.\n",
      "  super().__init__(activity_regularizer=activity_regularizer, **kwargs)\n"
     ]
    }
   ],
   "execution_count": 107
  },
  {
   "metadata": {
    "ExecuteTime": {
     "end_time": "2024-10-06T16:12:39.928Z",
     "start_time": "2024-10-06T16:12:39.896138Z"
    }
   },
   "cell_type": "code",
   "source": "model.summary()",
   "id": "7d9516835bf34dfd",
   "outputs": [
    {
     "data": {
      "text/plain": [
       "\u001B[1mModel: \"sequential_3\"\u001B[0m\n"
      ],
      "text/html": [
       "<pre style=\"white-space:pre;overflow-x:auto;line-height:normal;font-family:Menlo,'DejaVu Sans Mono',consolas,'Courier New',monospace\"><span style=\"font-weight: bold\">Model: \"sequential_3\"</span>\n",
       "</pre>\n"
      ]
     },
     "metadata": {},
     "output_type": "display_data"
    },
    {
     "data": {
      "text/plain": [
       "┏━━━━━━━━━━━━━━━━━━━━━━━━━━━━━━━━━┳━━━━━━━━━━━━━━━━━━━━━━━━┳━━━━━━━━━━━━━━━┓\n",
       "┃\u001B[1m \u001B[0m\u001B[1mLayer (type)                   \u001B[0m\u001B[1m \u001B[0m┃\u001B[1m \u001B[0m\u001B[1mOutput Shape          \u001B[0m\u001B[1m \u001B[0m┃\u001B[1m \u001B[0m\u001B[1m      Param #\u001B[0m\u001B[1m \u001B[0m┃\n",
       "┡━━━━━━━━━━━━━━━━━━━━━━━━━━━━━━━━━╇━━━━━━━━━━━━━━━━━━━━━━━━╇━━━━━━━━━━━━━━━┩\n",
       "│ dense_9 (\u001B[38;5;33mDense\u001B[0m)                 │ (\u001B[38;5;45mNone\u001B[0m, \u001B[38;5;34m8\u001B[0m)              │            \u001B[38;5;34m40\u001B[0m │\n",
       "├─────────────────────────────────┼────────────────────────┼───────────────┤\n",
       "│ batch_normalization_6           │ (\u001B[38;5;45mNone\u001B[0m, \u001B[38;5;34m8\u001B[0m)              │            \u001B[38;5;34m32\u001B[0m │\n",
       "│ (\u001B[38;5;33mBatchNormalization\u001B[0m)            │                        │               │\n",
       "├─────────────────────────────────┼────────────────────────┼───────────────┤\n",
       "│ dropout_6 (\u001B[38;5;33mDropout\u001B[0m)             │ (\u001B[38;5;45mNone\u001B[0m, \u001B[38;5;34m8\u001B[0m)              │             \u001B[38;5;34m0\u001B[0m │\n",
       "├─────────────────────────────────┼────────────────────────┼───────────────┤\n",
       "│ dense_10 (\u001B[38;5;33mDense\u001B[0m)                │ (\u001B[38;5;45mNone\u001B[0m, \u001B[38;5;34m16\u001B[0m)             │           \u001B[38;5;34m144\u001B[0m │\n",
       "├─────────────────────────────────┼────────────────────────┼───────────────┤\n",
       "│ batch_normalization_7           │ (\u001B[38;5;45mNone\u001B[0m, \u001B[38;5;34m16\u001B[0m)             │            \u001B[38;5;34m64\u001B[0m │\n",
       "│ (\u001B[38;5;33mBatchNormalization\u001B[0m)            │                        │               │\n",
       "├─────────────────────────────────┼────────────────────────┼───────────────┤\n",
       "│ dropout_7 (\u001B[38;5;33mDropout\u001B[0m)             │ (\u001B[38;5;45mNone\u001B[0m, \u001B[38;5;34m16\u001B[0m)             │             \u001B[38;5;34m0\u001B[0m │\n",
       "├─────────────────────────────────┼────────────────────────┼───────────────┤\n",
       "│ dense_11 (\u001B[38;5;33mDense\u001B[0m)                │ (\u001B[38;5;45mNone\u001B[0m, \u001B[38;5;34m2\u001B[0m)              │            \u001B[38;5;34m34\u001B[0m │\n",
       "└─────────────────────────────────┴────────────────────────┴───────────────┘\n"
      ],
      "text/html": [
       "<pre style=\"white-space:pre;overflow-x:auto;line-height:normal;font-family:Menlo,'DejaVu Sans Mono',consolas,'Courier New',monospace\">┏━━━━━━━━━━━━━━━━━━━━━━━━━━━━━━━━━┳━━━━━━━━━━━━━━━━━━━━━━━━┳━━━━━━━━━━━━━━━┓\n",
       "┃<span style=\"font-weight: bold\"> Layer (type)                    </span>┃<span style=\"font-weight: bold\"> Output Shape           </span>┃<span style=\"font-weight: bold\">       Param # </span>┃\n",
       "┡━━━━━━━━━━━━━━━━━━━━━━━━━━━━━━━━━╇━━━━━━━━━━━━━━━━━━━━━━━━╇━━━━━━━━━━━━━━━┩\n",
       "│ dense_9 (<span style=\"color: #0087ff; text-decoration-color: #0087ff\">Dense</span>)                 │ (<span style=\"color: #00d7ff; text-decoration-color: #00d7ff\">None</span>, <span style=\"color: #00af00; text-decoration-color: #00af00\">8</span>)              │            <span style=\"color: #00af00; text-decoration-color: #00af00\">40</span> │\n",
       "├─────────────────────────────────┼────────────────────────┼───────────────┤\n",
       "│ batch_normalization_6           │ (<span style=\"color: #00d7ff; text-decoration-color: #00d7ff\">None</span>, <span style=\"color: #00af00; text-decoration-color: #00af00\">8</span>)              │            <span style=\"color: #00af00; text-decoration-color: #00af00\">32</span> │\n",
       "│ (<span style=\"color: #0087ff; text-decoration-color: #0087ff\">BatchNormalization</span>)            │                        │               │\n",
       "├─────────────────────────────────┼────────────────────────┼───────────────┤\n",
       "│ dropout_6 (<span style=\"color: #0087ff; text-decoration-color: #0087ff\">Dropout</span>)             │ (<span style=\"color: #00d7ff; text-decoration-color: #00d7ff\">None</span>, <span style=\"color: #00af00; text-decoration-color: #00af00\">8</span>)              │             <span style=\"color: #00af00; text-decoration-color: #00af00\">0</span> │\n",
       "├─────────────────────────────────┼────────────────────────┼───────────────┤\n",
       "│ dense_10 (<span style=\"color: #0087ff; text-decoration-color: #0087ff\">Dense</span>)                │ (<span style=\"color: #00d7ff; text-decoration-color: #00d7ff\">None</span>, <span style=\"color: #00af00; text-decoration-color: #00af00\">16</span>)             │           <span style=\"color: #00af00; text-decoration-color: #00af00\">144</span> │\n",
       "├─────────────────────────────────┼────────────────────────┼───────────────┤\n",
       "│ batch_normalization_7           │ (<span style=\"color: #00d7ff; text-decoration-color: #00d7ff\">None</span>, <span style=\"color: #00af00; text-decoration-color: #00af00\">16</span>)             │            <span style=\"color: #00af00; text-decoration-color: #00af00\">64</span> │\n",
       "│ (<span style=\"color: #0087ff; text-decoration-color: #0087ff\">BatchNormalization</span>)            │                        │               │\n",
       "├─────────────────────────────────┼────────────────────────┼───────────────┤\n",
       "│ dropout_7 (<span style=\"color: #0087ff; text-decoration-color: #0087ff\">Dropout</span>)             │ (<span style=\"color: #00d7ff; text-decoration-color: #00d7ff\">None</span>, <span style=\"color: #00af00; text-decoration-color: #00af00\">16</span>)             │             <span style=\"color: #00af00; text-decoration-color: #00af00\">0</span> │\n",
       "├─────────────────────────────────┼────────────────────────┼───────────────┤\n",
       "│ dense_11 (<span style=\"color: #0087ff; text-decoration-color: #0087ff\">Dense</span>)                │ (<span style=\"color: #00d7ff; text-decoration-color: #00d7ff\">None</span>, <span style=\"color: #00af00; text-decoration-color: #00af00\">2</span>)              │            <span style=\"color: #00af00; text-decoration-color: #00af00\">34</span> │\n",
       "└─────────────────────────────────┴────────────────────────┴───────────────┘\n",
       "</pre>\n"
      ]
     },
     "metadata": {},
     "output_type": "display_data"
    },
    {
     "data": {
      "text/plain": [
       "\u001B[1m Total params: \u001B[0m\u001B[38;5;34m314\u001B[0m (1.23 KB)\n"
      ],
      "text/html": [
       "<pre style=\"white-space:pre;overflow-x:auto;line-height:normal;font-family:Menlo,'DejaVu Sans Mono',consolas,'Courier New',monospace\"><span style=\"font-weight: bold\"> Total params: </span><span style=\"color: #00af00; text-decoration-color: #00af00\">314</span> (1.23 KB)\n",
       "</pre>\n"
      ]
     },
     "metadata": {},
     "output_type": "display_data"
    },
    {
     "data": {
      "text/plain": [
       "\u001B[1m Trainable params: \u001B[0m\u001B[38;5;34m266\u001B[0m (1.04 KB)\n"
      ],
      "text/html": [
       "<pre style=\"white-space:pre;overflow-x:auto;line-height:normal;font-family:Menlo,'DejaVu Sans Mono',consolas,'Courier New',monospace\"><span style=\"font-weight: bold\"> Trainable params: </span><span style=\"color: #00af00; text-decoration-color: #00af00\">266</span> (1.04 KB)\n",
       "</pre>\n"
      ]
     },
     "metadata": {},
     "output_type": "display_data"
    },
    {
     "data": {
      "text/plain": [
       "\u001B[1m Non-trainable params: \u001B[0m\u001B[38;5;34m48\u001B[0m (192.00 B)\n"
      ],
      "text/html": [
       "<pre style=\"white-space:pre;overflow-x:auto;line-height:normal;font-family:Menlo,'DejaVu Sans Mono',consolas,'Courier New',monospace\"><span style=\"font-weight: bold\"> Non-trainable params: </span><span style=\"color: #00af00; text-decoration-color: #00af00\">48</span> (192.00 B)\n",
       "</pre>\n"
      ]
     },
     "metadata": {},
     "output_type": "display_data"
    }
   ],
   "execution_count": 108
  },
  {
   "metadata": {
    "ExecuteTime": {
     "end_time": "2024-10-06T16:19:41.119405Z",
     "start_time": "2024-10-06T16:12:40.069497Z"
    }
   },
   "cell_type": "code",
   "source": [
    "model.compile(optimizer='adam',metrics=['accuracy'],loss='mse')\n",
    "early_stopping = tf.keras.callbacks.EarlyStopping(monitor='val_loss', patience=5, restore_best_weights=True)\n",
    "history = model.fit(X_train, y_train, epochs=10, validation_data=(X_test, y_test), callbacks=[early_stopping])\n",
    "model.save('model.keras')"
   ],
   "id": "2a681be585df909f",
   "outputs": [
    {
     "name": "stdout",
     "output_type": "stream",
     "text": [
      "Epoch 1/10\n",
      "\u001B[1m24926/24926\u001B[0m \u001B[32m━━━━━━━━━━━━━━━━━━━━\u001B[0m\u001B[37m\u001B[0m \u001B[1m63s\u001B[0m 2ms/step - accuracy: 0.5247 - loss: 1.0996 - val_accuracy: 0.5023 - val_loss: 1.0005\n",
      "Epoch 2/10\n",
      "\u001B[1m24926/24926\u001B[0m \u001B[32m━━━━━━━━━━━━━━━━━━━━\u001B[0m\u001B[37m\u001B[0m \u001B[1m61s\u001B[0m 2ms/step - accuracy: 0.5322 - loss: 0.9993 - val_accuracy: 0.5440 - val_loss: 1.0003\n",
      "Epoch 3/10\n",
      "\u001B[1m24926/24926\u001B[0m \u001B[32m━━━━━━━━━━━━━━━━━━━━\u001B[0m\u001B[37m\u001B[0m \u001B[1m62s\u001B[0m 2ms/step - accuracy: 0.5363 - loss: 0.9992 - val_accuracy: 0.5126 - val_loss: 1.0003\n",
      "Epoch 4/10\n",
      "\u001B[1m24926/24926\u001B[0m \u001B[32m━━━━━━━━━━━━━━━━━━━━\u001B[0m\u001B[37m\u001B[0m \u001B[1m62s\u001B[0m 2ms/step - accuracy: 0.5290 - loss: 0.9977 - val_accuracy: 0.5397 - val_loss: 1.0006\n",
      "Epoch 5/10\n",
      "\u001B[1m24926/24926\u001B[0m \u001B[32m━━━━━━━━━━━━━━━━━━━━\u001B[0m\u001B[37m\u001B[0m \u001B[1m59s\u001B[0m 2ms/step - accuracy: 0.5359 - loss: 0.9978 - val_accuracy: 0.4892 - val_loss: 1.0007\n",
      "Epoch 6/10\n",
      "\u001B[1m24926/24926\u001B[0m \u001B[32m━━━━━━━━━━━━━━━━━━━━\u001B[0m\u001B[37m\u001B[0m \u001B[1m59s\u001B[0m 2ms/step - accuracy: 0.5319 - loss: 0.9969 - val_accuracy: 0.5315 - val_loss: 1.0004\n",
      "Epoch 7/10\n",
      "\u001B[1m24926/24926\u001B[0m \u001B[32m━━━━━━━━━━━━━━━━━━━━\u001B[0m\u001B[37m\u001B[0m \u001B[1m55s\u001B[0m 2ms/step - accuracy: 0.5346 - loss: 0.9991 - val_accuracy: 0.5581 - val_loss: 1.0003\n"
     ]
    }
   ],
   "execution_count": 109
  },
  {
   "metadata": {},
   "cell_type": "code",
   "source": [
    "plt.plot(history.history['accuracy'], label='training accuracy')\n",
    "plt.plot(history.history['val_accuracy'], label='validation accuracy')\n",
    "plt.title('Accuracy')\n",
    "plt.xlabel('Epochs')\n",
    "plt.ylabel('Accuracy')\n",
    "plt.legend()\n",
    "plt.show()"
   ],
   "id": "687e67915670439",
   "outputs": [],
   "execution_count": null
  },
  {
   "metadata": {},
   "cell_type": "code",
   "source": "model = tf.keras.models.load_model('model.keras')",
   "id": "3c6053696638e241",
   "outputs": [],
   "execution_count": null
  },
  {
   "metadata": {},
   "cell_type": "code",
   "source": [
    "score = model.evaluate(X_test, y_test, verbose=0)\n",
    "print('Test loss:', score[0])\n",
    "print('Test accuracy:', score[1])"
   ],
   "id": "b09dc437d82ec71",
   "outputs": [],
   "execution_count": null
  },
  {
   "metadata": {},
   "cell_type": "markdown",
   "source": "# Predicing End Points",
   "id": "c0371147e102ddcb"
  },
  {
   "metadata": {},
   "cell_type": "code",
   "source": [
    "features = ['start_lat','start_lng']\n",
    "targets = ['end_lat','end_lng']"
   ],
   "id": "594c532ee2bfccb0",
   "outputs": [],
   "execution_count": null
  },
  {
   "metadata": {},
   "cell_type": "code",
   "source": "X_train, X_test, y_train, y_test = train_test_split(df[features], df[targets], test_size=0.2, random_state=42)",
   "id": "bfc1d9bea044cc",
   "outputs": [],
   "execution_count": null
  },
  {
   "metadata": {},
   "cell_type": "code",
   "source": [
    "model2 = tf.keras.Sequential([\n",
    "    tf.keras.layers.Dense(32, activation='relu', input_shape=(X_train.shape[1],),\n",
    "                          kernel_regularizer=tf.keras.regularizers.l2(0.01)),\n",
    "    tf.keras.layers.BatchNormalization(),\n",
    "    tf.keras.layers.Dropout(0.3),\n",
    "    \n",
    "    tf.keras.layers.Dense(2)\n",
    "])"
   ],
   "id": "cb64122a52f5474",
   "outputs": [],
   "execution_count": null
  },
  {
   "metadata": {},
   "cell_type": "code",
   "source": [
    "model2.compile(optimizer='adam',metrics=['accuracy'],loss='mse')\n",
    "model2.fit(X_train, y_train, epochs=1, validation_data=(X_test, y_test))"
   ],
   "id": "f36548e09f1859d7",
   "outputs": [],
   "execution_count": null
  },
  {
   "metadata": {},
   "cell_type": "code",
   "source": [
    "score = model2.evaluate(X_test, y_test, verbose=0)\n",
    "print('Test loss:', score[0])\n",
    "print('Test accuracy:', score[1])"
   ],
   "id": "76d03ddd1195d659",
   "outputs": [],
   "execution_count": null
  }
 ],
 "metadata": {
  "kernelspec": {
   "display_name": "Python 3",
   "language": "python",
   "name": "python3"
  },
  "language_info": {
   "codemirror_mode": {
    "name": "ipython",
    "version": 2
   },
   "file_extension": ".py",
   "mimetype": "text/x-python",
   "name": "python",
   "nbconvert_exporter": "python",
   "pygments_lexer": "ipython2",
   "version": "2.7.6"
  }
 },
 "nbformat": 4,
 "nbformat_minor": 5
}
