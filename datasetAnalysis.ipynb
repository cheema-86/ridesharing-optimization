{
 "cells": [
  {
   "cell_type": "markdown",
   "id": "81d5619ae32d75d",
   "metadata": {},
   "source": [
    "# Imports"
   ]
  },
  {
   "cell_type": "code",
   "execution_count": null,
   "id": "initial_id",
   "metadata": {
    "ExecuteTime": {
     "end_time": "2024-10-18T16:59:31.518083Z",
     "start_time": "2024-10-18T16:59:25.324442Z"
    },
    "collapsed": true
   },
   "outputs": [],
   "source": [
    "import numpy as np \n",
    "import pandas as pd \n",
    "import matplotlib.pyplot as plt \n",
    "import tensorflow as tf"
   ]
  },
  {
   "cell_type": "code",
   "execution_count": null,
   "id": "94411d9584dc732",
   "metadata": {
    "ExecuteTime": {
     "end_time": "2024-10-18T16:59:38.264682Z",
     "start_time": "2024-10-18T16:59:31.522093Z"
    }
   },
   "outputs": [],
   "source": [
    "df=pd.read_parquet(\"data/fhvhv_tripdata_2023-01.parquet\")"
   ]
  },
  {
   "cell_type": "code",
   "execution_count": null,
   "id": "98097a94b55a7bdb",
   "metadata": {
    "ExecuteTime": {
     "end_time": "2024-10-18T16:59:46.033125Z",
     "start_time": "2024-10-18T16:59:46.010995Z"
    }
   },
   "outputs": [],
   "source": [
    "df.head()"
   ]
  },
  {
   "cell_type": "code",
   "execution_count": null,
   "id": "20d578298c2413d9",
   "metadata": {
    "ExecuteTime": {
     "end_time": "2024-10-18T16:59:48.724897Z",
     "start_time": "2024-10-18T16:59:48.701349Z"
    }
   },
   "outputs": [],
   "source": [
    "df.info()"
   ]
  },
  {
   "cell_type": "markdown",
   "id": "95b89785b7039b0b",
   "metadata": {},
   "source": [
    "# Data Cleanup / Preprocessing"
   ]
  },
  {
   "cell_type": "code",
   "execution_count": null,
   "id": "5dea8bfed4e6cfbd",
   "metadata": {
    "ExecuteTime": {
     "end_time": "2024-10-18T16:59:51.660867Z",
     "start_time": "2024-10-18T16:59:48.775273Z"
    }
   },
   "outputs": [],
   "source": [
    "# Remove Null Values\n",
    "df.dropna(inplace=True)"
   ]
  },
  {
   "cell_type": "code",
   "execution_count": null,
   "id": "b7870d237ac75932",
   "metadata": {
    "ExecuteTime": {
     "end_time": "2024-10-18T16:59:51.851819Z",
     "start_time": "2024-10-18T16:59:51.662371Z"
    }
   },
   "outputs": [],
   "source": [
    "# Drop unused columns\n",
    "df.drop(['dispatching_base_num','originating_base_num','base_passenger_fare','tolls','bcf','sales_tax','congestion_surcharge','airport_fee','tips','driver_pay','access_a_ride_flag','wav_match_flag','wav_request_flag'],axis=1, inplace=True)"
   ]
  },
  {
   "cell_type": "code",
   "execution_count": null,
   "id": "8737ca68",
   "metadata": {},
   "outputs": [],
   "source": [
    "# Extracting only uber rides\n",
    "df = df[df['hvfhs_license_num'] == 'HV0003']\n",
    "df.drop(['hvfhs_license_num'],axis=1, inplace=True)"
   ]
  },
  {
   "cell_type": "code",
   "execution_count": null,
   "id": "3c515a35",
   "metadata": {
    "vscode": {
     "languageId": "ruby"
    }
   },
   "outputs": [],
   "source": [
    "# Calculate the 99th percentile value for trip_miles\n",
    "trip_miles_99th_percentile = df['trip_miles'].quantile(0.99)\n",
    "df = df[df['trip_miles'] < trip_miles_99th_percentile]\n",
    "\n",
    "# Calculate the 99th percentile value for trip_time\n",
    "trip_time_99th_percentile = df['trip_time'].quantile(0.99)\n",
    "df = df[df['trip_time'] < trip_time_99th_percentile]"
   ]
  },
  {
   "cell_type": "code",
   "execution_count": null,
   "id": "44bf265d",
   "metadata": {},
   "outputs": [],
   "source": [
    "# Create cyclic features for time of the day and day of the week\n",
    "df['hour'] = df['request_datetime'].dt.hour\n",
    "df['weekday'] = df['request_datetime'].dt.dayofweek\n",
    "\n",
    "df['hour_sin'] = np.sin(2 * np.pi * df['hour'] / 24)\n",
    "df['hour_cos'] = np.cos(2 * np.pi * df['hour'] / 24)\n",
    "df['weekday_sin'] = np.sin(2 * np.pi * df['weekday'] / 7)\n",
    "df['weekday_cos'] = np.cos(2 * np.pi * df['weekday'] / 7)"
   ]
  },
  {
   "cell_type": "code",
   "execution_count": null,
   "id": "e252dce6",
   "metadata": {},
   "outputs": [],
   "source": [
    "# Aggregate the data to get the demand for each PULocationID\n",
    "demand = df.groupby(['PULocationID', 'DOLocationID', 'hour', 'weekday']).size().reset_index(name='demand')"
   ]
  },
  {
   "cell_type": "code",
   "execution_count": null,
   "id": "f45eae90",
   "metadata": {},
   "outputs": [],
   "source": [
    "# Merge the cyclic features back to the demand dataframe\n",
    "demand = demand.merge(df[['PULocationID', 'DOLocationID', 'hour', 'weekday', 'hour_sin', 'hour_cos', 'weekday_sin', 'weekday_cos']].drop_duplicates(), on=['PULocationID', 'DOLocationID', 'hour', 'weekday'])"
   ]
  },
  {
   "cell_type": "code",
   "execution_count": null,
   "id": "cba0f45b",
   "metadata": {},
   "outputs": [],
   "source": [
    "demand.info()"
   ]
  },
  {
   "cell_type": "code",
   "execution_count": null,
   "id": "c5d8731f",
   "metadata": {},
   "outputs": [],
   "source": [
    "demand.head()"
   ]
  },
  {
   "cell_type": "code",
   "execution_count": null,
   "id": "8c66f57d",
   "metadata": {
    "vscode": {
     "languageId": "ruby"
    }
   },
   "outputs": [],
   "source": [
    "# Calculate the 1st percentile value for demand\n",
    "demand_1st_percentile = demand['demand'].quantile(0.01)\n",
    "demand = demand[demand['demand'] > demand_1st_percentile]"
   ]
  },
  {
   "cell_type": "code",
   "execution_count": null,
   "id": "5e316d45",
   "metadata": {},
   "outputs": [],
   "source": [
    "# Define the bins and labels\n",
    "bins = [0, 1, 2, 3, 4, 5,float('inf')]\n",
    "labels = [-1 ,0, 1, 2, 3, 4]\n",
    "\n",
    "# Create a new column 'demand_category' with the binned values\n",
    "demand['demand_category'] = pd.cut(demand['demand'], bins=bins, labels=labels)"
   ]
  },
  {
   "cell_type": "code",
   "execution_count": null,
   "id": "4b9a6f03",
   "metadata": {},
   "outputs": [],
   "source": [
    "demand.to_csv('data/demand.csv', index=False)"
   ]
  },
  {
   "cell_type": "code",
   "execution_count": null,
   "id": "c12ed554",
   "metadata": {},
   "outputs": [],
   "source": [
    "# remove low demand data\n",
    "demand = demand[demand['demand_category'] >= 0]"
   ]
  },
  {
   "cell_type": "code",
   "execution_count": null,
   "id": "7cd58007",
   "metadata": {},
   "outputs": [],
   "source": [
    "# Convert the 'demand_category' column to integer type\n",
    "demand['demand_category'] = demand['demand_category'].astype(int)"
   ]
  },
  {
   "cell_type": "markdown",
   "id": "e29875481c046e76",
   "metadata": {},
   "source": [
    "# Visualization"
   ]
  },
  {
   "cell_type": "code",
   "execution_count": null,
   "id": "dfaec2cf9ceee97e",
   "metadata": {
    "ExecuteTime": {
     "end_time": "2024-10-18T16:59:54.462934Z",
     "start_time": "2024-10-18T16:59:53.103241Z"
    }
   },
   "outputs": [],
   "source": [
    "plt.figure(figsize=(15,6))\n",
    "df['PULocationID'].value_counts(sort=False).sort_index().plot(kind='bar')\n",
    "plt.xlabel(\"Start Area\")\n",
    "plt.ylabel(\"Count\")\n",
    "plt.show()"
   ]
  },
  {
   "cell_type": "code",
   "execution_count": null,
   "id": "d4dc765e33ba8498",
   "metadata": {
    "ExecuteTime": {
     "end_time": "2024-10-18T16:59:54.868638Z",
     "start_time": "2024-10-18T16:59:54.496976Z"
    }
   },
   "outputs": [],
   "source": [
    "plt.figure(figsize=(15,6))\n",
    "df['request_datetime'].dt.hour.value_counts(sort=False).sort_index().plot(kind='bar')\n",
    "plt.xlabel(\"Hour\")\n",
    "plt.ylabel(\"Count\")\n",
    "plt.show()"
   ]
  },
  {
   "cell_type": "code",
   "execution_count": null,
   "id": "228d3b5ab5d3ea8d",
   "metadata": {
    "ExecuteTime": {
     "end_time": "2024-10-18T16:59:55.229553Z",
     "start_time": "2024-10-18T16:59:54.872645Z"
    }
   },
   "outputs": [],
   "source": [
    "plt.figure(figsize=(15,6))\n",
    "df['request_datetime'].dt.dayofweek.value_counts(sort=False).sort_index().plot(kind='bar')\n",
    "#df['request_datetime'].dt.day_name().value_counts(sort=False).plot(kind='bar')\n",
    "plt.xlabel(\"Day of week\")\n",
    "plt.ylabel(\"Count\")\n",
    "plt.show()"
   ]
  },
  {
   "cell_type": "markdown",
   "id": "7e1aae2b55666bf0",
   "metadata": {},
   "source": [
    "# Predicting Demand"
   ]
  },
  {
   "cell_type": "code",
   "execution_count": null,
   "id": "9fdd7c913f4ee3e3",
   "metadata": {
    "ExecuteTime": {
     "end_time": "2024-10-18T16:59:55.250229Z",
     "start_time": "2024-10-18T16:59:55.245216Z"
    }
   },
   "outputs": [],
   "source": [
    "X = demand[['hour_sin', 'hour_cos', 'weekday_sin', 'weekday_cos', 'PULocationID']]\n",
    "y = demand['demand_category']"
   ]
  },
  {
   "cell_type": "code",
   "execution_count": null,
   "id": "49c27b1411455269",
   "metadata": {
    "ExecuteTime": {
     "end_time": "2024-10-18T16:59:56.143770Z",
     "start_time": "2024-10-18T16:59:55.266352Z"
    }
   },
   "outputs": [],
   "source": [
    "from sklearn.model_selection import train_test_split"
   ]
  },
  {
   "cell_type": "code",
   "execution_count": null,
   "id": "fc7b1784092b3252",
   "metadata": {
    "ExecuteTime": {
     "end_time": "2024-10-18T16:59:57.266291Z",
     "start_time": "2024-10-18T16:59:56.158747Z"
    }
   },
   "outputs": [],
   "source": [
    "X_train, X_test, y_train, y_test = train_test_split(X, y, test_size=0.2, random_state=42)"
   ]
  },
  {
   "cell_type": "code",
   "execution_count": null,
   "id": "f435c44be166de92",
   "metadata": {
    "ExecuteTime": {
     "end_time": "2024-10-18T16:59:57.291933Z",
     "start_time": "2024-10-18T16:59:57.287018Z"
    }
   },
   "outputs": [],
   "source": [
    "# Unloading the dataframe to save memory\n",
    "df = []\n",
    "demand = []"
   ]
  },
  {
   "cell_type": "code",
   "execution_count": null,
   "id": "ff0abbb9",
   "metadata": {},
   "outputs": [],
   "source": [
    "from tensorflow.keras.models import Sequential\n",
    "from tensorflow.keras.layers import Dense"
   ]
  },
  {
   "cell_type": "code",
   "execution_count": null,
   "id": "8da7dc19",
   "metadata": {},
   "outputs": [],
   "source": [
    "model = Sequential([\n",
    "    Dense(64, activation='relu', input_shape=(X_train.shape[1],)),\n",
    "    Dense(64, activation='relu'),\n",
    "    Dense(len(np.unique(y_train)), activation='softmax')\n",
    "])\n",
    "\n",
    "model.compile(optimizer='adam', loss='sparse_categorical_crossentropy', metrics=['accuracy'])\n",
    "model.summary()"
   ]
  },
  {
   "cell_type": "code",
   "execution_count": null,
   "id": "6d982fe6",
   "metadata": {},
   "outputs": [],
   "source": [
    "history = model.fit(X_train, y_train, epochs=20, batch_size=32, validation_data=(X_test, y_test))"
   ]
  },
  {
   "cell_type": "code",
   "execution_count": null,
   "id": "deccee95",
   "metadata": {},
   "outputs": [],
   "source": [
    "#plotting graphs for accuracy \n",
    "plt.plot(history.history['accuracy'], label='training accuracy')\n",
    "plt.plot(history.history['val_accuracy'], label='val accuracy')\n",
    "plt.title('Accuracy')\n",
    "plt.xlabel('epochs')\n",
    "plt.ylabel('accuracy')\n",
    "plt.legend()\n",
    "plt.show()"
   ]
  }
 ],
 "metadata": {
  "kernelspec": {
   "display_name": ".venv",
   "language": "python",
   "name": "python3"
  },
  "language_info": {
   "codemirror_mode": {
    "name": "ipython",
    "version": 3
   },
   "file_extension": ".py",
   "mimetype": "text/x-python",
   "name": "python",
   "nbconvert_exporter": "python",
   "pygments_lexer": "ipython3",
   "version": "3.12.7"
  }
 },
 "nbformat": 4,
 "nbformat_minor": 5
}
