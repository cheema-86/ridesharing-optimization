{
 "cells": [
  {
   "metadata": {},
   "cell_type": "markdown",
   "source": "# Imports",
   "id": "81d5619ae32d75d"
  },
  {
   "cell_type": "code",
   "id": "initial_id",
   "metadata": {
    "collapsed": true,
    "ExecuteTime": {
     "end_time": "2024-10-18T09:47:32.627178Z",
     "start_time": "2024-10-18T09:47:32.617869Z"
    }
   },
   "source": [
    "import numpy as np \n",
    "import pandas as pd \n",
    "import matplotlib.pyplot as plt \n",
    "import tensorflow as tf"
   ],
   "outputs": [],
   "execution_count": 58
  },
  {
   "metadata": {
    "ExecuteTime": {
     "end_time": "2024-10-18T09:47:37.330550Z",
     "start_time": "2024-10-18T09:47:32.638356Z"
    }
   },
   "cell_type": "code",
   "source": "df=pd.read_parquet(\"data/fhvhv_tripdata_2023-01.parquet\")",
   "id": "94411d9584dc732",
   "outputs": [],
   "execution_count": 59
  },
  {
   "metadata": {
    "ExecuteTime": {
     "end_time": "2024-10-18T09:47:52.162112Z",
     "start_time": "2024-10-18T09:47:52.134939Z"
    }
   },
   "cell_type": "code",
   "source": "df.head()",
   "id": "98097a94b55a7bdb",
   "outputs": [
    {
     "data": {
      "text/plain": [
       "  hvfhs_license_num dispatching_base_num originating_base_num  \\\n",
       "0            HV0003               B03404               B03404   \n",
       "1            HV0003               B03404               B03404   \n",
       "2            HV0003               B03404               B03404   \n",
       "3            HV0003               B03404               B03404   \n",
       "4            HV0003               B03404               B03404   \n",
       "\n",
       "     request_datetime   on_scene_datetime     pickup_datetime  \\\n",
       "0 2023-01-01 00:18:06 2023-01-01 00:19:24 2023-01-01 00:19:38   \n",
       "1 2023-01-01 00:48:42 2023-01-01 00:56:20 2023-01-01 00:58:39   \n",
       "2 2023-01-01 00:15:35 2023-01-01 00:20:14 2023-01-01 00:20:27   \n",
       "3 2023-01-01 00:35:24 2023-01-01 00:39:30 2023-01-01 00:41:05   \n",
       "4 2023-01-01 00:43:15 2023-01-01 00:51:10 2023-01-01 00:52:47   \n",
       "\n",
       "     dropoff_datetime  PULocationID  DOLocationID  trip_miles  ...  sales_tax  \\\n",
       "0 2023-01-01 00:48:07            48            68        0.94  ...       2.30   \n",
       "1 2023-01-01 01:33:08           246           163        2.78  ...       5.34   \n",
       "2 2023-01-01 00:37:54             9           129        8.81  ...       2.16   \n",
       "3 2023-01-01 00:48:16           129           129        0.67  ...       1.22   \n",
       "4 2023-01-01 01:04:51           129            92        4.38  ...       1.82   \n",
       "\n",
       "   congestion_surcharge  airport_fee  tips  driver_pay  shared_request_flag  \\\n",
       "0                  2.75          0.0  5.22       27.83                    N   \n",
       "1                  2.75          0.0  0.00       50.15                    N   \n",
       "2                  0.00          0.0  0.00       20.22                    N   \n",
       "3                  0.00          0.0  0.00        7.90                    N   \n",
       "4                  0.00          0.0  0.00       16.48                    N   \n",
       "\n",
       "   shared_match_flag  access_a_ride_flag  wav_request_flag wav_match_flag  \n",
       "0                  N                                     N              N  \n",
       "1                  N                                     N              N  \n",
       "2                  N                                     N              N  \n",
       "3                  N                                     N              N  \n",
       "4                  N                                     N              N  \n",
       "\n",
       "[5 rows x 24 columns]"
      ],
      "text/html": [
       "<div>\n",
       "<style scoped>\n",
       "    .dataframe tbody tr th:only-of-type {\n",
       "        vertical-align: middle;\n",
       "    }\n",
       "\n",
       "    .dataframe tbody tr th {\n",
       "        vertical-align: top;\n",
       "    }\n",
       "\n",
       "    .dataframe thead th {\n",
       "        text-align: right;\n",
       "    }\n",
       "</style>\n",
       "<table border=\"1\" class=\"dataframe\">\n",
       "  <thead>\n",
       "    <tr style=\"text-align: right;\">\n",
       "      <th></th>\n",
       "      <th>hvfhs_license_num</th>\n",
       "      <th>dispatching_base_num</th>\n",
       "      <th>originating_base_num</th>\n",
       "      <th>request_datetime</th>\n",
       "      <th>on_scene_datetime</th>\n",
       "      <th>pickup_datetime</th>\n",
       "      <th>dropoff_datetime</th>\n",
       "      <th>PULocationID</th>\n",
       "      <th>DOLocationID</th>\n",
       "      <th>trip_miles</th>\n",
       "      <th>...</th>\n",
       "      <th>sales_tax</th>\n",
       "      <th>congestion_surcharge</th>\n",
       "      <th>airport_fee</th>\n",
       "      <th>tips</th>\n",
       "      <th>driver_pay</th>\n",
       "      <th>shared_request_flag</th>\n",
       "      <th>shared_match_flag</th>\n",
       "      <th>access_a_ride_flag</th>\n",
       "      <th>wav_request_flag</th>\n",
       "      <th>wav_match_flag</th>\n",
       "    </tr>\n",
       "  </thead>\n",
       "  <tbody>\n",
       "    <tr>\n",
       "      <th>0</th>\n",
       "      <td>HV0003</td>\n",
       "      <td>B03404</td>\n",
       "      <td>B03404</td>\n",
       "      <td>2023-01-01 00:18:06</td>\n",
       "      <td>2023-01-01 00:19:24</td>\n",
       "      <td>2023-01-01 00:19:38</td>\n",
       "      <td>2023-01-01 00:48:07</td>\n",
       "      <td>48</td>\n",
       "      <td>68</td>\n",
       "      <td>0.94</td>\n",
       "      <td>...</td>\n",
       "      <td>2.30</td>\n",
       "      <td>2.75</td>\n",
       "      <td>0.0</td>\n",
       "      <td>5.22</td>\n",
       "      <td>27.83</td>\n",
       "      <td>N</td>\n",
       "      <td>N</td>\n",
       "      <td></td>\n",
       "      <td>N</td>\n",
       "      <td>N</td>\n",
       "    </tr>\n",
       "    <tr>\n",
       "      <th>1</th>\n",
       "      <td>HV0003</td>\n",
       "      <td>B03404</td>\n",
       "      <td>B03404</td>\n",
       "      <td>2023-01-01 00:48:42</td>\n",
       "      <td>2023-01-01 00:56:20</td>\n",
       "      <td>2023-01-01 00:58:39</td>\n",
       "      <td>2023-01-01 01:33:08</td>\n",
       "      <td>246</td>\n",
       "      <td>163</td>\n",
       "      <td>2.78</td>\n",
       "      <td>...</td>\n",
       "      <td>5.34</td>\n",
       "      <td>2.75</td>\n",
       "      <td>0.0</td>\n",
       "      <td>0.00</td>\n",
       "      <td>50.15</td>\n",
       "      <td>N</td>\n",
       "      <td>N</td>\n",
       "      <td></td>\n",
       "      <td>N</td>\n",
       "      <td>N</td>\n",
       "    </tr>\n",
       "    <tr>\n",
       "      <th>2</th>\n",
       "      <td>HV0003</td>\n",
       "      <td>B03404</td>\n",
       "      <td>B03404</td>\n",
       "      <td>2023-01-01 00:15:35</td>\n",
       "      <td>2023-01-01 00:20:14</td>\n",
       "      <td>2023-01-01 00:20:27</td>\n",
       "      <td>2023-01-01 00:37:54</td>\n",
       "      <td>9</td>\n",
       "      <td>129</td>\n",
       "      <td>8.81</td>\n",
       "      <td>...</td>\n",
       "      <td>2.16</td>\n",
       "      <td>0.00</td>\n",
       "      <td>0.0</td>\n",
       "      <td>0.00</td>\n",
       "      <td>20.22</td>\n",
       "      <td>N</td>\n",
       "      <td>N</td>\n",
       "      <td></td>\n",
       "      <td>N</td>\n",
       "      <td>N</td>\n",
       "    </tr>\n",
       "    <tr>\n",
       "      <th>3</th>\n",
       "      <td>HV0003</td>\n",
       "      <td>B03404</td>\n",
       "      <td>B03404</td>\n",
       "      <td>2023-01-01 00:35:24</td>\n",
       "      <td>2023-01-01 00:39:30</td>\n",
       "      <td>2023-01-01 00:41:05</td>\n",
       "      <td>2023-01-01 00:48:16</td>\n",
       "      <td>129</td>\n",
       "      <td>129</td>\n",
       "      <td>0.67</td>\n",
       "      <td>...</td>\n",
       "      <td>1.22</td>\n",
       "      <td>0.00</td>\n",
       "      <td>0.0</td>\n",
       "      <td>0.00</td>\n",
       "      <td>7.90</td>\n",
       "      <td>N</td>\n",
       "      <td>N</td>\n",
       "      <td></td>\n",
       "      <td>N</td>\n",
       "      <td>N</td>\n",
       "    </tr>\n",
       "    <tr>\n",
       "      <th>4</th>\n",
       "      <td>HV0003</td>\n",
       "      <td>B03404</td>\n",
       "      <td>B03404</td>\n",
       "      <td>2023-01-01 00:43:15</td>\n",
       "      <td>2023-01-01 00:51:10</td>\n",
       "      <td>2023-01-01 00:52:47</td>\n",
       "      <td>2023-01-01 01:04:51</td>\n",
       "      <td>129</td>\n",
       "      <td>92</td>\n",
       "      <td>4.38</td>\n",
       "      <td>...</td>\n",
       "      <td>1.82</td>\n",
       "      <td>0.00</td>\n",
       "      <td>0.0</td>\n",
       "      <td>0.00</td>\n",
       "      <td>16.48</td>\n",
       "      <td>N</td>\n",
       "      <td>N</td>\n",
       "      <td></td>\n",
       "      <td>N</td>\n",
       "      <td>N</td>\n",
       "    </tr>\n",
       "  </tbody>\n",
       "</table>\n",
       "<p>5 rows × 24 columns</p>\n",
       "</div>"
      ]
     },
     "execution_count": 60,
     "metadata": {},
     "output_type": "execute_result"
    }
   ],
   "execution_count": 60
  },
  {
   "metadata": {
    "ExecuteTime": {
     "end_time": "2024-10-18T09:48:11.767313Z",
     "start_time": "2024-10-18T09:48:11.693829Z"
    }
   },
   "cell_type": "code",
   "source": "df.info()",
   "id": "20d578298c2413d9",
   "outputs": [
    {
     "name": "stdout",
     "output_type": "stream",
     "text": [
      "<class 'pandas.core.frame.DataFrame'>\n",
      "RangeIndex: 18479031 entries, 0 to 18479030\n",
      "Data columns (total 24 columns):\n",
      " #   Column                Dtype         \n",
      "---  ------                -----         \n",
      " 0   hvfhs_license_num     object        \n",
      " 1   dispatching_base_num  object        \n",
      " 2   originating_base_num  object        \n",
      " 3   request_datetime      datetime64[us]\n",
      " 4   on_scene_datetime     datetime64[us]\n",
      " 5   pickup_datetime       datetime64[us]\n",
      " 6   dropoff_datetime      datetime64[us]\n",
      " 7   PULocationID          int64         \n",
      " 8   DOLocationID          int64         \n",
      " 9   trip_miles            float64       \n",
      " 10  trip_time             int64         \n",
      " 11  base_passenger_fare   float64       \n",
      " 12  tolls                 float64       \n",
      " 13  bcf                   float64       \n",
      " 14  sales_tax             float64       \n",
      " 15  congestion_surcharge  float64       \n",
      " 16  airport_fee           float64       \n",
      " 17  tips                  float64       \n",
      " 18  driver_pay            float64       \n",
      " 19  shared_request_flag   object        \n",
      " 20  shared_match_flag     object        \n",
      " 21  access_a_ride_flag    object        \n",
      " 22  wav_request_flag      object        \n",
      " 23  wav_match_flag        object        \n",
      "dtypes: datetime64[us](4), float64(9), int64(3), object(8)\n",
      "memory usage: 3.3+ GB\n"
     ]
    }
   ],
   "execution_count": 61
  },
  {
   "metadata": {},
   "cell_type": "markdown",
   "source": "# Data Cleanup / Preprocessing",
   "id": "95b89785b7039b0b"
  },
  {
   "metadata": {
    "ExecuteTime": {
     "end_time": "2024-10-18T09:48:24.857731Z",
     "start_time": "2024-10-18T09:48:11.864043Z"
    }
   },
   "cell_type": "code",
   "source": [
    "# Remove Null Values\n",
    "df.dropna(inplace=True)"
   ],
   "id": "5dea8bfed4e6cfbd",
   "outputs": [],
   "execution_count": 62
  },
  {
   "metadata": {
    "ExecuteTime": {
     "end_time": "2024-10-18T09:48:25.666610Z",
     "start_time": "2024-10-18T09:48:24.880441Z"
    }
   },
   "cell_type": "code",
   "source": [
    "# Drop unused column\n",
    "df.drop(['hvfhs_license_num','dispatching_base_num','originating_base_num','base_passenger_fare','tolls','bcf','sales_tax','congestion_surcharge','airport_fee','tips','driver_pay','shared_match_flag','shared_request_flag','access_a_ride_flag','wav_match_flag','wav_request_flag'],axis=1, inplace=True)"
   ],
   "id": "b7870d237ac75932",
   "outputs": [],
   "execution_count": 63
  },
  {
   "metadata": {
    "ExecuteTime": {
     "end_time": "2024-10-18T09:48:44.572642Z",
     "start_time": "2024-10-18T09:48:44.277121Z"
    }
   },
   "cell_type": "code",
   "source": [
    "# Cast the start/end station id to numbers\n",
    "df[['Pickup', 'Drop']] = df[['PULocationID', 'DOLocationID']].apply(pd.to_numeric, errors='coerce')"
   ],
   "id": "44ea29aced4173e2",
   "outputs": [],
   "execution_count": 64
  },
  {
   "metadata": {
    "ExecuteTime": {
     "end_time": "2024-10-18T09:48:45.111341Z",
     "start_time": "2024-10-18T09:48:44.606179Z"
    }
   },
   "cell_type": "code",
   "source": [
    "# Convert to Date/time\n",
    "df['started_at']=pd.to_datetime(df['request_datetime'])\n",
    "df['ended_at']=pd.to_datetime(df['dropoff_datetime'])"
   ],
   "id": "1c6e59cffc9bbb05",
   "outputs": [],
   "execution_count": 65
  },
  {
   "metadata": {
    "ExecuteTime": {
     "end_time": "2024-10-18T09:48:51.094182Z",
     "start_time": "2024-10-18T09:48:50.332203Z"
    }
   },
   "cell_type": "code",
   "source": [
    "# Get time of day in terms of percentage\n",
    "df['start_time'] = (df['started_at'].dt.hour + (df['started_at'].dt.minute / 60)) / 24\n",
    "\n",
    "# Convert time of day to cyclic features using sine and cosine\n",
    "df['time_sin'] = np.sin(2 * np.pi * df['start_time'])\n",
    "df['time_cos'] = np.cos(2 * np.pi * df['start_time'])"
   ],
   "id": "613fa105c616a54b",
   "outputs": [],
   "execution_count": 66
  },
  {
   "metadata": {
    "ExecuteTime": {
     "end_time": "2024-10-18T09:48:57.769652Z",
     "start_time": "2024-10-18T09:48:56.616868Z"
    }
   },
   "cell_type": "code",
   "source": [
    "# Also consider cyclic day of the week\n",
    "df['day_sin'] = np.sin(2 * np.pi * df['started_at'].dt.dayofweek / 7)\n",
    "df['day_cos'] = np.cos(2 * np.pi * df['started_at'].dt.dayofweek / 7)"
   ],
   "id": "e78a0e485c99c77c",
   "outputs": [],
   "execution_count": 67
  },
  {
   "metadata": {
    "ExecuteTime": {
     "end_time": "2024-10-18T09:49:04.310619Z",
     "start_time": "2024-10-18T09:49:04.281435Z"
    }
   },
   "cell_type": "code",
   "source": "df.info()",
   "id": "2fb1879438bba08f",
   "outputs": [
    {
     "name": "stdout",
     "output_type": "stream",
     "text": [
      "<class 'pandas.core.frame.DataFrame'>\n",
      "Index: 13587039 entries, 0 to 18479030\n",
      "Data columns (total 17 columns):\n",
      " #   Column             Dtype         \n",
      "---  ------             -----         \n",
      " 0   request_datetime   datetime64[us]\n",
      " 1   on_scene_datetime  datetime64[us]\n",
      " 2   pickup_datetime    datetime64[us]\n",
      " 3   dropoff_datetime   datetime64[us]\n",
      " 4   PULocationID       int64         \n",
      " 5   DOLocationID       int64         \n",
      " 6   trip_miles         float64       \n",
      " 7   trip_time          int64         \n",
      " 8   Pickup             int64         \n",
      " 9   Drop               int64         \n",
      " 10  started_at         datetime64[us]\n",
      " 11  ended_at           datetime64[us]\n",
      " 12  start_time         float64       \n",
      " 13  time_sin           float64       \n",
      " 14  time_cos           float64       \n",
      " 15  day_sin            float64       \n",
      " 16  day_cos            float64       \n",
      "dtypes: datetime64[us](6), float64(6), int64(5)\n",
      "memory usage: 1.8 GB\n"
     ]
    }
   ],
   "execution_count": 68
  },
  {
   "metadata": {
    "ExecuteTime": {
     "end_time": "2024-10-18T09:49:11.096071Z",
     "start_time": "2024-10-18T09:49:11.079600Z"
    }
   },
   "cell_type": "code",
   "source": "df.head()",
   "id": "624d04636e97d00c",
   "outputs": [
    {
     "data": {
      "text/plain": [
       "     request_datetime   on_scene_datetime     pickup_datetime  \\\n",
       "0 2023-01-01 00:18:06 2023-01-01 00:19:24 2023-01-01 00:19:38   \n",
       "1 2023-01-01 00:48:42 2023-01-01 00:56:20 2023-01-01 00:58:39   \n",
       "2 2023-01-01 00:15:35 2023-01-01 00:20:14 2023-01-01 00:20:27   \n",
       "3 2023-01-01 00:35:24 2023-01-01 00:39:30 2023-01-01 00:41:05   \n",
       "4 2023-01-01 00:43:15 2023-01-01 00:51:10 2023-01-01 00:52:47   \n",
       "\n",
       "     dropoff_datetime  PULocationID  DOLocationID  trip_miles  trip_time  \\\n",
       "0 2023-01-01 00:48:07            48            68        0.94       1709   \n",
       "1 2023-01-01 01:33:08           246           163        2.78       2069   \n",
       "2 2023-01-01 00:37:54             9           129        8.81       1047   \n",
       "3 2023-01-01 00:48:16           129           129        0.67        431   \n",
       "4 2023-01-01 01:04:51           129            92        4.38        724   \n",
       "\n",
       "   Pickup  Drop          started_at            ended_at  start_time  time_sin  \\\n",
       "0      48    68 2023-01-01 00:18:06 2023-01-01 00:48:07    0.012500  0.078459   \n",
       "1     246   163 2023-01-01 00:48:42 2023-01-01 01:33:08    0.033333  0.207912   \n",
       "2       9   129 2023-01-01 00:15:35 2023-01-01 00:37:54    0.010417  0.065403   \n",
       "3     129   129 2023-01-01 00:35:24 2023-01-01 00:48:16    0.024306  0.152123   \n",
       "4     129    92 2023-01-01 00:43:15 2023-01-01 01:04:51    0.029861  0.186524   \n",
       "\n",
       "   time_cos   day_sin  day_cos  \n",
       "0  0.996917 -0.781831  0.62349  \n",
       "1  0.978148 -0.781831  0.62349  \n",
       "2  0.997859 -0.781831  0.62349  \n",
       "3  0.988362 -0.781831  0.62349  \n",
       "4  0.982450 -0.781831  0.62349  "
      ],
      "text/html": [
       "<div>\n",
       "<style scoped>\n",
       "    .dataframe tbody tr th:only-of-type {\n",
       "        vertical-align: middle;\n",
       "    }\n",
       "\n",
       "    .dataframe tbody tr th {\n",
       "        vertical-align: top;\n",
       "    }\n",
       "\n",
       "    .dataframe thead th {\n",
       "        text-align: right;\n",
       "    }\n",
       "</style>\n",
       "<table border=\"1\" class=\"dataframe\">\n",
       "  <thead>\n",
       "    <tr style=\"text-align: right;\">\n",
       "      <th></th>\n",
       "      <th>request_datetime</th>\n",
       "      <th>on_scene_datetime</th>\n",
       "      <th>pickup_datetime</th>\n",
       "      <th>dropoff_datetime</th>\n",
       "      <th>PULocationID</th>\n",
       "      <th>DOLocationID</th>\n",
       "      <th>trip_miles</th>\n",
       "      <th>trip_time</th>\n",
       "      <th>Pickup</th>\n",
       "      <th>Drop</th>\n",
       "      <th>started_at</th>\n",
       "      <th>ended_at</th>\n",
       "      <th>start_time</th>\n",
       "      <th>time_sin</th>\n",
       "      <th>time_cos</th>\n",
       "      <th>day_sin</th>\n",
       "      <th>day_cos</th>\n",
       "    </tr>\n",
       "  </thead>\n",
       "  <tbody>\n",
       "    <tr>\n",
       "      <th>0</th>\n",
       "      <td>2023-01-01 00:18:06</td>\n",
       "      <td>2023-01-01 00:19:24</td>\n",
       "      <td>2023-01-01 00:19:38</td>\n",
       "      <td>2023-01-01 00:48:07</td>\n",
       "      <td>48</td>\n",
       "      <td>68</td>\n",
       "      <td>0.94</td>\n",
       "      <td>1709</td>\n",
       "      <td>48</td>\n",
       "      <td>68</td>\n",
       "      <td>2023-01-01 00:18:06</td>\n",
       "      <td>2023-01-01 00:48:07</td>\n",
       "      <td>0.012500</td>\n",
       "      <td>0.078459</td>\n",
       "      <td>0.996917</td>\n",
       "      <td>-0.781831</td>\n",
       "      <td>0.62349</td>\n",
       "    </tr>\n",
       "    <tr>\n",
       "      <th>1</th>\n",
       "      <td>2023-01-01 00:48:42</td>\n",
       "      <td>2023-01-01 00:56:20</td>\n",
       "      <td>2023-01-01 00:58:39</td>\n",
       "      <td>2023-01-01 01:33:08</td>\n",
       "      <td>246</td>\n",
       "      <td>163</td>\n",
       "      <td>2.78</td>\n",
       "      <td>2069</td>\n",
       "      <td>246</td>\n",
       "      <td>163</td>\n",
       "      <td>2023-01-01 00:48:42</td>\n",
       "      <td>2023-01-01 01:33:08</td>\n",
       "      <td>0.033333</td>\n",
       "      <td>0.207912</td>\n",
       "      <td>0.978148</td>\n",
       "      <td>-0.781831</td>\n",
       "      <td>0.62349</td>\n",
       "    </tr>\n",
       "    <tr>\n",
       "      <th>2</th>\n",
       "      <td>2023-01-01 00:15:35</td>\n",
       "      <td>2023-01-01 00:20:14</td>\n",
       "      <td>2023-01-01 00:20:27</td>\n",
       "      <td>2023-01-01 00:37:54</td>\n",
       "      <td>9</td>\n",
       "      <td>129</td>\n",
       "      <td>8.81</td>\n",
       "      <td>1047</td>\n",
       "      <td>9</td>\n",
       "      <td>129</td>\n",
       "      <td>2023-01-01 00:15:35</td>\n",
       "      <td>2023-01-01 00:37:54</td>\n",
       "      <td>0.010417</td>\n",
       "      <td>0.065403</td>\n",
       "      <td>0.997859</td>\n",
       "      <td>-0.781831</td>\n",
       "      <td>0.62349</td>\n",
       "    </tr>\n",
       "    <tr>\n",
       "      <th>3</th>\n",
       "      <td>2023-01-01 00:35:24</td>\n",
       "      <td>2023-01-01 00:39:30</td>\n",
       "      <td>2023-01-01 00:41:05</td>\n",
       "      <td>2023-01-01 00:48:16</td>\n",
       "      <td>129</td>\n",
       "      <td>129</td>\n",
       "      <td>0.67</td>\n",
       "      <td>431</td>\n",
       "      <td>129</td>\n",
       "      <td>129</td>\n",
       "      <td>2023-01-01 00:35:24</td>\n",
       "      <td>2023-01-01 00:48:16</td>\n",
       "      <td>0.024306</td>\n",
       "      <td>0.152123</td>\n",
       "      <td>0.988362</td>\n",
       "      <td>-0.781831</td>\n",
       "      <td>0.62349</td>\n",
       "    </tr>\n",
       "    <tr>\n",
       "      <th>4</th>\n",
       "      <td>2023-01-01 00:43:15</td>\n",
       "      <td>2023-01-01 00:51:10</td>\n",
       "      <td>2023-01-01 00:52:47</td>\n",
       "      <td>2023-01-01 01:04:51</td>\n",
       "      <td>129</td>\n",
       "      <td>92</td>\n",
       "      <td>4.38</td>\n",
       "      <td>724</td>\n",
       "      <td>129</td>\n",
       "      <td>92</td>\n",
       "      <td>2023-01-01 00:43:15</td>\n",
       "      <td>2023-01-01 01:04:51</td>\n",
       "      <td>0.029861</td>\n",
       "      <td>0.186524</td>\n",
       "      <td>0.982450</td>\n",
       "      <td>-0.781831</td>\n",
       "      <td>0.62349</td>\n",
       "    </tr>\n",
       "  </tbody>\n",
       "</table>\n",
       "</div>"
      ]
     },
     "execution_count": 69,
     "metadata": {},
     "output_type": "execute_result"
    }
   ],
   "execution_count": 69
  },
  {
   "metadata": {},
   "cell_type": "markdown",
   "source": "# Visualization",
   "id": "e29875481c046e76"
  },
  {
   "metadata": {
    "ExecuteTime": {
     "end_time": "2024-10-18T09:49:18.432138Z",
     "start_time": "2024-10-18T09:49:17.568183Z"
    }
   },
   "cell_type": "code",
   "source": [
    "plt.figure(figsize=(15,6))\n",
    "df['Pickup'].value_counts(sort=False).sort_index().plot(kind='bar')\n",
    "plt.xlabel(\"Start Station\")\n",
    "plt.ylabel(\"Count\")\n",
    "plt.show()"
   ],
   "id": "dfaec2cf9ceee97e",
   "outputs": [
    {
     "data": {
      "text/plain": [
       "<Figure size 1500x600 with 1 Axes>"
      ],
      "image/png": "[encoded data removed]"
     },
     "metadata": {},
     "output_type": "display_data"
    }
   ],
   "execution_count": 70
  },
  {
   "metadata": {
    "ExecuteTime": {
     "end_time": "2024-10-18T09:49:19.048571Z",
     "start_time": "2024-10-18T09:49:18.459148Z"
    }
   },
   "cell_type": "code",
   "source": [
    "plt.figure(figsize=(15,6))\n",
    "df['started_at'].dt.dayofweek.value_counts(sort=False).sort_index().plot(kind='bar')\n",
    "plt.xlabel(\"Day of week\")\n",
    "plt.ylabel(\"Count\")\n",
    "plt.show()"
   ],
   "id": "228d3b5ab5d3ea8d",
   "outputs": [
    {
     "data": {
      "text/plain": [
       "<Figure size 1500x600 with 1 Axes>"
      ],
      "image/png": "[encoded data removed]"
     },
     "metadata": {},
     "output_type": "display_data"
    }
   ],
   "execution_count": 71
  },
  {
   "metadata": {},
   "cell_type": "markdown",
   "source": "# Predicting Start Points",
   "id": "7e1aae2b55666bf0"
  },
  {
   "metadata": {
    "ExecuteTime": {
     "end_time": "2024-10-18T09:49:47.834926Z",
     "start_time": "2024-10-18T09:49:47.116438Z"
    }
   },
   "cell_type": "code",
   "source": "max(df['Pickup'])",
   "id": "151dc4992b8ff769",
   "outputs": [
    {
     "data": {
      "text/plain": [
       "265"
      ]
     },
     "execution_count": 73,
     "metadata": {},
     "output_type": "execute_result"
    }
   ],
   "execution_count": 73
  },
  {
   "metadata": {
    "ExecuteTime": {
     "end_time": "2024-10-18T09:50:02.770297Z",
     "start_time": "2024-10-18T09:50:02.759145Z"
    }
   },
   "cell_type": "code",
   "source": [
    "features = ['time_sin','time_cos','day_sin','day_cos']\n",
    "targets = ['Pickup']"
   ],
   "id": "9fdd7c913f4ee3e3",
   "outputs": [],
   "execution_count": 76
  },
  {
   "metadata": {
    "ExecuteTime": {
     "end_time": "2024-10-18T09:50:08.942288Z",
     "start_time": "2024-10-18T09:50:08.932956Z"
    }
   },
   "cell_type": "code",
   "source": "from sklearn.model_selection import train_test_split",
   "id": "49c27b1411455269",
   "outputs": [],
   "execution_count": 77
  },
  {
   "metadata": {
    "ExecuteTime": {
     "end_time": "2024-10-18T09:50:34.752149Z",
     "start_time": "2024-10-18T09:50:32.249838Z"
    }
   },
   "cell_type": "code",
   "source": "X_train, X_test, y_train, y_test = train_test_split(df[features], df[targets], test_size=0.2, random_state=42)",
   "id": "fc7b1784092b3252",
   "outputs": [],
   "execution_count": 80
  },
  {
   "metadata": {
    "ExecuteTime": {
     "end_time": "2024-10-18T09:50:39.738920Z",
     "start_time": "2024-10-18T09:50:39.726662Z"
    }
   },
   "cell_type": "code",
   "source": "from sklearn.preprocessing import StandardScaler",
   "id": "3f58f4a6f5e4efd2",
   "outputs": [],
   "execution_count": 81
  },
  {
   "metadata": {
    "ExecuteTime": {
     "end_time": "2024-10-18T09:50:49.950536Z",
     "start_time": "2024-10-18T09:50:48.831213Z"
    }
   },
   "cell_type": "code",
   "source": [
    "scaler = StandardScaler()\n",
    "X_train = scaler.fit_transform(X_train)\n",
    "X_test = scaler.transform(X_test)"
   ],
   "id": "70833acb2c691ec2",
   "outputs": [],
   "execution_count": 82
  },
  {
   "metadata": {
    "ExecuteTime": {
     "end_time": "2024-10-18T09:50:49.965548Z",
     "start_time": "2024-10-18T09:50:49.961024Z"
    }
   },
   "cell_type": "code",
   "source": "from tensorflow.keras.utils import to_categorical",
   "id": "b9a13dc522abe3de",
   "outputs": [],
   "execution_count": 83
  },
  {
   "metadata": {
    "ExecuteTime": {
     "end_time": "2024-10-18T09:51:01.697299Z",
     "start_time": "2024-10-18T09:51:01.563594Z"
    }
   },
   "cell_type": "code",
   "source": [
    "y_train = y_train.values.flatten()\n",
    "y_test = y_test.values.flatten()"
   ],
   "id": "b816329760d8ff5a",
   "outputs": [],
   "execution_count": 85
  },
  {
   "metadata": {
    "ExecuteTime": {
     "end_time": "2024-10-18T09:52:17.545599Z",
     "start_time": "2024-10-18T09:52:17.537030Z"
    }
   },
   "cell_type": "code",
   "source": "X_train.shape",
   "id": "ae78a10a275ef5c7",
   "outputs": [
    {
     "data": {
      "text/plain": [
       "(10869631, 4)"
      ]
     },
     "execution_count": 89,
     "metadata": {},
     "output_type": "execute_result"
    }
   ],
   "execution_count": 89
  },
  {
   "metadata": {
    "ExecuteTime": {
     "end_time": "2024-10-18T09:56:01.707186Z",
     "start_time": "2024-10-18T09:56:01.635716Z"
    }
   },
   "cell_type": "code",
   "source": [
    "y_train = np.array(y_train).astype(int)\n",
    "y_test = np.array(y_test).astype(int)"
   ],
   "id": "ec1f8d57df226505",
   "outputs": [],
   "execution_count": 93
  },
  {
   "metadata": {
    "jupyter": {
     "is_executing": true
    },
    "ExecuteTime": {
     "start_time": "2024-10-18T09:56:36.182622Z"
    }
   },
   "cell_type": "code",
   "source": [
    "y_train = to_categorical(y_train, 266)\n",
    "y_test = to_categorical(y_test, 266)"
   ],
   "id": "e7d95057716b49a5",
   "outputs": [],
   "execution_count": null
  },
  {
   "metadata": {
    "ExecuteTime": {
     "end_time": "2024-10-18T06:30:03.874696Z",
     "start_time": "2024-10-18T06:30:03.792347Z"
    }
   },
   "cell_type": "code",
   "source": [
    "model = tf.keras.Sequential()\n",
    "\n",
    "# Input layer\n",
    "model.add(tf.keras.layers.InputLayer(input_shape=X_train.shape[1:]))\n",
    "\n",
    "# Hidden layers\n",
    "model.add(tf.keras.layers.Dense(64, activation='relu'))\n",
    "model.add(tf.keras.layers.Dense(32, activation='relu'))\n",
    "\n",
    "# Output layer (assuming 'n' distinct starting points to predict)\n",
    "model.add(tf.keras.layers.Dense(265, activation='softmax'))"
   ],
   "id": "adc70f66d0a6c979",
   "outputs": [
    {
     "name": "stderr",
     "output_type": "stream",
     "text": [
      "/Users/mridulverma/PycharmProjects/ridesharing-optimization/venv/lib/python3.9/site-packages/keras/src/layers/core/input_layer.py:26: UserWarning: Argument `input_shape` is deprecated. Use `shape` instead.\n",
      "  warnings.warn(\n"
     ]
    }
   ],
   "execution_count": 40
  },
  {
   "metadata": {
    "ExecuteTime": {
     "end_time": "2024-10-18T06:30:09.864535Z",
     "start_time": "2024-10-18T06:30:09.721021Z"
    }
   },
   "cell_type": "code",
   "source": "model.summary()",
   "id": "7d9516835bf34dfd",
   "outputs": [
    {
     "data": {
      "text/plain": [
       "\u001B[1mModel: \"sequential_1\"\u001B[0m\n"
      ],
      "text/html": [
       "<pre style=\"white-space:pre;overflow-x:auto;line-height:normal;font-family:Menlo,'DejaVu Sans Mono',consolas,'Courier New',monospace\"><span style=\"font-weight: bold\">Model: \"sequential_1\"</span>\n",
       "</pre>\n"
      ]
     },
     "metadata": {},
     "output_type": "display_data"
    },
    {
     "data": {
      "text/plain": [
       "┏━━━━━━━━━━━━━━━━━━━━━━━━━━━━━━━━━┳━━━━━━━━━━━━━━━━━━━━━━━━┳━━━━━━━━━━━━━━━┓\n",
       "┃\u001B[1m \u001B[0m\u001B[1mLayer (type)                   \u001B[0m\u001B[1m \u001B[0m┃\u001B[1m \u001B[0m\u001B[1mOutput Shape          \u001B[0m\u001B[1m \u001B[0m┃\u001B[1m \u001B[0m\u001B[1m      Param #\u001B[0m\u001B[1m \u001B[0m┃\n",
       "┡━━━━━━━━━━━━━━━━━━━━━━━━━━━━━━━━━╇━━━━━━━━━━━━━━━━━━━━━━━━╇━━━━━━━━━━━━━━━┩\n",
       "│ dense_3 (\u001B[38;5;33mDense\u001B[0m)                 │ (\u001B[38;5;45mNone\u001B[0m, \u001B[38;5;34m64\u001B[0m)             │           \u001B[38;5;34m320\u001B[0m │\n",
       "├─────────────────────────────────┼────────────────────────┼───────────────┤\n",
       "│ dense_4 (\u001B[38;5;33mDense\u001B[0m)                 │ (\u001B[38;5;45mNone\u001B[0m, \u001B[38;5;34m32\u001B[0m)             │         \u001B[38;5;34m2,080\u001B[0m │\n",
       "├─────────────────────────────────┼────────────────────────┼───────────────┤\n",
       "│ dense_5 (\u001B[38;5;33mDense\u001B[0m)                 │ (\u001B[38;5;45mNone\u001B[0m, \u001B[38;5;34m265\u001B[0m)            │         \u001B[38;5;34m8,745\u001B[0m │\n",
       "└─────────────────────────────────┴────────────────────────┴───────────────┘\n"
      ],
      "text/html": [
       "<pre style=\"white-space:pre;overflow-x:auto;line-height:normal;font-family:Menlo,'DejaVu Sans Mono',consolas,'Courier New',monospace\">┏━━━━━━━━━━━━━━━━━━━━━━━━━━━━━━━━━┳━━━━━━━━━━━━━━━━━━━━━━━━┳━━━━━━━━━━━━━━━┓\n",
       "┃<span style=\"font-weight: bold\"> Layer (type)                    </span>┃<span style=\"font-weight: bold\"> Output Shape           </span>┃<span style=\"font-weight: bold\">       Param # </span>┃\n",
       "┡━━━━━━━━━━━━━━━━━━━━━━━━━━━━━━━━━╇━━━━━━━━━━━━━━━━━━━━━━━━╇━━━━━━━━━━━━━━━┩\n",
       "│ dense_3 (<span style=\"color: #0087ff; text-decoration-color: #0087ff\">Dense</span>)                 │ (<span style=\"color: #00d7ff; text-decoration-color: #00d7ff\">None</span>, <span style=\"color: #00af00; text-decoration-color: #00af00\">64</span>)             │           <span style=\"color: #00af00; text-decoration-color: #00af00\">320</span> │\n",
       "├─────────────────────────────────┼────────────────────────┼───────────────┤\n",
       "│ dense_4 (<span style=\"color: #0087ff; text-decoration-color: #0087ff\">Dense</span>)                 │ (<span style=\"color: #00d7ff; text-decoration-color: #00d7ff\">None</span>, <span style=\"color: #00af00; text-decoration-color: #00af00\">32</span>)             │         <span style=\"color: #00af00; text-decoration-color: #00af00\">2,080</span> │\n",
       "├─────────────────────────────────┼────────────────────────┼───────────────┤\n",
       "│ dense_5 (<span style=\"color: #0087ff; text-decoration-color: #0087ff\">Dense</span>)                 │ (<span style=\"color: #00d7ff; text-decoration-color: #00d7ff\">None</span>, <span style=\"color: #00af00; text-decoration-color: #00af00\">265</span>)            │         <span style=\"color: #00af00; text-decoration-color: #00af00\">8,745</span> │\n",
       "└─────────────────────────────────┴────────────────────────┴───────────────┘\n",
       "</pre>\n"
      ]
     },
     "metadata": {},
     "output_type": "display_data"
    },
    {
     "data": {
      "text/plain": [
       "\u001B[1m Total params: \u001B[0m\u001B[38;5;34m11,145\u001B[0m (43.54 KB)\n"
      ],
      "text/html": [
       "<pre style=\"white-space:pre;overflow-x:auto;line-height:normal;font-family:Menlo,'DejaVu Sans Mono',consolas,'Courier New',monospace\"><span style=\"font-weight: bold\"> Total params: </span><span style=\"color: #00af00; text-decoration-color: #00af00\">11,145</span> (43.54 KB)\n",
       "</pre>\n"
      ]
     },
     "metadata": {},
     "output_type": "display_data"
    },
    {
     "data": {
      "text/plain": [
       "\u001B[1m Trainable params: \u001B[0m\u001B[38;5;34m11,145\u001B[0m (43.54 KB)\n"
      ],
      "text/html": [
       "<pre style=\"white-space:pre;overflow-x:auto;line-height:normal;font-family:Menlo,'DejaVu Sans Mono',consolas,'Courier New',monospace\"><span style=\"font-weight: bold\"> Trainable params: </span><span style=\"color: #00af00; text-decoration-color: #00af00\">11,145</span> (43.54 KB)\n",
       "</pre>\n"
      ]
     },
     "metadata": {},
     "output_type": "display_data"
    },
    {
     "data": {
      "text/plain": [
       "\u001B[1m Non-trainable params: \u001B[0m\u001B[38;5;34m0\u001B[0m (0.00 B)\n"
      ],
      "text/html": [
       "<pre style=\"white-space:pre;overflow-x:auto;line-height:normal;font-family:Menlo,'DejaVu Sans Mono',consolas,'Courier New',monospace\"><span style=\"font-weight: bold\"> Non-trainable params: </span><span style=\"color: #00af00; text-decoration-color: #00af00\">0</span> (0.00 B)\n",
       "</pre>\n"
      ]
     },
     "metadata": {},
     "output_type": "display_data"
    }
   ],
   "execution_count": 41
  },
  {
   "metadata": {
    "ExecuteTime": {
     "end_time": "2024-10-18T06:32:03.137965Z",
     "start_time": "2024-10-18T06:32:01.830891Z"
    }
   },
   "cell_type": "code",
   "source": [
    "model.compile(optimizer='adam',metrics=['accuracy'],loss='categorical_crossentropy')\n",
    "early_stopping = tf.keras.callbacks.EarlyStopping(monitor='val_loss', patience=5, restore_best_weights=True)\n",
    "history = model.fit(X_train, y_train, epochs=10, validation_data=(X_test, y_test), callbacks=[early_stopping])\n",
    "model.save('model.keras')"
   ],
   "id": "2a681be585df909f",
   "outputs": [
    {
     "name": "stdout",
     "output_type": "stream",
     "text": [
      "Epoch 1/10\n"
     ]
    },
    {
     "ename": "ValueError",
     "evalue": "Arguments `target` and `output` must have the same shape. Received: target.shape=(None, 1), output.shape=(None, 265)",
     "output_type": "error",
     "traceback": [
      "\u001B[0;31m---------------------------------------------------------------------------\u001B[0m",
      "\u001B[0;31mValueError\u001B[0m                                Traceback (most recent call last)",
      "Cell \u001B[0;32mIn[43], line 3\u001B[0m\n\u001B[1;32m      1\u001B[0m model\u001B[38;5;241m.\u001B[39mcompile(optimizer\u001B[38;5;241m=\u001B[39m\u001B[38;5;124m'\u001B[39m\u001B[38;5;124madam\u001B[39m\u001B[38;5;124m'\u001B[39m,metrics\u001B[38;5;241m=\u001B[39m[\u001B[38;5;124m'\u001B[39m\u001B[38;5;124maccuracy\u001B[39m\u001B[38;5;124m'\u001B[39m],loss\u001B[38;5;241m=\u001B[39m\u001B[38;5;124m'\u001B[39m\u001B[38;5;124mcategorical_crossentropy\u001B[39m\u001B[38;5;124m'\u001B[39m)\n\u001B[1;32m      2\u001B[0m early_stopping \u001B[38;5;241m=\u001B[39m tf\u001B[38;5;241m.\u001B[39mkeras\u001B[38;5;241m.\u001B[39mcallbacks\u001B[38;5;241m.\u001B[39mEarlyStopping(monitor\u001B[38;5;241m=\u001B[39m\u001B[38;5;124m'\u001B[39m\u001B[38;5;124mval_loss\u001B[39m\u001B[38;5;124m'\u001B[39m, patience\u001B[38;5;241m=\u001B[39m\u001B[38;5;241m5\u001B[39m, restore_best_weights\u001B[38;5;241m=\u001B[39m\u001B[38;5;28;01mTrue\u001B[39;00m)\n\u001B[0;32m----> 3\u001B[0m history \u001B[38;5;241m=\u001B[39m \u001B[43mmodel\u001B[49m\u001B[38;5;241;43m.\u001B[39;49m\u001B[43mfit\u001B[49m\u001B[43m(\u001B[49m\u001B[43mX_train\u001B[49m\u001B[43m,\u001B[49m\u001B[43m \u001B[49m\u001B[43my_train\u001B[49m\u001B[43m,\u001B[49m\u001B[43m \u001B[49m\u001B[43mepochs\u001B[49m\u001B[38;5;241;43m=\u001B[39;49m\u001B[38;5;241;43m10\u001B[39;49m\u001B[43m,\u001B[49m\u001B[43m \u001B[49m\u001B[43mvalidation_data\u001B[49m\u001B[38;5;241;43m=\u001B[39;49m\u001B[43m(\u001B[49m\u001B[43mX_test\u001B[49m\u001B[43m,\u001B[49m\u001B[43m \u001B[49m\u001B[43my_test\u001B[49m\u001B[43m)\u001B[49m\u001B[43m,\u001B[49m\u001B[43m \u001B[49m\u001B[43mcallbacks\u001B[49m\u001B[38;5;241;43m=\u001B[39;49m\u001B[43m[\u001B[49m\u001B[43mearly_stopping\u001B[49m\u001B[43m]\u001B[49m\u001B[43m)\u001B[49m\n\u001B[1;32m      4\u001B[0m model\u001B[38;5;241m.\u001B[39msave(\u001B[38;5;124m'\u001B[39m\u001B[38;5;124mmodel.keras\u001B[39m\u001B[38;5;124m'\u001B[39m)\n",
      "File \u001B[0;32m~/PycharmProjects/ridesharing-optimization/venv/lib/python3.9/site-packages/keras/src/utils/traceback_utils.py:122\u001B[0m, in \u001B[0;36mfilter_traceback.<locals>.error_handler\u001B[0;34m(*args, **kwargs)\u001B[0m\n\u001B[1;32m    119\u001B[0m     filtered_tb \u001B[38;5;241m=\u001B[39m _process_traceback_frames(e\u001B[38;5;241m.\u001B[39m__traceback__)\n\u001B[1;32m    120\u001B[0m     \u001B[38;5;66;03m# To get the full stack trace, call:\u001B[39;00m\n\u001B[1;32m    121\u001B[0m     \u001B[38;5;66;03m# `keras.config.disable_traceback_filtering()`\u001B[39;00m\n\u001B[0;32m--> 122\u001B[0m     \u001B[38;5;28;01mraise\u001B[39;00m e\u001B[38;5;241m.\u001B[39mwith_traceback(filtered_tb) \u001B[38;5;28;01mfrom\u001B[39;00m \u001B[38;5;28;01mNone\u001B[39;00m\n\u001B[1;32m    123\u001B[0m \u001B[38;5;28;01mfinally\u001B[39;00m:\n\u001B[1;32m    124\u001B[0m     \u001B[38;5;28;01mdel\u001B[39;00m filtered_tb\n",
      "File \u001B[0;32m~/PycharmProjects/ridesharing-optimization/venv/lib/python3.9/site-packages/keras/src/backend/tensorflow/nn.py:587\u001B[0m, in \u001B[0;36mcategorical_crossentropy\u001B[0;34m(target, output, from_logits, axis)\u001B[0m\n\u001B[1;32m    585\u001B[0m \u001B[38;5;28;01mfor\u001B[39;00m e1, e2 \u001B[38;5;129;01min\u001B[39;00m \u001B[38;5;28mzip\u001B[39m(target\u001B[38;5;241m.\u001B[39mshape, output\u001B[38;5;241m.\u001B[39mshape):\n\u001B[1;32m    586\u001B[0m     \u001B[38;5;28;01mif\u001B[39;00m e1 \u001B[38;5;129;01mis\u001B[39;00m \u001B[38;5;129;01mnot\u001B[39;00m \u001B[38;5;28;01mNone\u001B[39;00m \u001B[38;5;129;01mand\u001B[39;00m e2 \u001B[38;5;129;01mis\u001B[39;00m \u001B[38;5;129;01mnot\u001B[39;00m \u001B[38;5;28;01mNone\u001B[39;00m \u001B[38;5;129;01mand\u001B[39;00m e1 \u001B[38;5;241m!=\u001B[39m e2:\n\u001B[0;32m--> 587\u001B[0m         \u001B[38;5;28;01mraise\u001B[39;00m \u001B[38;5;167;01mValueError\u001B[39;00m(\n\u001B[1;32m    588\u001B[0m             \u001B[38;5;124m\"\u001B[39m\u001B[38;5;124mArguments `target` and `output` must have the same shape. \u001B[39m\u001B[38;5;124m\"\u001B[39m\n\u001B[1;32m    589\u001B[0m             \u001B[38;5;124m\"\u001B[39m\u001B[38;5;124mReceived: \u001B[39m\u001B[38;5;124m\"\u001B[39m\n\u001B[1;32m    590\u001B[0m             \u001B[38;5;124mf\u001B[39m\u001B[38;5;124m\"\u001B[39m\u001B[38;5;124mtarget.shape=\u001B[39m\u001B[38;5;132;01m{\u001B[39;00mtarget\u001B[38;5;241m.\u001B[39mshape\u001B[38;5;132;01m}\u001B[39;00m\u001B[38;5;124m, output.shape=\u001B[39m\u001B[38;5;132;01m{\u001B[39;00moutput\u001B[38;5;241m.\u001B[39mshape\u001B[38;5;132;01m}\u001B[39;00m\u001B[38;5;124m\"\u001B[39m\n\u001B[1;32m    591\u001B[0m         )\n\u001B[1;32m    593\u001B[0m output, from_logits \u001B[38;5;241m=\u001B[39m _get_logits(\n\u001B[1;32m    594\u001B[0m     output, from_logits, \u001B[38;5;124m\"\u001B[39m\u001B[38;5;124mSoftmax\u001B[39m\u001B[38;5;124m\"\u001B[39m, \u001B[38;5;124m\"\u001B[39m\u001B[38;5;124mcategorical_crossentropy\u001B[39m\u001B[38;5;124m\"\u001B[39m\n\u001B[1;32m    595\u001B[0m )\n\u001B[1;32m    596\u001B[0m \u001B[38;5;28;01mif\u001B[39;00m from_logits:\n",
      "\u001B[0;31mValueError\u001B[0m: Arguments `target` and `output` must have the same shape. Received: target.shape=(None, 1), output.shape=(None, 265)"
     ]
    }
   ],
   "execution_count": 43
  },
  {
   "metadata": {},
   "cell_type": "code",
   "source": [
    "plt.plot(history.history['accuracy'], label='training accuracy')\n",
    "plt.plot(history.history['val_accuracy'], label='validation accuracy')\n",
    "plt.title('Accuracy')\n",
    "plt.xlabel('Epochs')\n",
    "plt.ylabel('Accuracy')\n",
    "plt.legend()\n",
    "plt.show()"
   ],
   "id": "687e67915670439",
   "outputs": [],
   "execution_count": null
  },
  {
   "metadata": {},
   "cell_type": "code",
   "source": "model = tf.keras.models.load_model('model.keras')",
   "id": "3c6053696638e241",
   "outputs": [],
   "execution_count": null
  },
  {
   "metadata": {},
   "cell_type": "code",
   "source": [
    "score = model.evaluate(X_test, y_test, verbose=0)\n",
    "print('Test loss:', score[0])\n",
    "print('Test accuracy:', score[1])"
   ],
   "id": "b09dc437d82ec71",
   "outputs": [],
   "execution_count": null
  },
  {
   "metadata": {},
   "cell_type": "markdown",
   "source": "# Predicing End Points",
   "id": "c0371147e102ddcb"
  },
  {
   "metadata": {},
   "cell_type": "code",
   "source": [
    "features = ['start_lat','start_lng']\n",
    "targets = ['end_lat','end_lng']"
   ],
   "id": "594c532ee2bfccb0",
   "outputs": [],
   "execution_count": null
  },
  {
   "metadata": {},
   "cell_type": "code",
   "source": "X_train, X_test, y_train, y_test = train_test_split(df[features], df[targets], test_size=0.2, random_state=42)",
   "id": "bfc1d9bea044cc",
   "outputs": [],
   "execution_count": null
  },
  {
   "metadata": {},
   "cell_type": "code",
   "source": [
    "model2 = tf.keras.Sequential([\n",
    "    tf.keras.layers.Dense(32, activation='relu', input_shape=(X_train.shape[1],),\n",
    "                          kernel_regularizer=tf.keras.regularizers.l2(0.01)),\n",
    "    tf.keras.layers.BatchNormalization(),\n",
    "    tf.keras.layers.Dropout(0.3),\n",
    "    \n",
    "    tf.keras.layers.Dense(2)\n",
    "])"
   ],
   "id": "cb64122a52f5474",
   "outputs": [],
   "execution_count": null
  },
  {
   "metadata": {},
   "cell_type": "code",
   "source": [
    "model2.compile(optimizer='adam',metrics=['accuracy'],loss='mse')\n",
    "model2.fit(X_train, y_train, epochs=1, validation_data=(X_test, y_test))"
   ],
   "id": "f36548e09f1859d7",
   "outputs": [],
   "execution_count": null
  },
  {
   "metadata": {},
   "cell_type": "code",
   "source": [
    "score = model2.evaluate(X_test, y_test, verbose=0)\n",
    "print('Test loss:', score[0])\n",
    "print('Test accuracy:', score[1])"
   ],
   "id": "76d03ddd1195d659",
   "outputs": [],
   "execution_count": null
  }
 ],
 "metadata": {
  "kernelspec": {
   "display_name": "Python 3",
   "language": "python",
   "name": "python3"
  },
  "language_info": {
   "codemirror_mode": {
    "name": "ipython",
    "version": 2
   },
   "file_extension": ".py",
   "mimetype": "text/x-python",
   "name": "python",
   "nbconvert_exporter": "python",
   "pygments_lexer": "ipython2",
   "version": "2.7.6"
  }
 },
 "nbformat": 4,
 "nbformat_minor": 5
}
